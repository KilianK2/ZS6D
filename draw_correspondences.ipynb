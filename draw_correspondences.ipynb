{
 "cells": [
  {
   "cell_type": "code",
   "id": "initial_id",
   "metadata": {
    "collapsed": true,
    "jupyter": {
     "is_executing": true
    },
    "ExecuteTime": {
     "start_time": "2024-08-28T14:57:12.678752Z"
    }
   },
   "source": [
    "import cv2\n",
    "import numpy as np\n",
    "\n",
    "# Define the points\n",
    "values2 = [(9, 1), (11, 1), (115, 117), (125, 5), (123, 117), (115, 115), (123, 5), (125, 7), (125, 117), (9, 123), (123, 7), (123, 115), (115, 109), (115, 106), (125, 115), (9, 125), (117, 117), (117, 115), (115, 9), (115, 113)]\n",
    "values1 = [(9, 1), (11, 1), (115, 117), (125, 5), (123, 117), (115, 117), (123, 5), (125, 7), (125, 7), (9, 123), (123, 7), (123, 115), (115, 106), (115, 106), (125, 7), (9, 125), (125, 7), (125, 7), (123, 9), (123, 9)]\n",
    "\n",
    "template_path = '/home/kilian/PycharmProjects/RobotVision/ZS6D/img.png'\n",
    "\n",
    "# Load the template image\n",
    "template = cv2.imread(template_path)\n",
    "\n",
    "# Check if the image was successfully loaded\n",
    "\n",
    "# Resize the image to 127x127\n",
    "new_size = (127, 127)\n",
    "template_resized = cv2.resize(template, new_size, interpolation=cv2.INTER_AREA)\n",
    "\n",
    "# Define colors for the points\n",
    "color1 = (0, 255, 0)  # Green for values1\n",
    "color2 = (0, 0, 255)  # Red for values2\n",
    "\n",
    "# Draw points on the resized image\n",
    "for point in values1:\n",
    "    cv2.circle(template_resized, point, 2, color1, -1)\n",
    "\n",
    "for point in values2:\n",
    "    cv2.circle(template_resized, point, 2, color2, -1)\n",
    "\n",
    "# Draw lines between corresponding points\n",
    "for p1, p2 in zip(values1, values2):\n",
    "    cv2.line(template_resized, p1, p2, (255, 0, 0), 1)  # Blue lines\n",
    "\n",
    "# Display the image\n",
    "cv2.imshow('Resized Template with Points', template_resized)\n",
    "cv2.waitKey(0)\n",
    "cv2.destroyAllWindows()"
   ],
   "outputs": [],
   "execution_count": null
  },
  {
   "metadata": {},
   "cell_type": "code",
   "source": "",
   "id": "dcac762ed0630c30",
   "outputs": [],
   "execution_count": null
  }
 ],
 "metadata": {
  "kernelspec": {
   "display_name": "Python 3",
   "language": "python",
   "name": "python3"
  },
  "language_info": {
   "codemirror_mode": {
    "name": "ipython",
    "version": 2
   },
   "file_extension": ".py",
   "mimetype": "text/x-python",
   "name": "python",
   "nbconvert_exporter": "python",
   "pygments_lexer": "ipython2",
   "version": "2.7.6"
  }
 },
 "nbformat": 4,
 "nbformat_minor": 5
}
