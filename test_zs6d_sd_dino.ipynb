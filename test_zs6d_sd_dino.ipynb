{
 "cells": [
  {
   "cell_type": "code",
   "id": "initial_id",
   "metadata": {
    "collapsed": true,
    "ExecuteTime": {
     "end_time": "2024-07-17T09:15:01.989769Z",
     "start_time": "2024-07-17T09:15:01.981520Z"
    }
   },
   "source": [
    "\"\"\"Setup for Fused_ZS6D\"\"\"\n",
    "stride = 14\n",
    "image_size_sd = 960\n",
    "image_size_dino = 840\n",
    "layer = 11\n",
    "facet = 'token'\n",
    "model_type = 'dinov2_vitb14'"
   ],
   "outputs": [],
   "execution_count": 1
  },
  {
   "metadata": {
    "ExecuteTime": {
     "end_time": "2024-07-17T09:19:16.045972Z",
     "start_time": "2024-07-17T09:15:05.036785Z"
    }
   },
   "cell_type": "code",
   "source": [
    "from zs6d_sd_dino.sd_dino.extractor_sd import load_model\n",
    "\n",
    "# Instantiating the stable diffusion model:\n",
    "model_sd, aug_sd = load_model(diffusion_ver=\"v1-5\", image_size=image_size_sd, num_timesteps=100)\n"
   ],
   "id": "afb285c8933ce976",
   "outputs": [
    {
     "name": "stdout",
     "output_type": "stream",
     "text": [
      "LatentDiffusion: Running in eps-prediction mode\n",
      "Setting up MemoryEfficientCrossAttention. Query dim is 320, context_dim is None and using 8 heads.\n",
      "Setting up MemoryEfficientCrossAttention. Query dim is 320, context_dim is 768 and using 8 heads.\n",
      "Setting up MemoryEfficientCrossAttention. Query dim is 320, context_dim is None and using 8 heads.\n",
      "Setting up MemoryEfficientCrossAttention. Query dim is 320, context_dim is 768 and using 8 heads.\n",
      "Setting up MemoryEfficientCrossAttention. Query dim is 640, context_dim is None and using 8 heads.\n",
      "Setting up MemoryEfficientCrossAttention. Query dim is 640, context_dim is 768 and using 8 heads.\n",
      "Setting up MemoryEfficientCrossAttention. Query dim is 640, context_dim is None and using 8 heads.\n",
      "Setting up MemoryEfficientCrossAttention. Query dim is 640, context_dim is 768 and using 8 heads.\n",
      "Setting up MemoryEfficientCrossAttention. Query dim is 1280, context_dim is None and using 8 heads.\n",
      "Setting up MemoryEfficientCrossAttention. Query dim is 1280, context_dim is 768 and using 8 heads.\n",
      "Setting up MemoryEfficientCrossAttention. Query dim is 1280, context_dim is None and using 8 heads.\n",
      "Setting up MemoryEfficientCrossAttention. Query dim is 1280, context_dim is 768 and using 8 heads.\n",
      "Setting up MemoryEfficientCrossAttention. Query dim is 1280, context_dim is None and using 8 heads.\n",
      "Setting up MemoryEfficientCrossAttention. Query dim is 1280, context_dim is 768 and using 8 heads.\n",
      "Setting up MemoryEfficientCrossAttention. Query dim is 1280, context_dim is None and using 8 heads.\n",
      "Setting up MemoryEfficientCrossAttention. Query dim is 1280, context_dim is 768 and using 8 heads.\n",
      "Setting up MemoryEfficientCrossAttention. Query dim is 1280, context_dim is None and using 8 heads.\n",
      "Setting up MemoryEfficientCrossAttention. Query dim is 1280, context_dim is 768 and using 8 heads.\n",
      "Setting up MemoryEfficientCrossAttention. Query dim is 1280, context_dim is None and using 8 heads.\n",
      "Setting up MemoryEfficientCrossAttention. Query dim is 1280, context_dim is 768 and using 8 heads.\n",
      "Setting up MemoryEfficientCrossAttention. Query dim is 640, context_dim is None and using 8 heads.\n",
      "Setting up MemoryEfficientCrossAttention. Query dim is 640, context_dim is 768 and using 8 heads.\n",
      "Setting up MemoryEfficientCrossAttention. Query dim is 640, context_dim is None and using 8 heads.\n",
      "Setting up MemoryEfficientCrossAttention. Query dim is 640, context_dim is 768 and using 8 heads.\n",
      "Setting up MemoryEfficientCrossAttention. Query dim is 640, context_dim is None and using 8 heads.\n",
      "Setting up MemoryEfficientCrossAttention. Query dim is 640, context_dim is 768 and using 8 heads.\n",
      "Setting up MemoryEfficientCrossAttention. Query dim is 320, context_dim is None and using 8 heads.\n",
      "Setting up MemoryEfficientCrossAttention. Query dim is 320, context_dim is 768 and using 8 heads.\n",
      "Setting up MemoryEfficientCrossAttention. Query dim is 320, context_dim is None and using 8 heads.\n",
      "Setting up MemoryEfficientCrossAttention. Query dim is 320, context_dim is 768 and using 8 heads.\n",
      "Setting up MemoryEfficientCrossAttention. Query dim is 320, context_dim is None and using 8 heads.\n",
      "Setting up MemoryEfficientCrossAttention. Query dim is 320, context_dim is 768 and using 8 heads.\n",
      "DiffusionWrapper has 859.52 M params.\n",
      "making attention of type 'vanilla-xformers' with 512 in_channels\n",
      "building MemoryEfficientAttnBlock with 512 in_channels...\n",
      "Working with z of shape (1, 4, 32, 32) = 4096 dimensions.\n",
      "making attention of type 'vanilla-xformers' with 512 in_channels\n",
      "building MemoryEfficientAttnBlock with 512 in_channels...\n"
     ]
    },
    {
     "name": "stderr",
     "output_type": "stream",
     "text": [
      "/home/kilian/miniconda3/envs/zs6d_sd_dino/lib/python3.9/site-packages/huggingface_hub/file_download.py:1132: FutureWarning: `resume_download` is deprecated and will be removed in version 1.0.0. Downloads always resume when possible. If you want to force a new download, use `force_download=True`.\n",
      "  warnings.warn(\n",
      "The checkpoint state_dict contains keys that are not used by the model:\n",
      "  \u001B[35mmodel_ema.{decay, num_updates}\u001B[0m\n",
      "/home/kilian/miniconda3/envs/zs6d_sd_dino/lib/python3.9/site-packages/open_clip/pretrained.py:230: UserWarning: /home/kilian/.cache/clip/ViT-L-14-336px.pt exists, but the SHA256 checksum does not match; re-downloading the file\n",
      "  warnings.warn(f\"{download_target} exists, but the SHA256 checksum does not match; re-downloading the file\")\n",
      "100%|███████████████████████████████████████| 934M/934M [00:42<00:00, 22.0MiB/s]\n"
     ]
    },
    {
     "ename": "RuntimeError",
     "evalue": "Model has been downloaded but the SHA256 checksum does not not match",
     "output_type": "error",
     "traceback": [
      "\u001B[0;31m---------------------------------------------------------------------------\u001B[0m",
      "\u001B[0;31mRuntimeError\u001B[0m                              Traceback (most recent call last)",
      "Cell \u001B[0;32mIn[2], line 4\u001B[0m\n\u001B[1;32m      1\u001B[0m \u001B[38;5;28;01mfrom\u001B[39;00m \u001B[38;5;21;01mzs6d_sd_dino\u001B[39;00m\u001B[38;5;21;01m.\u001B[39;00m\u001B[38;5;21;01msd_dino\u001B[39;00m\u001B[38;5;21;01m.\u001B[39;00m\u001B[38;5;21;01mextractor_sd\u001B[39;00m \u001B[38;5;28;01mimport\u001B[39;00m load_model\n\u001B[1;32m      3\u001B[0m \u001B[38;5;66;03m# Instantiating the stable diffusion model:\u001B[39;00m\n\u001B[0;32m----> 4\u001B[0m model_sd, aug_sd \u001B[38;5;241m=\u001B[39m \u001B[43mload_model\u001B[49m\u001B[43m(\u001B[49m\u001B[43mdiffusion_ver\u001B[49m\u001B[38;5;241;43m=\u001B[39;49m\u001B[38;5;124;43m\"\u001B[39;49m\u001B[38;5;124;43mv1-5\u001B[39;49m\u001B[38;5;124;43m\"\u001B[39;49m\u001B[43m,\u001B[49m\u001B[43m \u001B[49m\u001B[43mimage_size\u001B[49m\u001B[38;5;241;43m=\u001B[39;49m\u001B[43mimage_size_sd\u001B[49m\u001B[43m,\u001B[49m\u001B[43m \u001B[49m\u001B[43mnum_timesteps\u001B[49m\u001B[38;5;241;43m=\u001B[39;49m\u001B[38;5;241;43m100\u001B[39;49m\u001B[43m)\u001B[49m\n",
      "File \u001B[0;32m~/PycharmProjects/RobotVision/ZS6D/zs6d_sd_dino/sd_dino/extractor_sd.py:188\u001B[0m, in \u001B[0;36mload_model\u001B[0;34m(config_path, seed, diffusion_ver, image_size, num_timesteps, block_indices, decoder_only, encoder_only, resblock_only)\u001B[0m\n\u001B[1;32m    184\u001B[0m dataset_cfg \u001B[38;5;241m=\u001B[39m cfg\u001B[38;5;241m.\u001B[39mdataloader\u001B[38;5;241m.\u001B[39mtest\n\u001B[1;32m    186\u001B[0m aug \u001B[38;5;241m=\u001B[39m instantiate(dataset_cfg\u001B[38;5;241m.\u001B[39mmapper)\u001B[38;5;241m.\u001B[39maugmentations\n\u001B[0;32m--> 188\u001B[0m model \u001B[38;5;241m=\u001B[39m \u001B[43minstantiate_odise\u001B[49m\u001B[43m(\u001B[49m\u001B[43mcfg\u001B[49m\u001B[38;5;241;43m.\u001B[39;49m\u001B[43mmodel\u001B[49m\u001B[43m)\u001B[49m\n\u001B[1;32m    189\u001B[0m model\u001B[38;5;241m.\u001B[39mto(cfg\u001B[38;5;241m.\u001B[39mtrain\u001B[38;5;241m.\u001B[39mdevice)\n\u001B[1;32m    190\u001B[0m ODISECheckpointer(model)\u001B[38;5;241m.\u001B[39mload(cfg\u001B[38;5;241m.\u001B[39mtrain\u001B[38;5;241m.\u001B[39minit_checkpoint)\n",
      "File \u001B[0;32m~/miniconda3/envs/zs6d_sd_dino/lib/python3.9/site-packages/odise/config/instantiate.py:19\u001B[0m, in \u001B[0;36minstantiate_odise\u001B[0;34m(cfg)\u001B[0m\n\u001B[1;32m     17\u001B[0m cfg\u001B[38;5;241m.\u001B[39msem_seg_head\u001B[38;5;241m.\u001B[39mpixel_decoder\u001B[38;5;241m.\u001B[39minput_shape \u001B[38;5;241m=\u001B[39m backbone\u001B[38;5;241m.\u001B[39moutput_shape()\n\u001B[1;32m     18\u001B[0m cfg\u001B[38;5;241m.\u001B[39mbackbone \u001B[38;5;241m=\u001B[39m backbone\n\u001B[0;32m---> 19\u001B[0m model \u001B[38;5;241m=\u001B[39m \u001B[43minstantiate\u001B[49m\u001B[43m(\u001B[49m\u001B[43mcfg\u001B[49m\u001B[43m)\u001B[49m\n\u001B[1;32m     21\u001B[0m \u001B[38;5;28;01mreturn\u001B[39;00m model\n",
      "File \u001B[0;32m~/miniconda3/envs/zs6d_sd_dino/lib/python3.9/site-packages/detectron2/config/instantiate.py:61\u001B[0m, in \u001B[0;36minstantiate\u001B[0;34m(cfg)\u001B[0m\n\u001B[1;32m     56\u001B[0m     \u001B[38;5;28;01mreturn\u001B[39;00m [instantiate(x) \u001B[38;5;28;01mfor\u001B[39;00m x \u001B[38;5;129;01min\u001B[39;00m cfg]\n\u001B[1;32m     58\u001B[0m \u001B[38;5;28;01mif\u001B[39;00m \u001B[38;5;28misinstance\u001B[39m(cfg, abc\u001B[38;5;241m.\u001B[39mMapping) \u001B[38;5;129;01mand\u001B[39;00m \u001B[38;5;124m\"\u001B[39m\u001B[38;5;124m_target_\u001B[39m\u001B[38;5;124m\"\u001B[39m \u001B[38;5;129;01min\u001B[39;00m cfg:\n\u001B[1;32m     59\u001B[0m     \u001B[38;5;66;03m# conceptually equivalent to hydra.utils.instantiate(cfg) with _convert_=all,\u001B[39;00m\n\u001B[1;32m     60\u001B[0m     \u001B[38;5;66;03m# but faster: https://github.com/facebookresearch/hydra/issues/1200\u001B[39;00m\n\u001B[0;32m---> 61\u001B[0m     cfg \u001B[38;5;241m=\u001B[39m {k: instantiate(v) \u001B[38;5;28;01mfor\u001B[39;00m k, v \u001B[38;5;129;01min\u001B[39;00m cfg\u001B[38;5;241m.\u001B[39mitems()}\n\u001B[1;32m     62\u001B[0m     \u001B[38;5;28mcls\u001B[39m \u001B[38;5;241m=\u001B[39m cfg\u001B[38;5;241m.\u001B[39mpop(\u001B[38;5;124m\"\u001B[39m\u001B[38;5;124m_target_\u001B[39m\u001B[38;5;124m\"\u001B[39m)\n\u001B[1;32m     63\u001B[0m     \u001B[38;5;28mcls\u001B[39m \u001B[38;5;241m=\u001B[39m instantiate(\u001B[38;5;28mcls\u001B[39m)\n",
      "File \u001B[0;32m~/miniconda3/envs/zs6d_sd_dino/lib/python3.9/site-packages/detectron2/config/instantiate.py:61\u001B[0m, in \u001B[0;36m<dictcomp>\u001B[0;34m(.0)\u001B[0m\n\u001B[1;32m     56\u001B[0m     \u001B[38;5;28;01mreturn\u001B[39;00m [instantiate(x) \u001B[38;5;28;01mfor\u001B[39;00m x \u001B[38;5;129;01min\u001B[39;00m cfg]\n\u001B[1;32m     58\u001B[0m \u001B[38;5;28;01mif\u001B[39;00m \u001B[38;5;28misinstance\u001B[39m(cfg, abc\u001B[38;5;241m.\u001B[39mMapping) \u001B[38;5;129;01mand\u001B[39;00m \u001B[38;5;124m\"\u001B[39m\u001B[38;5;124m_target_\u001B[39m\u001B[38;5;124m\"\u001B[39m \u001B[38;5;129;01min\u001B[39;00m cfg:\n\u001B[1;32m     59\u001B[0m     \u001B[38;5;66;03m# conceptually equivalent to hydra.utils.instantiate(cfg) with _convert_=all,\u001B[39;00m\n\u001B[1;32m     60\u001B[0m     \u001B[38;5;66;03m# but faster: https://github.com/facebookresearch/hydra/issues/1200\u001B[39;00m\n\u001B[0;32m---> 61\u001B[0m     cfg \u001B[38;5;241m=\u001B[39m {k: \u001B[43minstantiate\u001B[49m\u001B[43m(\u001B[49m\u001B[43mv\u001B[49m\u001B[43m)\u001B[49m \u001B[38;5;28;01mfor\u001B[39;00m k, v \u001B[38;5;129;01min\u001B[39;00m cfg\u001B[38;5;241m.\u001B[39mitems()}\n\u001B[1;32m     62\u001B[0m     \u001B[38;5;28mcls\u001B[39m \u001B[38;5;241m=\u001B[39m cfg\u001B[38;5;241m.\u001B[39mpop(\u001B[38;5;124m\"\u001B[39m\u001B[38;5;124m_target_\u001B[39m\u001B[38;5;124m\"\u001B[39m)\n\u001B[1;32m     63\u001B[0m     \u001B[38;5;28mcls\u001B[39m \u001B[38;5;241m=\u001B[39m instantiate(\u001B[38;5;28mcls\u001B[39m)\n",
      "File \u001B[0;32m~/miniconda3/envs/zs6d_sd_dino/lib/python3.9/site-packages/detectron2/config/instantiate.py:77\u001B[0m, in \u001B[0;36minstantiate\u001B[0;34m(cfg)\u001B[0m\n\u001B[1;32m     75\u001B[0m \u001B[38;5;28;01massert\u001B[39;00m \u001B[38;5;28mcallable\u001B[39m(\u001B[38;5;28mcls\u001B[39m), \u001B[38;5;124mf\u001B[39m\u001B[38;5;124m\"\u001B[39m\u001B[38;5;124m_target_ \u001B[39m\u001B[38;5;132;01m{\u001B[39;00m\u001B[38;5;28mcls\u001B[39m\u001B[38;5;132;01m}\u001B[39;00m\u001B[38;5;124m does not define a callable object\u001B[39m\u001B[38;5;124m\"\u001B[39m\n\u001B[1;32m     76\u001B[0m \u001B[38;5;28;01mtry\u001B[39;00m:\n\u001B[0;32m---> 77\u001B[0m     \u001B[38;5;28;01mreturn\u001B[39;00m \u001B[38;5;28;43mcls\u001B[39;49m\u001B[43m(\u001B[49m\u001B[38;5;241;43m*\u001B[39;49m\u001B[38;5;241;43m*\u001B[39;49m\u001B[43mcfg\u001B[49m\u001B[43m)\u001B[49m\n\u001B[1;32m     78\u001B[0m \u001B[38;5;28;01mexcept\u001B[39;00m \u001B[38;5;167;01mTypeError\u001B[39;00m:\n\u001B[1;32m     79\u001B[0m     logger \u001B[38;5;241m=\u001B[39m logging\u001B[38;5;241m.\u001B[39mgetLogger(\u001B[38;5;18m__name__\u001B[39m)\n",
      "File \u001B[0;32m~/miniconda3/envs/zs6d_sd_dino/lib/python3.9/site-packages/odise/modeling/meta_arch/odise.py:1448\u001B[0m, in \u001B[0;36mPoolingCLIPHead.__init__\u001B[0;34m(self, clip_model_name, alpha, beta, prompt, train_labels, normalize_logits, bg_labels)\u001B[0m\n\u001B[1;32m   1445\u001B[0m \u001B[38;5;28mself\u001B[39m\u001B[38;5;241m.\u001B[39mclip_model_name \u001B[38;5;241m=\u001B[39m clip_model_name\n\u001B[1;32m   1446\u001B[0m \u001B[38;5;66;03m# For ViT CLIP, we found MaskCLIP yields slightly better performance\u001B[39;00m\n\u001B[1;32m   1447\u001B[0m \u001B[38;5;66;03m# than pooling on CLIP feature map\u001B[39;00m\n\u001B[0;32m-> 1448\u001B[0m \u001B[38;5;28mself\u001B[39m\u001B[38;5;241m.\u001B[39mclip \u001B[38;5;241m=\u001B[39m \u001B[43mMaskCLIP\u001B[49m\u001B[43m(\u001B[49m\u001B[43mname\u001B[49m\u001B[38;5;241;43m=\u001B[39;49m\u001B[38;5;28;43mself\u001B[39;49m\u001B[38;5;241;43m.\u001B[39;49m\u001B[43mclip_model_name\u001B[49m\u001B[43m)\u001B[49m\n\u001B[1;32m   1450\u001B[0m \u001B[38;5;28mself\u001B[39m\u001B[38;5;241m.\u001B[39malpha \u001B[38;5;241m=\u001B[39m alpha\n\u001B[1;32m   1451\u001B[0m \u001B[38;5;28mself\u001B[39m\u001B[38;5;241m.\u001B[39mbeta \u001B[38;5;241m=\u001B[39m beta\n",
      "File \u001B[0;32m~/miniconda3/envs/zs6d_sd_dino/lib/python3.9/site-packages/odise/modeling/meta_arch/clip.py:245\u001B[0m, in \u001B[0;36mMaskCLIP.__init__\u001B[0;34m(self, name)\u001B[0m\n\u001B[1;32m    244\u001B[0m \u001B[38;5;28;01mdef\u001B[39;00m \u001B[38;5;21m__init__\u001B[39m(\u001B[38;5;28mself\u001B[39m, name\u001B[38;5;241m=\u001B[39m\u001B[38;5;124m\"\u001B[39m\u001B[38;5;124mViT-L-14-336\u001B[39m\u001B[38;5;124m\"\u001B[39m):\n\u001B[0;32m--> 245\u001B[0m     \u001B[38;5;28;43msuper\u001B[39;49m\u001B[43m(\u001B[49m\u001B[43m)\u001B[49m\u001B[38;5;241;43m.\u001B[39;49m\u001B[38;5;21;43m__init__\u001B[39;49m\u001B[43m(\u001B[49m\u001B[43mname\u001B[49m\u001B[38;5;241;43m=\u001B[39;49m\u001B[43mname\u001B[49m\u001B[43m,\u001B[49m\u001B[43m \u001B[49m\u001B[43mnormalize\u001B[49m\u001B[38;5;241;43m=\u001B[39;49m\u001B[38;5;28;43;01mFalse\u001B[39;49;00m\u001B[43m)\u001B[49m\n",
      "File \u001B[0;32m~/miniconda3/envs/zs6d_sd_dino/lib/python3.9/site-packages/odise/modeling/meta_arch/clip.py:82\u001B[0m, in \u001B[0;36mClipAdapter.__init__\u001B[0;34m(self, name, normalize)\u001B[0m\n\u001B[1;32m     78\u001B[0m \u001B[38;5;28;01mdef\u001B[39;00m \u001B[38;5;21m__init__\u001B[39m(\u001B[38;5;28mself\u001B[39m, name\u001B[38;5;241m=\u001B[39m\u001B[38;5;124m\"\u001B[39m\u001B[38;5;124mViT-B-32\u001B[39m\u001B[38;5;124m\"\u001B[39m, normalize\u001B[38;5;241m=\u001B[39m\u001B[38;5;28;01mTrue\u001B[39;00m):\n\u001B[1;32m     79\u001B[0m \n\u001B[1;32m     80\u001B[0m     \u001B[38;5;66;03m# download on local rank 0 first\u001B[39;00m\n\u001B[1;32m     81\u001B[0m     \u001B[38;5;28;01mif\u001B[39;00m comm\u001B[38;5;241m.\u001B[39mget_local_rank() \u001B[38;5;241m==\u001B[39m \u001B[38;5;241m0\u001B[39m:\n\u001B[0;32m---> 82\u001B[0m         \u001B[43mopen_clip\u001B[49m\u001B[38;5;241;43m.\u001B[39;49m\u001B[43mcreate_model_and_transforms\u001B[49m\u001B[43m(\u001B[49m\u001B[43mname\u001B[49m\u001B[43m,\u001B[49m\u001B[43m \u001B[49m\u001B[43mpretrained\u001B[49m\u001B[38;5;241;43m=\u001B[39;49m\u001B[38;5;124;43m\"\u001B[39;49m\u001B[38;5;124;43mopenai\u001B[39;49m\u001B[38;5;124;43m\"\u001B[39;49m\u001B[43m)\u001B[49m\n\u001B[1;32m     83\u001B[0m     comm\u001B[38;5;241m.\u001B[39msynchronize()\n\u001B[1;32m     85\u001B[0m     \u001B[38;5;66;03m# checked, the same as openai original CLIP\u001B[39;00m\n",
      "File \u001B[0;32m~/miniconda3/envs/zs6d_sd_dino/lib/python3.9/site-packages/open_clip/factory.py:151\u001B[0m, in \u001B[0;36mcreate_model_and_transforms\u001B[0;34m(model_name, pretrained, precision, device, jit, force_quick_gelu, pretrained_image, image_mean, image_std, cache_dir)\u001B[0m\n\u001B[1;32m    139\u001B[0m \u001B[38;5;28;01mdef\u001B[39;00m \u001B[38;5;21mcreate_model_and_transforms\u001B[39m(\n\u001B[1;32m    140\u001B[0m         model_name: \u001B[38;5;28mstr\u001B[39m,\n\u001B[1;32m    141\u001B[0m         pretrained: \u001B[38;5;28mstr\u001B[39m \u001B[38;5;241m=\u001B[39m \u001B[38;5;124m'\u001B[39m\u001B[38;5;124m'\u001B[39m,\n\u001B[0;32m   (...)\u001B[0m\n\u001B[1;32m    149\u001B[0m         cache_dir: Optional[\u001B[38;5;28mstr\u001B[39m] \u001B[38;5;241m=\u001B[39m \u001B[38;5;28;01mNone\u001B[39;00m,\n\u001B[1;32m    150\u001B[0m ):\n\u001B[0;32m--> 151\u001B[0m     model \u001B[38;5;241m=\u001B[39m \u001B[43mcreate_model\u001B[49m\u001B[43m(\u001B[49m\n\u001B[1;32m    152\u001B[0m \u001B[43m        \u001B[49m\u001B[43mmodel_name\u001B[49m\u001B[43m,\u001B[49m\u001B[43m \u001B[49m\u001B[43mpretrained\u001B[49m\u001B[43m,\u001B[49m\u001B[43m \u001B[49m\u001B[43mprecision\u001B[49m\u001B[43m,\u001B[49m\u001B[43m \u001B[49m\u001B[43mdevice\u001B[49m\u001B[43m,\u001B[49m\u001B[43m \u001B[49m\u001B[43mjit\u001B[49m\u001B[43m,\u001B[49m\n\u001B[1;32m    153\u001B[0m \u001B[43m        \u001B[49m\u001B[43mforce_quick_gelu\u001B[49m\u001B[38;5;241;43m=\u001B[39;49m\u001B[43mforce_quick_gelu\u001B[49m\u001B[43m,\u001B[49m\n\u001B[1;32m    154\u001B[0m \u001B[43m        \u001B[49m\u001B[43mpretrained_image\u001B[49m\u001B[38;5;241;43m=\u001B[39;49m\u001B[43mpretrained_image\u001B[49m\u001B[43m,\u001B[49m\n\u001B[1;32m    155\u001B[0m \u001B[43m        \u001B[49m\u001B[43mcache_dir\u001B[49m\u001B[38;5;241;43m=\u001B[39;49m\u001B[43mcache_dir\u001B[49m\u001B[43m)\u001B[49m\n\u001B[1;32m    157\u001B[0m     image_mean \u001B[38;5;241m=\u001B[39m image_mean \u001B[38;5;129;01mor\u001B[39;00m \u001B[38;5;28mgetattr\u001B[39m(model\u001B[38;5;241m.\u001B[39mvisual, \u001B[38;5;124m'\u001B[39m\u001B[38;5;124mimage_mean\u001B[39m\u001B[38;5;124m'\u001B[39m, \u001B[38;5;28;01mNone\u001B[39;00m)\n\u001B[1;32m    158\u001B[0m     image_std \u001B[38;5;241m=\u001B[39m image_std \u001B[38;5;129;01mor\u001B[39;00m \u001B[38;5;28mgetattr\u001B[39m(model\u001B[38;5;241m.\u001B[39mvisual, \u001B[38;5;124m'\u001B[39m\u001B[38;5;124mimage_std\u001B[39m\u001B[38;5;124m'\u001B[39m, \u001B[38;5;28;01mNone\u001B[39;00m)\n",
      "File \u001B[0;32m~/miniconda3/envs/zs6d_sd_dino/lib/python3.9/site-packages/open_clip/factory.py:83\u001B[0m, in \u001B[0;36mcreate_model\u001B[0;34m(model_name, pretrained, precision, device, jit, force_quick_gelu, pretrained_image, cache_dir)\u001B[0m\n\u001B[1;32m     81\u001B[0m \u001B[38;5;28;01mif\u001B[39;00m pretrained\u001B[38;5;241m.\u001B[39mlower() \u001B[38;5;241m==\u001B[39m \u001B[38;5;124m'\u001B[39m\u001B[38;5;124mopenai\u001B[39m\u001B[38;5;124m'\u001B[39m:\n\u001B[1;32m     82\u001B[0m     logging\u001B[38;5;241m.\u001B[39minfo(\u001B[38;5;124mf\u001B[39m\u001B[38;5;124m'\u001B[39m\u001B[38;5;124mLoading pretrained \u001B[39m\u001B[38;5;132;01m{\u001B[39;00mmodel_name\u001B[38;5;132;01m}\u001B[39;00m\u001B[38;5;124m from OpenAI.\u001B[39m\u001B[38;5;124m'\u001B[39m)\n\u001B[0;32m---> 83\u001B[0m     model \u001B[38;5;241m=\u001B[39m \u001B[43mload_openai_model\u001B[49m\u001B[43m(\u001B[49m\u001B[43mmodel_name\u001B[49m\u001B[43m,\u001B[49m\u001B[43m \u001B[49m\u001B[43mdevice\u001B[49m\u001B[38;5;241;43m=\u001B[39;49m\u001B[43mdevice\u001B[49m\u001B[43m,\u001B[49m\u001B[43m \u001B[49m\u001B[43mjit\u001B[49m\u001B[38;5;241;43m=\u001B[39;49m\u001B[43mjit\u001B[49m\u001B[43m,\u001B[49m\u001B[43m \u001B[49m\u001B[43mcache_dir\u001B[49m\u001B[38;5;241;43m=\u001B[39;49m\u001B[43mcache_dir\u001B[49m\u001B[43m)\u001B[49m\n\u001B[1;32m     84\u001B[0m     \u001B[38;5;66;03m# See https://discuss.pytorch.org/t/valueerror-attemting-to-unscale-fp16-gradients/81372\u001B[39;00m\n\u001B[1;32m     85\u001B[0m     \u001B[38;5;28;01mif\u001B[39;00m precision \u001B[38;5;241m==\u001B[39m \u001B[38;5;124m\"\u001B[39m\u001B[38;5;124mamp\u001B[39m\u001B[38;5;124m\"\u001B[39m \u001B[38;5;129;01mor\u001B[39;00m precision \u001B[38;5;241m==\u001B[39m \u001B[38;5;124m\"\u001B[39m\u001B[38;5;124mfp32\u001B[39m\u001B[38;5;124m\"\u001B[39m:\n",
      "File \u001B[0;32m~/miniconda3/envs/zs6d_sd_dino/lib/python3.9/site-packages/open_clip/openai.py:50\u001B[0m, in \u001B[0;36mload_openai_model\u001B[0;34m(name, device, jit, cache_dir)\u001B[0m\n\u001B[1;32m     29\u001B[0m \u001B[38;5;250m\u001B[39m\u001B[38;5;124;03m\"\"\"Load a CLIP model\u001B[39;00m\n\u001B[1;32m     30\u001B[0m \n\u001B[1;32m     31\u001B[0m \u001B[38;5;124;03mParameters\u001B[39;00m\n\u001B[0;32m   (...)\u001B[0m\n\u001B[1;32m     47\u001B[0m \u001B[38;5;124;03m    A torchvision transform that converts a PIL image into a tensor that the returned model can take as its input\u001B[39;00m\n\u001B[1;32m     48\u001B[0m \u001B[38;5;124;03m\"\"\"\u001B[39;00m\n\u001B[1;32m     49\u001B[0m \u001B[38;5;28;01mif\u001B[39;00m get_pretrained_url(name, \u001B[38;5;124m'\u001B[39m\u001B[38;5;124mopenai\u001B[39m\u001B[38;5;124m'\u001B[39m):\n\u001B[0;32m---> 50\u001B[0m     model_path \u001B[38;5;241m=\u001B[39m \u001B[43mdownload_pretrained_from_url\u001B[49m\u001B[43m(\u001B[49m\u001B[43mget_pretrained_url\u001B[49m\u001B[43m(\u001B[49m\u001B[43mname\u001B[49m\u001B[43m,\u001B[49m\u001B[43m \u001B[49m\u001B[38;5;124;43m'\u001B[39;49m\u001B[38;5;124;43mopenai\u001B[39;49m\u001B[38;5;124;43m'\u001B[39;49m\u001B[43m)\u001B[49m\u001B[43m,\u001B[49m\u001B[43m \u001B[49m\u001B[43mcache_dir\u001B[49m\u001B[38;5;241;43m=\u001B[39;49m\u001B[43mcache_dir\u001B[49m\u001B[43m)\u001B[49m\n\u001B[1;32m     51\u001B[0m \u001B[38;5;28;01melif\u001B[39;00m os\u001B[38;5;241m.\u001B[39mpath\u001B[38;5;241m.\u001B[39misfile(name):\n\u001B[1;32m     52\u001B[0m     model_path \u001B[38;5;241m=\u001B[39m name\n",
      "File \u001B[0;32m~/miniconda3/envs/zs6d_sd_dino/lib/python3.9/site-packages/open_clip/pretrained.py:245\u001B[0m, in \u001B[0;36mdownload_pretrained_from_url\u001B[0;34m(url, cache_dir)\u001B[0m\n\u001B[1;32m    242\u001B[0m             loop\u001B[38;5;241m.\u001B[39mupdate(\u001B[38;5;28mlen\u001B[39m(buffer))\n\u001B[1;32m    244\u001B[0m \u001B[38;5;28;01mif\u001B[39;00m expected_sha256 \u001B[38;5;129;01mand\u001B[39;00m hashlib\u001B[38;5;241m.\u001B[39msha256(\u001B[38;5;28mopen\u001B[39m(download_target, \u001B[38;5;124m\"\u001B[39m\u001B[38;5;124mrb\u001B[39m\u001B[38;5;124m\"\u001B[39m)\u001B[38;5;241m.\u001B[39mread())\u001B[38;5;241m.\u001B[39mhexdigest() \u001B[38;5;241m!=\u001B[39m expected_sha256:\n\u001B[0;32m--> 245\u001B[0m     \u001B[38;5;28;01mraise\u001B[39;00m \u001B[38;5;167;01mRuntimeError\u001B[39;00m(\u001B[38;5;124mf\u001B[39m\u001B[38;5;124m\"\u001B[39m\u001B[38;5;124mModel has been downloaded but the SHA256 checksum does not not match\u001B[39m\u001B[38;5;124m\"\u001B[39m)\n\u001B[1;32m    247\u001B[0m \u001B[38;5;28;01mreturn\u001B[39;00m download_target\n",
      "\u001B[0;31mRuntimeError\u001B[0m: Model has been downloaded but the SHA256 checksum does not not match"
     ]
    }
   ],
   "execution_count": 2
  },
  {
   "metadata": {},
   "cell_type": "code",
   "source": [
    "from zs6dsddino import ZS6DSdDino\n",
    "import os\n",
    "import json\n",
    "\n",
    "\n",
    "\n",
    "# Loading the config file:\n",
    "with open(os.path.join(\"./zs6d_configs/bop_eval_configs/cfg_ycbv_inference_bop_sd_dino.json\"), \"r\") as f:\n",
    "    config = json.load(f)\n",
    "    \n",
    "# Instantiating the pose estimator:\n",
    "# This involves handing over the path to the templates_gt file and the corresponding object norm_factors.\n",
    "pose_estimator_sd_dino = ZS6DSdDino(model_sd, aug_sd, image_size_dino, image_size_sd, layer, facet, config['templates_gt_path'], config['norm_factor_path'], model_type=model_type, stride=stride)\n"
   ],
   "id": "9c6c846abdad5ac5",
   "outputs": [],
   "execution_count": null
  },
  {
   "metadata": {},
   "cell_type": "code",
   "source": [
    "import cv2\n",
    "from PIL import Image\n",
    "import pose_utils.img_utils as img_utils\n",
    "import pose_utils.vis_utils as vis_utils\n",
    "import numpy as np\n",
    "import time\n",
    "import matplotlib.pyplot as plt\n",
    "import torch\n",
    "\n",
    "\n",
    "# Loading a ground truth file to access segmentation masks to test zs6d:\n",
    "with open(os.path.join(config['gt_path']), 'r') as f:\n",
    "    data_gt = json.load(f)\n",
    "\n",
    "img_id = '000048_1'\n",
    "# img_id = '8'\n",
    "\n",
    "device = 'cuda' if torch.cuda.is_available() else 'cpu'\n",
    "\n",
    "patch_size = 14 #extractor.model.patch_embed.patch_size[0]\n",
    "num_patches = int(patch_size / stride * (image_size_dino // patch_size))\n",
    "\n",
    "\n",
    "for i in range(len(data_gt[img_id])):\n",
    "    obj_number = i\n",
    "    obj_id = data_gt[img_id][obj_number]['obj_id']\n",
    "    cam_K = np.array(data_gt[img_id][obj_number]['cam_K']).reshape((3,3))\n",
    "    bbox = data_gt[img_id][obj_number]['bbox_visib']\n",
    "\n",
    "    img_path = \"./test/000001.png\"\n",
    "    img = Image.open(img_path)\n",
    "\n",
    "    mask = data_gt[img_id][obj_number]['mask_sam']\n",
    "    mask = img_utils.rle_to_mask(mask)\n",
    "    mask = mask.astype(np.uint8)\n",
    "\n",
    "    start_time = time.time()\n",
    "    \n",
    "    # To estimate the objects Rotation R and translation t the input image, the object_id, a segmentation mask and camera matrix are necessary\n",
    "    R_est, t_est = pose_estimator_sd_dino.get_pose(num_patches, img, str(obj_id), mask, cam_K, bbox=None)\n",
    "\n",
    "    end_time = time.time()\n",
    "    \n",
    "    out_img = vis_utils.draw_3D_bbox_on_image(np.array(img), R_est, t_est, cam_K, data_gt[img_id][obj_number]['model_info'], factor=1.0)\n",
    "\n",
    "    plt.imshow(out_img)\n",
    "    plt.show()\n",
    "    print(f\"Pose estimation time: {end_time-start_time}\")\n",
    "    print(f\"R_est: {R_est}\")\n",
    "    print(f\"t_est: {t_est}\")"
   ],
   "id": "4351dbb961df6dab",
   "outputs": [],
   "execution_count": null
  },
  {
   "metadata": {},
   "cell_type": "code",
   "source": "",
   "id": "d1655698fe936803",
   "outputs": [],
   "execution_count": null
  }
 ],
 "metadata": {
  "kernelspec": {
   "display_name": "Python 3",
   "language": "python",
   "name": "python3"
  },
  "language_info": {
   "codemirror_mode": {
    "name": "ipython",
    "version": 2
   },
   "file_extension": ".py",
   "mimetype": "text/x-python",
   "name": "python",
   "nbconvert_exporter": "python",
   "pygments_lexer": "ipython2",
   "version": "2.7.6"
  }
 },
 "nbformat": 4,
 "nbformat_minor": 5
}
