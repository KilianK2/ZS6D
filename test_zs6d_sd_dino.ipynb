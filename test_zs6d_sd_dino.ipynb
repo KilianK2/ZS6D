{
 "cells": [
  {
   "metadata": {
    "ExecuteTime": {
     "end_time": "2024-06-24T14:29:30.638956Z",
     "start_time": "2024-06-24T14:29:30.606218Z"
    }
   },
   "cell_type": "code",
   "source": [
    "# Loading the config file:\n",
    "import os\n",
    "\n",
    "files = os.listdir('./templates/ycbv_desc/models_xyz/')\n",
    "print(files)"
   ],
   "id": "3a374f8887df45d4",
   "outputs": [
    {
     "name": "stdout",
     "output_type": "stream",
     "text": [
      "['norm_factor.json', 'obj_000016.ply', 'obj_000002.ply', 'obj_000003.ply', 'obj_000017.ply', 'obj_000001.ply', 'obj_000015.ply', 'obj_000014.ply', 'obj_000004.ply', 'obj_000010.ply', 'obj_000011.ply', 'obj_000005.ply', 'obj_000013.ply', 'obj_000007.ply', 'obj_000006.ply', 'obj_000012.ply', 'obj_000008.ply', 'obj_000020.ply', 'obj_000021.ply', 'obj_000009.ply', 'obj_000019.ply', 'obj_000018.ply', 'models_factor.json']\n"
     ]
    }
   ],
   "execution_count": 12
  },
  {
   "metadata": {
    "ExecuteTime": {
     "end_time": "2024-06-24T14:29:33.498600Z",
     "start_time": "2024-06-24T14:29:32.734996Z"
    }
   },
   "cell_type": "code",
   "source": [
    "from fused_zs6d import Fused_ZS6D\n",
    "import os\n",
    "import json\n",
    "\n",
    "with open(os.path.join(\"./zs6d_configs/bop_eval_configs/cfg_ycbv_inference_bop.json\"), \"r\") as f:\n",
    "    config = json.load(f)\n",
    "\n",
    "# Instantiating the pose estimator:\n",
    "# This involves handing over the path to the templates_gt file and the corresponding object norm_factors.\n",
    "pose_estimator = Fused_ZS6D(config['templates_gt_path'], config['norm_factor_path'])"
   ],
   "id": "6f5c2ec315b26625",
   "outputs": [
    {
     "name": "stderr",
     "output_type": "stream",
     "text": [
      "Using cache found in /home/kilian/.cache/torch/hub/facebookresearch_dino_main\n"
     ]
    },
    {
     "ename": "ImportError",
     "evalue": "cannot import name 'trunc_normal_' from 'utils' (unknown location)",
     "output_type": "error",
     "traceback": [
      "\u001B[0;31m---------------------------------------------------------------------------\u001B[0m",
      "\u001B[0;31mImportError\u001B[0m                               Traceback (most recent call last)",
      "Cell \u001B[0;32mIn[13], line 10\u001B[0m\n\u001B[1;32m      6\u001B[0m     config \u001B[38;5;241m=\u001B[39m json\u001B[38;5;241m.\u001B[39mload(f)\n\u001B[1;32m      8\u001B[0m \u001B[38;5;66;03m# Instantiating the pose estimator:\u001B[39;00m\n\u001B[1;32m      9\u001B[0m \u001B[38;5;66;03m# This involves handing over the path to the templates_gt file and the corresponding object norm_factors.\u001B[39;00m\n\u001B[0;32m---> 10\u001B[0m pose_estimator \u001B[38;5;241m=\u001B[39m \u001B[43mFused_ZS6D\u001B[49m\u001B[43m(\u001B[49m\u001B[43mconfig\u001B[49m\u001B[43m[\u001B[49m\u001B[38;5;124;43m'\u001B[39;49m\u001B[38;5;124;43mtemplates_gt_path\u001B[39;49m\u001B[38;5;124;43m'\u001B[39;49m\u001B[43m]\u001B[49m\u001B[43m,\u001B[49m\u001B[43m \u001B[49m\u001B[43mconfig\u001B[49m\u001B[43m[\u001B[49m\u001B[38;5;124;43m'\u001B[39;49m\u001B[38;5;124;43mnorm_factor_path\u001B[39;49m\u001B[38;5;124;43m'\u001B[39;49m\u001B[43m]\u001B[49m\u001B[43m)\u001B[49m\n",
      "File \u001B[0;32m/run/media/kilian/Extern_SSD/Robot_Vision/ZS6D/zs6d-sd-dino/fused_zs6d.py:41\u001B[0m, in \u001B[0;36mFused_ZS6D.__init__\u001B[0;34m(self, templates_gt_path, norm_factors_path, model_type, stride, subset_templates, max_crop_size)\u001B[0m\n\u001B[1;32m     37\u001B[0m     \u001B[38;5;28;01mraise\u001B[39;00m\n\u001B[1;32m     39\u001B[0m \u001B[38;5;28mself\u001B[39m\u001B[38;5;241m.\u001B[39mdevice \u001B[38;5;241m=\u001B[39m \u001B[38;5;124m'\u001B[39m\u001B[38;5;124mcuda\u001B[39m\u001B[38;5;124m'\u001B[39m \u001B[38;5;28;01mif\u001B[39;00m torch\u001B[38;5;241m.\u001B[39mcuda\u001B[38;5;241m.\u001B[39mis_available() \u001B[38;5;28;01melse\u001B[39;00m \u001B[38;5;124m'\u001B[39m\u001B[38;5;124mcpu\u001B[39m\u001B[38;5;124m'\u001B[39m\n\u001B[0;32m---> 41\u001B[0m \u001B[38;5;28mself\u001B[39m\u001B[38;5;241m.\u001B[39mextractor \u001B[38;5;241m=\u001B[39m \u001B[43mPoseViTExtractor\u001B[49m\u001B[43m(\u001B[49m\u001B[43mmodel_type\u001B[49m\u001B[38;5;241;43m=\u001B[39;49m\u001B[38;5;28;43mself\u001B[39;49m\u001B[38;5;241;43m.\u001B[39;49m\u001B[43mmodel_type\u001B[49m\u001B[43m,\u001B[49m\u001B[43m \u001B[49m\u001B[43mstride\u001B[49m\u001B[38;5;241;43m=\u001B[39;49m\u001B[38;5;28;43mself\u001B[39;49m\u001B[38;5;241;43m.\u001B[39;49m\u001B[43mstride\u001B[49m\u001B[43m,\u001B[49m\u001B[43m \u001B[49m\u001B[43mdevice\u001B[49m\u001B[38;5;241;43m=\u001B[39;49m\u001B[38;5;28;43mself\u001B[39;49m\u001B[38;5;241;43m.\u001B[39;49m\u001B[43mdevice\u001B[49m\u001B[43m)\u001B[49m\n\u001B[1;32m     42\u001B[0m \u001B[38;5;250m\u001B[39m\u001B[38;5;124;03m\"\"\"TODO: Utilizing FusedFeatureExtractor\"\"\"\u001B[39;00m\n\u001B[1;32m     43\u001B[0m \u001B[38;5;66;03m#self.extractor = FusedPoseViTExtractor(model_type=self.model_type, stride=self.stride, device=self.device)\u001B[39;00m\n",
      "File \u001B[0;32m/run/media/kilian/Extern_SSD/Robot_Vision/ZS6D/src/pose_extractor.py:23\u001B[0m, in \u001B[0;36mPoseViTExtractor.__init__\u001B[0;34m(self, model_type, stride, model, device)\u001B[0m\n\u001B[1;32m     21\u001B[0m \u001B[38;5;28mself\u001B[39m\u001B[38;5;241m.\u001B[39mmodel \u001B[38;5;241m=\u001B[39m model\n\u001B[1;32m     22\u001B[0m \u001B[38;5;28mself\u001B[39m\u001B[38;5;241m.\u001B[39mdevice \u001B[38;5;241m=\u001B[39m device\n\u001B[0;32m---> 23\u001B[0m \u001B[38;5;28;43msuper\u001B[39;49m\u001B[43m(\u001B[49m\u001B[43m)\u001B[49m\u001B[38;5;241;43m.\u001B[39;49m\u001B[38;5;21;43m__init__\u001B[39;49m\u001B[43m(\u001B[49m\u001B[43mmodel_type\u001B[49m\u001B[43m \u001B[49m\u001B[38;5;241;43m=\u001B[39;49m\u001B[43m \u001B[49m\u001B[38;5;28;43mself\u001B[39;49m\u001B[38;5;241;43m.\u001B[39;49m\u001B[43mmodel_type\u001B[49m\u001B[43m,\u001B[49m\u001B[43m \u001B[49m\u001B[43mstride\u001B[49m\u001B[43m \u001B[49m\u001B[38;5;241;43m=\u001B[39;49m\u001B[43m \u001B[49m\u001B[38;5;28;43mself\u001B[39;49m\u001B[38;5;241;43m.\u001B[39;49m\u001B[43mstride\u001B[49m\u001B[43m,\u001B[49m\u001B[43m \u001B[49m\u001B[43mmodel\u001B[49m\u001B[38;5;241;43m=\u001B[39;49m\u001B[38;5;28;43mself\u001B[39;49m\u001B[38;5;241;43m.\u001B[39;49m\u001B[43mmodel\u001B[49m\u001B[43m,\u001B[49m\u001B[43m \u001B[49m\u001B[43mdevice\u001B[49m\u001B[38;5;241;43m=\u001B[39;49m\u001B[38;5;28;43mself\u001B[39;49m\u001B[38;5;241;43m.\u001B[39;49m\u001B[43mdevice\u001B[49m\u001B[43m)\u001B[49m\n\u001B[1;32m     25\u001B[0m \u001B[38;5;28mself\u001B[39m\u001B[38;5;241m.\u001B[39mprep \u001B[38;5;241m=\u001B[39m transforms\u001B[38;5;241m.\u001B[39mCompose([\n\u001B[1;32m     26\u001B[0m                   transforms\u001B[38;5;241m.\u001B[39mToTensor(),\n\u001B[1;32m     27\u001B[0m                   transforms\u001B[38;5;241m.\u001B[39mNormalize(mean\u001B[38;5;241m=\u001B[39m\u001B[38;5;28mself\u001B[39m\u001B[38;5;241m.\u001B[39mmean, std\u001B[38;5;241m=\u001B[39m\u001B[38;5;28mself\u001B[39m\u001B[38;5;241m.\u001B[39mstd)\n\u001B[1;32m     28\u001B[0m                  ])\n",
      "File \u001B[0;32m/run/media/kilian/Extern_SSD/Robot_Vision/ZS6D/src/extractor.py:41\u001B[0m, in \u001B[0;36mViTExtractor.__init__\u001B[0;34m(self, model_type, stride, model, device)\u001B[0m\n\u001B[1;32m     39\u001B[0m     \u001B[38;5;28mself\u001B[39m\u001B[38;5;241m.\u001B[39mmodel \u001B[38;5;241m=\u001B[39m model\n\u001B[1;32m     40\u001B[0m \u001B[38;5;28;01melse\u001B[39;00m:\n\u001B[0;32m---> 41\u001B[0m     \u001B[38;5;28mself\u001B[39m\u001B[38;5;241m.\u001B[39mmodel \u001B[38;5;241m=\u001B[39m \u001B[43mViTExtractor\u001B[49m\u001B[38;5;241;43m.\u001B[39;49m\u001B[43mcreate_model\u001B[49m\u001B[43m(\u001B[49m\u001B[43mmodel_type\u001B[49m\u001B[43m)\u001B[49m\n\u001B[1;32m     43\u001B[0m \u001B[38;5;28mself\u001B[39m\u001B[38;5;241m.\u001B[39mmodel \u001B[38;5;241m=\u001B[39m ViTExtractor\u001B[38;5;241m.\u001B[39mpatch_vit_resolution(\u001B[38;5;28mself\u001B[39m\u001B[38;5;241m.\u001B[39mmodel, stride\u001B[38;5;241m=\u001B[39mstride)\n\u001B[1;32m     44\u001B[0m \u001B[38;5;28mself\u001B[39m\u001B[38;5;241m.\u001B[39mmodel\u001B[38;5;241m.\u001B[39meval()\n",
      "File \u001B[0;32m/run/media/kilian/Extern_SSD/Robot_Vision/ZS6D/src/extractor.py:66\u001B[0m, in \u001B[0;36mViTExtractor.create_model\u001B[0;34m(model_type)\u001B[0m\n\u001B[1;32m     59\u001B[0m \u001B[38;5;250m\u001B[39m\u001B[38;5;124;03m\"\"\"\u001B[39;00m\n\u001B[1;32m     60\u001B[0m \u001B[38;5;124;03m:param model_type: a string specifying which model to load. [dino_vits8 | dino_vits16 | dino_vitb8 |\u001B[39;00m\n\u001B[1;32m     61\u001B[0m \u001B[38;5;124;03m                   dino_vitb16 | vit_small_patch8_224 | vit_small_patch16_224 | vit_base_patch8_224 |\u001B[39;00m\n\u001B[1;32m     62\u001B[0m \u001B[38;5;124;03m                   vit_base_patch16_224]\u001B[39;00m\n\u001B[1;32m     63\u001B[0m \u001B[38;5;124;03m:return: the model\u001B[39;00m\n\u001B[1;32m     64\u001B[0m \u001B[38;5;124;03m\"\"\"\u001B[39;00m\n\u001B[1;32m     65\u001B[0m \u001B[38;5;28;01mif\u001B[39;00m \u001B[38;5;124m'\u001B[39m\u001B[38;5;124mdino\u001B[39m\u001B[38;5;124m'\u001B[39m \u001B[38;5;129;01min\u001B[39;00m model_type:\n\u001B[0;32m---> 66\u001B[0m     model \u001B[38;5;241m=\u001B[39m \u001B[43mtorch\u001B[49m\u001B[38;5;241;43m.\u001B[39;49m\u001B[43mhub\u001B[49m\u001B[38;5;241;43m.\u001B[39;49m\u001B[43mload\u001B[49m\u001B[43m(\u001B[49m\u001B[38;5;124;43m'\u001B[39;49m\u001B[38;5;124;43mfacebookresearch/dino:main\u001B[39;49m\u001B[38;5;124;43m'\u001B[39;49m\u001B[43m,\u001B[49m\u001B[43m \u001B[49m\u001B[43mmodel_type\u001B[49m\u001B[43m)\u001B[49m\n\u001B[1;32m     68\u001B[0m     \u001B[38;5;66;03m# model = torch.hub.load('facebookresearch/dinov2', 'dinov2_vits14')\u001B[39;00m\n\u001B[1;32m     69\u001B[0m \u001B[38;5;28;01melse\u001B[39;00m:  \u001B[38;5;66;03m# model from timm -- load weights from timm to dino model (enables working on arbitrary size images).\u001B[39;00m\n\u001B[1;32m     70\u001B[0m     temp_model \u001B[38;5;241m=\u001B[39m timm\u001B[38;5;241m.\u001B[39mcreate_model(model_type, pretrained\u001B[38;5;241m=\u001B[39m\u001B[38;5;28;01mTrue\u001B[39;00m)\n",
      "File \u001B[0;32m~/miniforge3/envs/zs6d-sd-dino/lib/python3.9/site-packages/torch/hub.py:542\u001B[0m, in \u001B[0;36mload\u001B[0;34m(repo_or_dir, model, source, trust_repo, force_reload, verbose, skip_validation, *args, **kwargs)\u001B[0m\n\u001B[1;32m    538\u001B[0m \u001B[38;5;28;01mif\u001B[39;00m source \u001B[38;5;241m==\u001B[39m \u001B[38;5;124m'\u001B[39m\u001B[38;5;124mgithub\u001B[39m\u001B[38;5;124m'\u001B[39m:\n\u001B[1;32m    539\u001B[0m     repo_or_dir \u001B[38;5;241m=\u001B[39m _get_cache_or_reload(repo_or_dir, force_reload, trust_repo, \u001B[38;5;124m\"\u001B[39m\u001B[38;5;124mload\u001B[39m\u001B[38;5;124m\"\u001B[39m,\n\u001B[1;32m    540\u001B[0m                                        verbose\u001B[38;5;241m=\u001B[39mverbose, skip_validation\u001B[38;5;241m=\u001B[39mskip_validation)\n\u001B[0;32m--> 542\u001B[0m model \u001B[38;5;241m=\u001B[39m \u001B[43m_load_local\u001B[49m\u001B[43m(\u001B[49m\u001B[43mrepo_or_dir\u001B[49m\u001B[43m,\u001B[49m\u001B[43m \u001B[49m\u001B[43mmodel\u001B[49m\u001B[43m,\u001B[49m\u001B[43m \u001B[49m\u001B[38;5;241;43m*\u001B[39;49m\u001B[43margs\u001B[49m\u001B[43m,\u001B[49m\u001B[43m \u001B[49m\u001B[38;5;241;43m*\u001B[39;49m\u001B[38;5;241;43m*\u001B[39;49m\u001B[43mkwargs\u001B[49m\u001B[43m)\u001B[49m\n\u001B[1;32m    543\u001B[0m \u001B[38;5;28;01mreturn\u001B[39;00m model\n",
      "File \u001B[0;32m~/miniforge3/envs/zs6d-sd-dino/lib/python3.9/site-packages/torch/hub.py:569\u001B[0m, in \u001B[0;36m_load_local\u001B[0;34m(hubconf_dir, model, *args, **kwargs)\u001B[0m\n\u001B[1;32m    566\u001B[0m sys\u001B[38;5;241m.\u001B[39mpath\u001B[38;5;241m.\u001B[39minsert(\u001B[38;5;241m0\u001B[39m, hubconf_dir)\n\u001B[1;32m    568\u001B[0m hubconf_path \u001B[38;5;241m=\u001B[39m os\u001B[38;5;241m.\u001B[39mpath\u001B[38;5;241m.\u001B[39mjoin(hubconf_dir, MODULE_HUBCONF)\n\u001B[0;32m--> 569\u001B[0m hub_module \u001B[38;5;241m=\u001B[39m \u001B[43m_import_module\u001B[49m\u001B[43m(\u001B[49m\u001B[43mMODULE_HUBCONF\u001B[49m\u001B[43m,\u001B[49m\u001B[43m \u001B[49m\u001B[43mhubconf_path\u001B[49m\u001B[43m)\u001B[49m\n\u001B[1;32m    571\u001B[0m entry \u001B[38;5;241m=\u001B[39m _load_entry_from_hubconf(hub_module, model)\n\u001B[1;32m    572\u001B[0m model \u001B[38;5;241m=\u001B[39m entry(\u001B[38;5;241m*\u001B[39margs, \u001B[38;5;241m*\u001B[39m\u001B[38;5;241m*\u001B[39mkwargs)\n",
      "File \u001B[0;32m~/miniforge3/envs/zs6d-sd-dino/lib/python3.9/site-packages/torch/hub.py:90\u001B[0m, in \u001B[0;36m_import_module\u001B[0;34m(name, path)\u001B[0m\n\u001B[1;32m     88\u001B[0m module \u001B[38;5;241m=\u001B[39m importlib\u001B[38;5;241m.\u001B[39mutil\u001B[38;5;241m.\u001B[39mmodule_from_spec(spec)\n\u001B[1;32m     89\u001B[0m \u001B[38;5;28;01massert\u001B[39;00m \u001B[38;5;28misinstance\u001B[39m(spec\u001B[38;5;241m.\u001B[39mloader, Loader)\n\u001B[0;32m---> 90\u001B[0m \u001B[43mspec\u001B[49m\u001B[38;5;241;43m.\u001B[39;49m\u001B[43mloader\u001B[49m\u001B[38;5;241;43m.\u001B[39;49m\u001B[43mexec_module\u001B[49m\u001B[43m(\u001B[49m\u001B[43mmodule\u001B[49m\u001B[43m)\u001B[49m\n\u001B[1;32m     91\u001B[0m \u001B[38;5;28;01mreturn\u001B[39;00m module\n",
      "File \u001B[0;32m<frozen importlib._bootstrap_external>:850\u001B[0m, in \u001B[0;36mexec_module\u001B[0;34m(self, module)\u001B[0m\n",
      "File \u001B[0;32m<frozen importlib._bootstrap>:228\u001B[0m, in \u001B[0;36m_call_with_frames_removed\u001B[0;34m(f, *args, **kwds)\u001B[0m\n",
      "File \u001B[0;32m~/.cache/torch/hub/facebookresearch_dino_main/hubconf.py:17\u001B[0m\n\u001B[1;32m     14\u001B[0m \u001B[38;5;28;01mimport\u001B[39;00m \u001B[38;5;21;01mtorch\u001B[39;00m\n\u001B[1;32m     15\u001B[0m \u001B[38;5;28;01mfrom\u001B[39;00m \u001B[38;5;21;01mtorchvision\u001B[39;00m\u001B[38;5;21;01m.\u001B[39;00m\u001B[38;5;21;01mmodels\u001B[39;00m\u001B[38;5;21;01m.\u001B[39;00m\u001B[38;5;21;01mresnet\u001B[39;00m \u001B[38;5;28;01mimport\u001B[39;00m resnet50\n\u001B[0;32m---> 17\u001B[0m \u001B[38;5;28;01mimport\u001B[39;00m \u001B[38;5;21;01mvision_transformer\u001B[39;00m \u001B[38;5;28;01mas\u001B[39;00m \u001B[38;5;21;01mvits\u001B[39;00m\n\u001B[1;32m     19\u001B[0m dependencies \u001B[38;5;241m=\u001B[39m [\u001B[38;5;124m\"\u001B[39m\u001B[38;5;124mtorch\u001B[39m\u001B[38;5;124m\"\u001B[39m, \u001B[38;5;124m\"\u001B[39m\u001B[38;5;124mtorchvision\u001B[39m\u001B[38;5;124m\"\u001B[39m]\n\u001B[1;32m     22\u001B[0m \u001B[38;5;28;01mdef\u001B[39;00m \u001B[38;5;21mdino_vits16\u001B[39m(pretrained\u001B[38;5;241m=\u001B[39m\u001B[38;5;28;01mTrue\u001B[39;00m, \u001B[38;5;241m*\u001B[39m\u001B[38;5;241m*\u001B[39mkwargs):\n",
      "File \u001B[0;32m~/.cache/torch/hub/facebookresearch_dino_main/vision_transformer.py:24\u001B[0m\n\u001B[1;32m     21\u001B[0m \u001B[38;5;28;01mimport\u001B[39;00m \u001B[38;5;21;01mtorch\u001B[39;00m\n\u001B[1;32m     22\u001B[0m \u001B[38;5;28;01mimport\u001B[39;00m \u001B[38;5;21;01mtorch\u001B[39;00m\u001B[38;5;21;01m.\u001B[39;00m\u001B[38;5;21;01mnn\u001B[39;00m \u001B[38;5;28;01mas\u001B[39;00m \u001B[38;5;21;01mnn\u001B[39;00m\n\u001B[0;32m---> 24\u001B[0m \u001B[38;5;28;01mfrom\u001B[39;00m \u001B[38;5;21;01mutils\u001B[39;00m \u001B[38;5;28;01mimport\u001B[39;00m trunc_normal_\n\u001B[1;32m     27\u001B[0m \u001B[38;5;28;01mdef\u001B[39;00m \u001B[38;5;21mdrop_path\u001B[39m(x, drop_prob: \u001B[38;5;28mfloat\u001B[39m \u001B[38;5;241m=\u001B[39m \u001B[38;5;241m0.\u001B[39m, training: \u001B[38;5;28mbool\u001B[39m \u001B[38;5;241m=\u001B[39m \u001B[38;5;28;01mFalse\u001B[39;00m):\n\u001B[1;32m     28\u001B[0m     \u001B[38;5;28;01mif\u001B[39;00m drop_prob \u001B[38;5;241m==\u001B[39m \u001B[38;5;241m0.\u001B[39m \u001B[38;5;129;01mor\u001B[39;00m \u001B[38;5;129;01mnot\u001B[39;00m training:\n",
      "\u001B[0;31mImportError\u001B[0m: cannot import name 'trunc_normal_' from 'utils' (unknown location)"
     ]
    }
   ],
   "execution_count": 13
  },
  {
   "metadata": {},
   "cell_type": "code",
   "outputs": [],
   "execution_count": null,
   "source": [
    "import cv2\n",
    "from PIL import Image\n",
    "import pose_utils.img_utils as img_utils\n",
    "import pose_utils.vis_utils as vis_utils\n",
    "import numpy as np\n",
    "import time\n",
    "import matplotlib.pyplot as plt\n",
    "import os\n",
    "\n",
    "os.environ['CUDA_VISIBLE_DEVICES'] = '0'\n",
    "import torch\n",
    "import os\n",
    "import pandas as pd\n",
    "import numpy as np\n",
    "from PIL import Image\n",
    "from tqdm import tqdm\n",
    "import torch.nn.functional as F\n",
    "from extractor_sd import load_model, process_features_and_mask, get_mask\n",
    "from utils.utils_correspondence import co_pca, resize, find_nearest_patchs, find_nearest_patchs_replace\n",
    "import matplotlib.pyplot as plt\n",
    "import sys\n",
    "from extractor_dino import ViTExtractor\n",
    "from sklearn.decomposition import PCA as sklearnPCA\n",
    "import math\n",
    "from sklearn.cluster import KMeans\n",
    "from scipy.optimize import linear_sum_assignment\n",
    "\n",
    "\n",
    "\"\"\"SETUP for SD-DINO\"\"\"\n",
    "SEED = 42\n",
    "VER = \"v1-5\"\n",
    "SIZE = 960 # Image size\n",
    "TIMESTEP = 100\n",
    "\n",
    "# Set NumPy random seed for reproducibility\n",
    "np.random.seed(SEED)\n",
    "\n",
    "# Set PyTorch CPU random seed for reproducibility\n",
    "torch.manual_seed(SEED)\n",
    "\n",
    "# Set PyTorch GPU random seed for reproducibility\n",
    "torch.cuda.manual_seed(SEED)\n",
    "\n",
    "# Enable CuDNN benchmark mode for performance\n",
    "torch.backends.cudnn.benchmark = True\n",
    "\n",
    "# Load model\n",
    "model, aug = load_model(diffusion_ver=VER, image_size=SIZE, num_timesteps=TIMESTEP)\n",
    "\n",
    "\"\"\"SETUP for ZS6D\"\"\"\n",
    "img_id = '000048_1'\n",
    "# img_id = '8'\n",
    "\n",
    "# Loading a ground truth file to access segmentation masks to test zs6d:\n",
    "with open(os.path.join(config['gt_path']), 'r') as f:\n",
    "    data_gt = json.load(f)\n",
    "\n",
    "for i in range(len(data_gt[img_id])):\n",
    "    obj_number = i\n",
    "    obj_id = data_gt[img_id][obj_number]['obj_id']\n",
    "    cam_K = np.array(data_gt[img_id][obj_number]['cam_K']).reshape((3, 3))\n",
    "    bbox = data_gt[img_id][obj_number]['bbox_visib']\n",
    "\n",
    "    img_path = os.path.join(config['dataset_path'], data_gt[img_id][obj_number]['img_name'].split(\"./\")[-1])\n",
    "    # own test\n",
    "    img_path = os.path.join('test/', '000001.png')\n",
    "    img = Image.open(img_path)\n",
    "\n",
    "    mask = data_gt[img_id][obj_number]['mask_sam']\n",
    "    mask = img_utils.rle_to_mask(mask)\n",
    "    mask = mask.astype(np.uint8)\n",
    "\n",
    "    start_time = time.time()\n",
    "\n",
    "    # To estimate the objects Rotation R and translation t the input image, the object_id, a segmentation mask and camera matrix are necessary\n",
    "    R_est, t_est = pose_estimator.get_pose(model, aug, img, str(obj_id), mask, cam_K, bbox=None)\n",
    "\n",
    "    end_time = time.time()\n",
    "\n",
    "    out_img = vis_utils.draw_3D_bbox_on_image(np.array(img), R_est, t_est, cam_K,\n",
    "                                              data_gt[img_id][obj_number]['model_info'], factor=1.0)\n",
    "\n",
    "    plt.imshow(out_img)\n",
    "    plt.show()\n",
    "    print(f\"Pose estimation time: {end_time - start_time}\")\n",
    "    print(f\"R_est: {R_est}\")\n",
    "    print(f\"t_est: {t_est}\")\n",
    "\n",
    "\n"
   ],
   "id": "5b233f8413aa3f4c"
  }
 ],
 "metadata": {
  "kernelspec": {
   "display_name": "Python 3",
   "language": "python",
   "name": "python3"
  },
  "language_info": {
   "codemirror_mode": {
    "name": "ipython",
    "version": 2
   },
   "file_extension": ".py",
   "mimetype": "text/x-python",
   "name": "python",
   "nbconvert_exporter": "python",
   "pygments_lexer": "ipython2",
   "version": "2.7.6"
  }
 },
 "nbformat": 4,
 "nbformat_minor": 5
}
