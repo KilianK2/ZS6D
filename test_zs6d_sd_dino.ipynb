{
 "cells": [
  {
   "metadata": {
    "ExecuteTime": {
     "end_time": "2024-07-11T10:50:28.882193Z",
     "start_time": "2024-07-11T10:50:28.877968Z"
    }
   },
   "cell_type": "code",
   "source": [
    "\"\"\"Setup for Fused_ZS6D\"\"\"\n",
    "stride = 14\n",
    "image_size_sd = 960\n",
    "image_size_dino = 840\n",
    "layer = 11\n",
    "facet = 'token'\n",
    "model_type = 'dinov2_vitb14'"
   ],
   "id": "7b11b888e416bf1f",
   "outputs": [],
   "execution_count": 1
  },
  {
   "metadata": {
    "ExecuteTime": {
     "end_time": "2024-07-11T10:51:55.625304Z",
     "start_time": "2024-07-11T10:50:31.002218Z"
    }
   },
   "cell_type": "code",
   "source": [
    "from zs6d_sd_dino.sd_dino.extractor_sd import load_model\n",
    "\n",
    "model_sd, aug_sd = load_model(diffusion_ver=\"v1-5\", image_size=image_size_sd, num_timesteps=100)\n"
   ],
   "id": "4e96917a87cac8f",
   "outputs": [
    {
     "name": "stdout",
     "output_type": "stream",
     "text": [
      "Panoptic/odise_label_coco_50e.py\n",
      "/run/media/kilian/Extern_SSD/Robot_Vision/ZS6D/zs6d_sd_dino/sd_dino/third_party/ODISE/configs/Panoptic/odise_label_coco_50e.py\n",
      "No module 'xformers'. Proceeding without it.\n",
      "https://github.com/NVlabs/ODISE/releases/download/v1.0.0/odise_label_coco_50e-b67d2efc.pth\n",
      "LatentDiffusion: Running in eps-prediction mode\n",
      "DiffusionWrapper has 859.52 M params.\n",
      "making attention of type 'vanilla' with 512 in_channels\n",
      "Working with z of shape (1, 4, 32, 32) = 4096 dimensions.\n",
      "making attention of type 'vanilla' with 512 in_channels\n"
     ]
    },
    {
     "name": "stderr",
     "output_type": "stream",
     "text": [
      "The checkpoint state_dict contains keys that are not used by the model:\n",
      "  \u001B[35mmodel_ema.{decay, num_updates}\u001B[0m\n",
      "WARNING:fvcore.common.checkpoint:Keys with prefix are removed from state_dict:\n",
      "backbone.feature_extractor.,category_head.clip.clip.,clip_head.clip.clip.\n",
      "WARNING:fvcore.common.checkpoint:Removed 2483 ignored_state_dict keys from missing_keys\n",
      "WARNING:fvcore.common.checkpoint:Skip loading parameter 'backbone.feature_projections.2.0.shortcut.weight' to the model due to incompatible shapes: (512, 2560, 1, 1) in the checkpoint but (512, 1280, 1, 1) in the model! You might want to double check if this is expected.\n",
      "WARNING:fvcore.common.checkpoint:Skip loading parameter 'backbone.feature_projections.2.0.conv1.weight' to the model due to incompatible shapes: (128, 2560, 1, 1) in the checkpoint but (128, 1280, 1, 1) in the model! You might want to double check if this is expected.\n",
      "WARNING:fvcore.common.checkpoint:Skip loading parameter 'backbone.feature_projections.3.0.shortcut.weight' to the model due to incompatible shapes: (512, 1920, 1, 1) in the checkpoint but (512, 1280, 1, 1) in the model! You might want to double check if this is expected.\n",
      "WARNING:fvcore.common.checkpoint:Skip loading parameter 'backbone.feature_projections.3.0.conv1.weight' to the model due to incompatible shapes: (128, 1920, 1, 1) in the checkpoint but (128, 1280, 1, 1) in the model! You might want to double check if this is expected.\n",
      "WARNING:fvcore.common.checkpoint:Skip loading parameter 'backbone.feature_projections.4.0.shortcut.weight' to the model due to incompatible shapes: (512, 960, 1, 1) in the checkpoint but (512, 640, 1, 1) in the model! You might want to double check if this is expected.\n",
      "WARNING:fvcore.common.checkpoint:Skip loading parameter 'backbone.feature_projections.4.0.conv1.weight' to the model due to incompatible shapes: (128, 960, 1, 1) in the checkpoint but (128, 640, 1, 1) in the model! You might want to double check if this is expected.\n",
      "WARNING:fvcore.common.checkpoint:Skip loading parameter 'backbone.feature_projections.5.0.shortcut.weight' to the model due to incompatible shapes: (512, 640, 1, 1) in the checkpoint but (512, 320, 1, 1) in the model! You might want to double check if this is expected.\n",
      "WARNING:fvcore.common.checkpoint:Skip loading parameter 'backbone.feature_projections.5.0.conv1.weight' to the model due to incompatible shapes: (128, 640, 1, 1) in the checkpoint but (128, 320, 1, 1) in the model! You might want to double check if this is expected.\n",
      "WARNING:fvcore.common.checkpoint:Some model parameters or buffers are not found in the checkpoint:\n",
      "\u001B[34mbackbone.feature_projections.2.0.conv1.weight\u001B[0m\n",
      "\u001B[34mbackbone.feature_projections.2.0.shortcut.weight\u001B[0m\n",
      "\u001B[34mbackbone.feature_projections.3.0.conv1.weight\u001B[0m\n",
      "\u001B[34mbackbone.feature_projections.3.0.shortcut.weight\u001B[0m\n",
      "\u001B[34mbackbone.feature_projections.4.0.conv1.weight\u001B[0m\n",
      "\u001B[34mbackbone.feature_projections.4.0.shortcut.weight\u001B[0m\n",
      "\u001B[34mbackbone.feature_projections.5.0.conv1.weight\u001B[0m\n",
      "\u001B[34mbackbone.feature_projections.5.0.shortcut.weight\u001B[0m\n"
     ]
    }
   ],
   "execution_count": 2
  },
  {
   "metadata": {
    "ExecuteTime": {
     "end_time": "2024-07-11T10:24:09.665609Z",
     "start_time": "2024-07-11T10:24:07.840369Z"
    }
   },
   "cell_type": "code",
   "source": [
    "from zs6dsddino import ZS6DSdDino\n",
    "import os\n",
    "import json\n",
    "\n",
    "\n",
    "\n",
    "# Loading the config file:\n",
    "with open(os.path.join(\"./zs6d_configs/bop_eval_configs/cfg_single_sd_dino.json\"), \"r\") as f:\n",
    "    config = json.load(f)\n",
    "    \n",
    "# Instantiating the pose estimator:\n",
    "# This involves handing over the path to the templates_gt file and the corresponding object norm_factors.\n",
    "pose_estimator_sd_dino = ZS6DSdDino(model_sd, aug_sd, image_size_dino, image_size_sd, layer, facet, config['templates_gt_path'], config['norm_factor_path'], model_type=model_type, stride=stride)\n",
    "\n",
    "#patch_size = pose_estimator_sd_dino.model.patch_embed.patch_size[0]\n",
    "#num_patches = int(patch_size / stride * (image_size_dino // patch_size))"
   ],
   "id": "7f4a2a4202cd7387",
   "outputs": [
    {
     "name": "stderr",
     "output_type": "stream",
     "text": [
      "ERROR:ZS6DSdDino:Failed to load templates or norm_factors: [Errno 2] No such file or directory: './gts/template_gts/ycbv_template_gt_sd_dino_single.json'\n"
     ]
    },
    {
     "ename": "FileNotFoundError",
     "evalue": "[Errno 2] No such file or directory: './gts/template_gts/ycbv_template_gt_sd_dino_single.json'",
     "output_type": "error",
     "traceback": [
      "\u001B[0;31m---------------------------------------------------------------------------\u001B[0m",
      "\u001B[0;31mFileNotFoundError\u001B[0m                         Traceback (most recent call last)",
      "Cell \u001B[0;32mIn[3], line 13\u001B[0m\n\u001B[1;32m      9\u001B[0m     config \u001B[38;5;241m=\u001B[39m json\u001B[38;5;241m.\u001B[39mload(f)\n\u001B[1;32m     11\u001B[0m \u001B[38;5;66;03m# Instantiating the pose estimator:\u001B[39;00m\n\u001B[1;32m     12\u001B[0m \u001B[38;5;66;03m# This involves handing over the path to the templates_gt file and the corresponding object norm_factors.\u001B[39;00m\n\u001B[0;32m---> 13\u001B[0m pose_estimator_sd_dino \u001B[38;5;241m=\u001B[39m \u001B[43mZS6DSdDino\u001B[49m\u001B[43m(\u001B[49m\u001B[43mmodel_sd\u001B[49m\u001B[43m,\u001B[49m\u001B[43m \u001B[49m\u001B[43maug_sd\u001B[49m\u001B[43m,\u001B[49m\u001B[43m \u001B[49m\u001B[43mimage_size_dino\u001B[49m\u001B[43m,\u001B[49m\u001B[43m \u001B[49m\u001B[43mimage_size_sd\u001B[49m\u001B[43m,\u001B[49m\u001B[43m \u001B[49m\u001B[43mlayer\u001B[49m\u001B[43m,\u001B[49m\u001B[43m \u001B[49m\u001B[43mfacet\u001B[49m\u001B[43m,\u001B[49m\u001B[43m \u001B[49m\u001B[43mconfig\u001B[49m\u001B[43m[\u001B[49m\u001B[38;5;124;43m'\u001B[39;49m\u001B[38;5;124;43mtemplates_gt_path\u001B[39;49m\u001B[38;5;124;43m'\u001B[39;49m\u001B[43m]\u001B[49m\u001B[43m,\u001B[49m\u001B[43m \u001B[49m\u001B[43mconfig\u001B[49m\u001B[43m[\u001B[49m\u001B[38;5;124;43m'\u001B[39;49m\u001B[38;5;124;43mnorm_factor_path\u001B[39;49m\u001B[38;5;124;43m'\u001B[39;49m\u001B[43m]\u001B[49m\u001B[43m,\u001B[49m\u001B[43m \u001B[49m\u001B[43mmodel_type\u001B[49m\u001B[38;5;241;43m=\u001B[39;49m\u001B[43mmodel_type\u001B[49m\u001B[43m,\u001B[49m\u001B[43m \u001B[49m\u001B[43mstride\u001B[49m\u001B[38;5;241;43m=\u001B[39;49m\u001B[43mstride\u001B[49m\u001B[43m)\u001B[49m\n\u001B[1;32m     15\u001B[0m \u001B[38;5;66;03m#patch_size = pose_estimator_sd_dino.model.patch_embed.patch_size[0]\u001B[39;00m\n\u001B[1;32m     16\u001B[0m \u001B[38;5;66;03m#num_patches = int(patch_size / stride * (image_size_dino // patch_size))\u001B[39;00m\n",
      "File \u001B[0;32m/run/media/kilian/Extern_SSD/Robot_Vision/ZS6D/zs6dsddino.py:40\u001B[0m, in \u001B[0;36mZS6DSdDino.__init__\u001B[0;34m(self, model_sd, aug_sd, image_size_dino, image_size_sd, layer, facet, templates_gt_path, norm_factors_path, model_type, stride, subset_templates, max_crop_size)\u001B[0m\n\u001B[1;32m     36\u001B[0m \u001B[38;5;66;03m#self.patch_size = self.model.patch_embed.patch_size[0]\u001B[39;00m\n\u001B[1;32m     37\u001B[0m \u001B[38;5;66;03m#self.num_patches = int(self.patch_size / self.stride * (image_size_dino // self.patch_size))\u001B[39;00m\n\u001B[1;32m     39\u001B[0m \u001B[38;5;28;01mtry\u001B[39;00m:\n\u001B[0;32m---> 40\u001B[0m     \u001B[38;5;28;01mwith\u001B[39;00m \u001B[38;5;28;43mopen\u001B[39;49m\u001B[43m(\u001B[49m\u001B[43mos\u001B[49m\u001B[38;5;241;43m.\u001B[39;49m\u001B[43mpath\u001B[49m\u001B[38;5;241;43m.\u001B[39;49m\u001B[43mjoin\u001B[49m\u001B[43m(\u001B[49m\u001B[43mtemplates_gt_path\u001B[49m\u001B[43m)\u001B[49m\u001B[43m,\u001B[49m\u001B[43m \u001B[49m\u001B[38;5;124;43m'\u001B[39;49m\u001B[38;5;124;43mr\u001B[39;49m\u001B[38;5;124;43m'\u001B[39;49m\u001B[43m)\u001B[49m \u001B[38;5;28;01mas\u001B[39;00m f:\n\u001B[1;32m     41\u001B[0m         \u001B[38;5;28mself\u001B[39m\u001B[38;5;241m.\u001B[39mtemplates_gt \u001B[38;5;241m=\u001B[39m json\u001B[38;5;241m.\u001B[39mload(f)\n\u001B[1;32m     43\u001B[0m     \u001B[38;5;28;01mwith\u001B[39;00m \u001B[38;5;28mopen\u001B[39m(os\u001B[38;5;241m.\u001B[39mpath\u001B[38;5;241m.\u001B[39mjoin(norm_factors_path), \u001B[38;5;124m'\u001B[39m\u001B[38;5;124mr\u001B[39m\u001B[38;5;124m'\u001B[39m) \u001B[38;5;28;01mas\u001B[39;00m f:\n",
      "\u001B[0;31mFileNotFoundError\u001B[0m: [Errno 2] No such file or directory: './gts/template_gts/ycbv_template_gt_sd_dino_single.json'"
     ]
    }
   ],
   "execution_count": 3
  },
  {
   "metadata": {},
   "cell_type": "code",
   "outputs": [],
   "execution_count": null,
   "source": [
    "import cv2\n",
    "from PIL import Image\n",
    "import pose_utils.img_utils as img_utils\n",
    "import pose_utils.vis_utils as vis_utils\n",
    "import numpy as np\n",
    "import time\n",
    "import matplotlib.pyplot as plt\n",
    "#from src.pose_extractor import PoseViTExtractor\n",
    "import torch\n",
    "\n",
    "\n",
    "# Loading a ground truth file to access segmentation masks to test zs6d:\n",
    "with open(os.path.join(config['gt_path']), 'r') as f:\n",
    "    data_gt = json.load(f)\n",
    "\n",
    "img_id = '000048_1'\n",
    "# img_id = '8'\n",
    "\n",
    "device = 'cuda' if torch.cuda.is_available() else 'cpu'\n",
    "\n",
    "#extractor = PoseViTExtractor(model_type=model_type, stride=stride, device=device)\n",
    "\n",
    "patch_size = 14 #extractor.model.patch_embed.patch_size[0]\n",
    "num_patches = int(patch_size / stride * (image_size_dino // patch_size))\n",
    "\n",
    "\n",
    "for i in range(len(data_gt[img_id])):\n",
    "    obj_number = i\n",
    "    obj_id = data_gt[img_id][obj_number]['obj_id']\n",
    "    cam_K = np.array(data_gt[img_id][obj_number]['cam_K']).reshape((3,3))\n",
    "    bbox = data_gt[img_id][obj_number]['bbox_visib']\n",
    "\n",
    "    img_path = \"./test/000001.png\"\n",
    "    img = Image.open(img_path)\n",
    "\n",
    "    mask = data_gt[img_id][obj_number]['mask_sam']\n",
    "    mask = img_utils.rle_to_mask(mask)\n",
    "    mask = mask.astype(np.uint8)\n",
    "\n",
    "    start_time = time.time()\n",
    "    \n",
    "    # To estimate the objects Rotation R and translation t the input image, the object_id, a segmentation mask and camera matrix are necessary\n",
    "    R_est, t_est = pose_estimator_sd_dino.get_pose(num_patches, img, str(obj_id), mask, cam_K, bbox=None)\n",
    "\n",
    "    end_time = time.time()\n",
    "    \n",
    "    out_img = vis_utils.draw_3D_bbox_on_image(np.array(img), R_est, t_est, cam_K, data_gt[img_id][obj_number]['model_info'], factor=1.0)\n",
    "\n",
    "    plt.imshow(out_img)\n",
    "    plt.show()\n",
    "    print(f\"Pose estimation time: {end_time-start_time}\")\n",
    "    print(f\"R_est: {R_est}\")\n",
    "    print(f\"t_est: {t_est}\")"
   ],
   "id": "dd3fe4690178d812"
  }
 ],
 "metadata": {
  "kernelspec": {
   "display_name": "Python 3",
   "language": "python",
   "name": "python3"
  },
  "language_info": {
   "codemirror_mode": {
    "name": "ipython",
    "version": 2
   },
   "file_extension": ".py",
   "mimetype": "text/x-python",
   "name": "python",
   "nbconvert_exporter": "python",
   "pygments_lexer": "ipython2",
   "version": "2.7.6"
  }
 },
 "nbformat": 4,
 "nbformat_minor": 5
}
