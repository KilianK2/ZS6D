{
 "cells": [
  {
   "metadata": {
    "ExecuteTime": {
     "end_time": "2024-06-25T14:16:17.432279Z",
     "start_time": "2024-06-25T14:16:17.428013Z"
    }
   },
   "cell_type": "code",
   "source": [
    "# Loading the config file:\n",
    "import os\n",
    "\n",
    "files = os.listdir('./templates/ycbv_desc/models_xyz/')\n",
    "print(files)"
   ],
   "id": "3a374f8887df45d4",
   "outputs": [
    {
     "name": "stdout",
     "output_type": "stream",
     "text": [
      "['norm_factor.json', 'obj_000016.ply', 'obj_000002.ply', 'obj_000003.ply', 'obj_000017.ply', 'obj_000001.ply', 'obj_000015.ply', 'obj_000014.ply', 'obj_000004.ply', 'obj_000010.ply', 'obj_000011.ply', 'obj_000005.ply', 'obj_000013.ply', 'obj_000007.ply', 'obj_000006.ply', 'obj_000012.ply', 'obj_000008.ply', 'obj_000020.ply', 'obj_000021.ply', 'obj_000009.ply', 'obj_000019.ply', 'obj_000018.ply', 'models_factor.json']\n"
     ]
    }
   ],
   "execution_count": 1
  },
  {
   "metadata": {
    "ExecuteTime": {
     "end_time": "2024-06-25T14:16:35.794731Z",
     "start_time": "2024-06-25T14:16:20.820440Z"
    }
   },
   "cell_type": "code",
   "source": [
    "from fused_zs6d import Fused_ZS6D\n",
    "import os\n",
    "import json\n",
    "\n",
    "with open(os.path.join(\"./zs6d_configs/bop_eval_configs/cfg_ycbv_inference_bop.json\"), \"r\") as f:\n",
    "    config = json.load(f)\n",
    "\n",
    "# Instantiating the pose estimator:\n",
    "# This involves handing over the path to the templates_gt file and the corresponding object norm_factors.\n",
    "pose_estimator = Fused_ZS6D(config['templates_gt_path'], config['norm_factor_path'])"
   ],
   "id": "6f5c2ec315b26625",
   "outputs": [
    {
     "name": "stderr",
     "output_type": "stream",
     "text": [
      "Using cache found in /home/kilian/.cache/torch/hub/facebookresearch_dino_main\n",
      "100%|██████████| 21/21 [00:10<00:00,  2.03it/s]\n"
     ]
    }
   ],
   "execution_count": 2
  },
  {
   "metadata": {
    "ExecuteTime": {
     "end_time": "2024-06-25T14:21:38.670484Z",
     "start_time": "2024-06-25T14:16:39.597682Z"
    }
   },
   "cell_type": "code",
   "source": [
    "import cv2\n",
    "from PIL import Image\n",
    "import pose_utils.img_utils as img_utils\n",
    "import pose_utils.vis_utils as vis_utils\n",
    "import numpy as np\n",
    "import time\n",
    "import matplotlib.pyplot as plt\n",
    "import os\n",
    "\n",
    "os.environ['CUDA_VISIBLE_DEVICES'] = '0'\n",
    "import torch\n",
    "import os\n",
    "import pandas as pd\n",
    "import numpy as np\n",
    "from PIL import Image\n",
    "from tqdm import tqdm\n",
    "import torch.nn.functional as F\n",
    "from extractor_sd import load_model, process_features_and_mask, get_mask\n",
    "from utils.utils_correspondence import co_pca, resize, find_nearest_patchs, find_nearest_patchs_replace\n",
    "import matplotlib.pyplot as plt\n",
    "import sys\n",
    "from extractor_dino import ViTExtractor\n",
    "from sklearn.decomposition import PCA as sklearnPCA\n",
    "import math\n",
    "from sklearn.cluster import KMeans\n",
    "from scipy.optimize import linear_sum_assignment\n",
    "\n",
    "\n",
    "\"\"\"SETUP for SD-DINO\"\"\"\n",
    "SEED = 42\n",
    "VER = \"v1-5\"\n",
    "SIZE = 960 # Image size\n",
    "TIMESTEP = 100\n",
    "\n",
    "# Set NumPy random seed for reproducibility\n",
    "np.random.seed(SEED)\n",
    "\n",
    "# Set PyTorch CPU random seed for reproducibility\n",
    "torch.manual_seed(SEED)\n",
    "\n",
    "# Set PyTorch GPU random seed for reproducibility\n",
    "torch.cuda.manual_seed(SEED)\n",
    "\n",
    "# Enable CuDNN benchmark mode for performance\n",
    "torch.backends.cudnn.benchmark = True\n",
    "\n",
    "# Load model\n",
    "model, aug = load_model(diffusion_ver=VER, image_size=SIZE, num_timesteps=TIMESTEP)\n",
    "\n",
    "\"\"\"SETUP for ZS6D\"\"\"\n",
    "img_id = '000048_1'\n",
    "# img_id = '8'\n",
    "\n",
    "# Loading a ground truth file to access segmentation masks to test zs6d:\n",
    "with open(os.path.join(config['gt_path']), 'r') as f:\n",
    "    data_gt = json.load(f)\n",
    "\n",
    "for i in range(len(data_gt[img_id])):\n",
    "    obj_number = i\n",
    "    obj_id = data_gt[img_id][obj_number]['obj_id']\n",
    "    cam_K = np.array(data_gt[img_id][obj_number]['cam_K']).reshape((3, 3))\n",
    "    bbox = data_gt[img_id][obj_number]['bbox_visib']\n",
    "\n",
    "    img_path = os.path.join(config['dataset_path'], data_gt[img_id][obj_number]['img_name'].split(\"./\")[-1])\n",
    "    # own test\n",
    "    img_path = os.path.join('test/', '000001.png')\n",
    "    img = Image.open(img_path)\n",
    "\n",
    "    mask = data_gt[img_id][obj_number]['mask_sam']\n",
    "    mask = img_utils.rle_to_mask(mask)\n",
    "    mask = mask.astype(np.uint8)\n",
    "\n",
    "    start_time = time.time()\n",
    "\n",
    "    stride = 4\n",
    "    # To estimate the objects Rotation R and translation t the input image, the object_id, a segmentation mask and camera matrix are necessary\n",
    "    R_est, t_est = pose_estimator.get_pose(model, aug, stride, img, str(obj_id), mask, cam_K, bbox=None)\n",
    "\n",
    "    end_time = time.time()\n",
    "\n",
    "    out_img = vis_utils.draw_3D_bbox_on_image(np.array(img), R_est, t_est, cam_K,\n",
    "                                              data_gt[img_id][obj_number]['model_info'], factor=1.0)\n",
    "\n",
    "    plt.imshow(out_img)\n",
    "    plt.show()\n",
    "    print(f\"Pose estimation time: {end_time - start_time}\")\n",
    "    print(f\"R_est: {R_est}\")\n",
    "    print(f\"t_est: {t_est}\")\n",
    "\n",
    "\n"
   ],
   "id": "5b233f8413aa3f4c",
   "outputs": [
    {
     "name": "stdout",
     "output_type": "stream",
     "text": [
      "/run/media/kilian/Extern_SSD/Robot_Vision/ZS6D/zs6d-sd-dino/sd-dino/third_party/ODISE/odise/model_zoo/configs/Panoptic/odise_label_coco_50e.py\n",
      "test\n",
      "No module 'xformers'. Proceeding without it.\n",
      "LatentDiffusion: Running in eps-prediction mode\n",
      "DiffusionWrapper has 859.52 M params.\n",
      "making attention of type 'vanilla' with 512 in_channels\n",
      "Working with z of shape (1, 4, 32, 32) = 4096 dimensions.\n",
      "making attention of type 'vanilla' with 512 in_channels\n"
     ]
    },
    {
     "name": "stderr",
     "output_type": "stream",
     "text": [
      "2024-06-25 16:21:36,443 - ERROR - Error in get_pose: q(=256) must be non-negative integer and not greater than min(m, n)=225\n"
     ]
    },
    {
     "ename": "ValueError",
     "evalue": "q(=256) must be non-negative integer and not greater than min(m, n)=225",
     "output_type": "error",
     "traceback": [
      "\u001B[0;31m---------------------------------------------------------------------------\u001B[0m",
      "\u001B[0;31mValueError\u001B[0m                                Traceback (most recent call last)",
      "Cell \u001B[0;32mIn[3], line 77\u001B[0m\n\u001B[1;32m     75\u001B[0m stride \u001B[38;5;241m=\u001B[39m \u001B[38;5;241m4\u001B[39m\n\u001B[1;32m     76\u001B[0m \u001B[38;5;66;03m# To estimate the objects Rotation R and translation t the input image, the object_id, a segmentation mask and camera matrix are necessary\u001B[39;00m\n\u001B[0;32m---> 77\u001B[0m R_est, t_est \u001B[38;5;241m=\u001B[39m \u001B[43mpose_estimator\u001B[49m\u001B[38;5;241;43m.\u001B[39;49m\u001B[43mget_pose\u001B[49m\u001B[43m(\u001B[49m\u001B[43mmodel\u001B[49m\u001B[43m,\u001B[49m\u001B[43m \u001B[49m\u001B[43maug\u001B[49m\u001B[43m,\u001B[49m\u001B[43m \u001B[49m\u001B[43mstride\u001B[49m\u001B[43m,\u001B[49m\u001B[43m \u001B[49m\u001B[43mimg\u001B[49m\u001B[43m,\u001B[49m\u001B[43m \u001B[49m\u001B[38;5;28;43mstr\u001B[39;49m\u001B[43m(\u001B[49m\u001B[43mobj_id\u001B[49m\u001B[43m)\u001B[49m\u001B[43m,\u001B[49m\u001B[43m \u001B[49m\u001B[43mmask\u001B[49m\u001B[43m,\u001B[49m\u001B[43m \u001B[49m\u001B[43mcam_K\u001B[49m\u001B[43m,\u001B[49m\u001B[43m \u001B[49m\u001B[43mbbox\u001B[49m\u001B[38;5;241;43m=\u001B[39;49m\u001B[38;5;28;43;01mNone\u001B[39;49;00m\u001B[43m)\u001B[49m\n\u001B[1;32m     79\u001B[0m end_time \u001B[38;5;241m=\u001B[39m time\u001B[38;5;241m.\u001B[39mtime()\n\u001B[1;32m     81\u001B[0m out_img \u001B[38;5;241m=\u001B[39m vis_utils\u001B[38;5;241m.\u001B[39mdraw_3D_bbox_on_image(np\u001B[38;5;241m.\u001B[39marray(img), R_est, t_est, cam_K,\n\u001B[1;32m     82\u001B[0m                                           data_gt[img_id][obj_number][\u001B[38;5;124m'\u001B[39m\u001B[38;5;124mmodel_info\u001B[39m\u001B[38;5;124m'\u001B[39m], factor\u001B[38;5;241m=\u001B[39m\u001B[38;5;241m1.0\u001B[39m)\n",
      "File \u001B[0;32m/run/media/kilian/Extern_SSD/Robot_Vision/ZS6D/zs6d-sd-dino/fused_zs6d.py:88\u001B[0m, in \u001B[0;36mFused_ZS6D.get_pose\u001B[0;34m(self, model, aug, stride, img, obj_id, mask, cam_K, bbox)\u001B[0m\n\u001B[1;32m     85\u001B[0m features_sd \u001B[38;5;241m=\u001B[39m process_features_and_mask(model, aug, img_resized, input_text\u001B[38;5;241m=\u001B[39m\u001B[38;5;28;01mNone\u001B[39;00m, mask\u001B[38;5;241m=\u001B[39m\u001B[38;5;28;01mFalse\u001B[39;00m,\n\u001B[1;32m     86\u001B[0m                                         raw\u001B[38;5;241m=\u001B[39m\u001B[38;5;28;01mTrue\u001B[39;00m)  \u001B[38;5;66;03m# sd\u001B[39;00m\n\u001B[1;32m     87\u001B[0m dim \u001B[38;5;241m=\u001B[39m [\u001B[38;5;241m256\u001B[39m, \u001B[38;5;241m256\u001B[39m, \u001B[38;5;241m256\u001B[39m]\n\u001B[0;32m---> 88\u001B[0m processed_features_sd \u001B[38;5;241m=\u001B[39m \u001B[43mco_pca_single\u001B[49m\u001B[43m(\u001B[49m\u001B[43mfeatures_sd\u001B[49m\u001B[43m,\u001B[49m\u001B[43m \u001B[49m\u001B[43mdim\u001B[49m\u001B[43m)\u001B[49m\n\u001B[1;32m     89\u001B[0m desc_sd \u001B[38;5;241m=\u001B[39m processed_features_sd\u001B[38;5;241m.\u001B[39mreshape(\u001B[38;5;241m1\u001B[39m, \u001B[38;5;241m1\u001B[39m, \u001B[38;5;241m-\u001B[39m\u001B[38;5;241m1\u001B[39m, num_patches \u001B[38;5;241m*\u001B[39m\u001B[38;5;241m*\u001B[39m \u001B[38;5;241m2\u001B[39m)\u001B[38;5;241m.\u001B[39mpermute(\u001B[38;5;241m0\u001B[39m, \u001B[38;5;241m1\u001B[39m, \u001B[38;5;241m3\u001B[39m, \u001B[38;5;241m2\u001B[39m)\n\u001B[1;32m     90\u001B[0m \u001B[38;5;66;03m# normalize the features\u001B[39;00m\n",
      "File \u001B[0;32m/run/media/kilian/Extern_SSD/Robot_Vision/ZS6D/zs6d-sd-dino/fused_zs6d.py:179\u001B[0m, in \u001B[0;36mco_pca_single\u001B[0;34m(features_sd, dim)\u001B[0m\n\u001B[1;32m    177\u001B[0m mean \u001B[38;5;241m=\u001B[39m torch\u001B[38;5;241m.\u001B[39mmean(features[\u001B[38;5;241m0\u001B[39m], dim\u001B[38;5;241m=\u001B[39m\u001B[38;5;241m0\u001B[39m, keepdim\u001B[38;5;241m=\u001B[39m\u001B[38;5;28;01mTrue\u001B[39;00m)\n\u001B[1;32m    178\u001B[0m centered_features \u001B[38;5;241m=\u001B[39m features[\u001B[38;5;241m0\u001B[39m] \u001B[38;5;241m-\u001B[39m mean\n\u001B[0;32m--> 179\u001B[0m U, S, V \u001B[38;5;241m=\u001B[39m \u001B[43mtorch\u001B[49m\u001B[38;5;241;43m.\u001B[39;49m\u001B[43mpca_lowrank\u001B[49m\u001B[43m(\u001B[49m\u001B[43mcentered_features\u001B[49m\u001B[43m,\u001B[49m\u001B[43m \u001B[49m\u001B[43mq\u001B[49m\u001B[38;5;241;43m=\u001B[39;49m\u001B[43mtarget_dim\u001B[49m\u001B[43m)\u001B[49m\n\u001B[1;32m    180\u001B[0m reduced_features \u001B[38;5;241m=\u001B[39m torch\u001B[38;5;241m.\u001B[39mmatmul(centered_features, V[:, :target_dim])  \u001B[38;5;66;03m# (t_x+t_y)x(d)\u001B[39;00m\n\u001B[1;32m    181\u001B[0m features \u001B[38;5;241m=\u001B[39m reduced_features\u001B[38;5;241m.\u001B[39munsqueeze(\u001B[38;5;241m0\u001B[39m)\u001B[38;5;241m.\u001B[39mpermute(\u001B[38;5;241m0\u001B[39m, \u001B[38;5;241m2\u001B[39m, \u001B[38;5;241m1\u001B[39m)  \u001B[38;5;66;03m# Bx(d)x(t_x+t_y)\u001B[39;00m\n",
      "File \u001B[0;32m~/miniforge3/envs/zs6d-sd-dino/lib/python3.9/site-packages/torch/_lowrank.py:265\u001B[0m, in \u001B[0;36mpca_lowrank\u001B[0;34m(A, q, center, niter)\u001B[0m\n\u001B[1;32m    263\u001B[0m     q \u001B[38;5;241m=\u001B[39m \u001B[38;5;28mmin\u001B[39m(\u001B[38;5;241m6\u001B[39m, m, n)\n\u001B[1;32m    264\u001B[0m \u001B[38;5;28;01melif\u001B[39;00m \u001B[38;5;129;01mnot\u001B[39;00m (q \u001B[38;5;241m>\u001B[39m\u001B[38;5;241m=\u001B[39m \u001B[38;5;241m0\u001B[39m \u001B[38;5;129;01mand\u001B[39;00m q \u001B[38;5;241m<\u001B[39m\u001B[38;5;241m=\u001B[39m \u001B[38;5;28mmin\u001B[39m(m, n)):\n\u001B[0;32m--> 265\u001B[0m     \u001B[38;5;28;01mraise\u001B[39;00m \u001B[38;5;167;01mValueError\u001B[39;00m(\n\u001B[1;32m    266\u001B[0m         \u001B[38;5;124m\"\u001B[39m\u001B[38;5;124mq(=\u001B[39m\u001B[38;5;132;01m{}\u001B[39;00m\u001B[38;5;124m) must be non-negative integer\u001B[39m\u001B[38;5;124m\"\u001B[39m\n\u001B[1;32m    267\u001B[0m         \u001B[38;5;124m\"\u001B[39m\u001B[38;5;124m and not greater than min(m, n)=\u001B[39m\u001B[38;5;132;01m{}\u001B[39;00m\u001B[38;5;124m\"\u001B[39m\u001B[38;5;241m.\u001B[39mformat(q, \u001B[38;5;28mmin\u001B[39m(m, n))\n\u001B[1;32m    268\u001B[0m     )\n\u001B[1;32m    269\u001B[0m \u001B[38;5;28;01mif\u001B[39;00m \u001B[38;5;129;01mnot\u001B[39;00m (niter \u001B[38;5;241m>\u001B[39m\u001B[38;5;241m=\u001B[39m \u001B[38;5;241m0\u001B[39m):\n\u001B[1;32m    270\u001B[0m     \u001B[38;5;28;01mraise\u001B[39;00m \u001B[38;5;167;01mValueError\u001B[39;00m(\u001B[38;5;124m\"\u001B[39m\u001B[38;5;124mniter(=\u001B[39m\u001B[38;5;132;01m{}\u001B[39;00m\u001B[38;5;124m) must be non-negative integer\u001B[39m\u001B[38;5;124m\"\u001B[39m\u001B[38;5;241m.\u001B[39mformat(niter))\n",
      "\u001B[0;31mValueError\u001B[0m: q(=256) must be non-negative integer and not greater than min(m, n)=225"
     ]
    }
   ],
   "execution_count": 3
  },
  {
   "metadata": {},
   "cell_type": "code",
   "outputs": [],
   "execution_count": null,
   "source": "",
   "id": "7b578ede0e4bfa00"
  }
 ],
 "metadata": {
  "kernelspec": {
   "display_name": "Python 3",
   "language": "python",
   "name": "python3"
  },
  "language_info": {
   "codemirror_mode": {
    "name": "ipython",
    "version": 2
   },
   "file_extension": ".py",
   "mimetype": "text/x-python",
   "name": "python",
   "nbconvert_exporter": "python",
   "pygments_lexer": "ipython2",
   "version": "2.7.6"
  }
 },
 "nbformat": 4,
 "nbformat_minor": 5
}
