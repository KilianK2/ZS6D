{
 "cells": [
  {
   "cell_type": "code",
   "id": "initial_id",
   "metadata": {
    "collapsed": true,
    "ExecuteTime": {
     "end_time": "2024-07-06T13:34:21.696599Z",
     "start_time": "2024-07-06T13:34:18.918950Z"
    }
   },
   "source": [
    "\n",
    "import os\n",
    "import json\n",
    "from zs6d_sd_dino.fused_zs6d import Fused_ZS6D\n",
    "# Loading the config file:\n",
    "with open(os.path.join(\"./zs6d_configs/bop_eval_configs/cfg_ycbv_inference_bop_sd_dino.json\"), \"r\") as f:\n",
    "    config = json.load(f)\n",
    "\n",
    "model_type = 'dinov2_vitb14'\n",
    "stride = 14\n",
    "pose_estimator = Fused_ZS6D(config['templates_gt_path'], config['norm_factor_path'], model_type, stride)"
   ],
   "outputs": [
    {
     "name": "stderr",
     "output_type": "stream",
     "text": [
      "2024-07-06 15:34:21,305 - ERROR - Failed to load templates or norm_factors: Expecting value: line 1 column 1 (char 0)\n"
     ]
    },
    {
     "ename": "JSONDecodeError",
     "evalue": "Expecting value: line 1 column 1 (char 0)",
     "output_type": "error",
     "traceback": [
      "\u001B[0;31m---------------------------------------------------------------------------\u001B[0m",
      "\u001B[0;31mJSONDecodeError\u001B[0m                           Traceback (most recent call last)",
      "Cell \u001B[0;32mIn[1], line 10\u001B[0m\n\u001B[1;32m      8\u001B[0m model_type \u001B[38;5;241m=\u001B[39m \u001B[38;5;124m'\u001B[39m\u001B[38;5;124mdinov2_vitb14\u001B[39m\u001B[38;5;124m'\u001B[39m\n\u001B[1;32m      9\u001B[0m stride \u001B[38;5;241m=\u001B[39m \u001B[38;5;241m14\u001B[39m\n\u001B[0;32m---> 10\u001B[0m pose_estimator \u001B[38;5;241m=\u001B[39m \u001B[43mFused_ZS6D\u001B[49m\u001B[43m(\u001B[49m\u001B[43mconfig\u001B[49m\u001B[43m[\u001B[49m\u001B[38;5;124;43m'\u001B[39;49m\u001B[38;5;124;43mtemplates_gt_path\u001B[39;49m\u001B[38;5;124;43m'\u001B[39;49m\u001B[43m]\u001B[49m\u001B[43m,\u001B[49m\u001B[43m \u001B[49m\u001B[43mconfig\u001B[49m\u001B[43m[\u001B[49m\u001B[38;5;124;43m'\u001B[39;49m\u001B[38;5;124;43mnorm_factor_path\u001B[39;49m\u001B[38;5;124;43m'\u001B[39;49m\u001B[43m]\u001B[49m\u001B[43m,\u001B[49m\u001B[43m \u001B[49m\u001B[43mmodel_type\u001B[49m\u001B[43m,\u001B[49m\u001B[43m \u001B[49m\u001B[43mstride\u001B[49m\u001B[43m)\u001B[49m\n",
      "File \u001B[0;32m/run/media/kilian/Extern_SSD/Robot_Vision/ZS6D/zs6d_sd_dino/fused_zs6d.py:47\u001B[0m, in \u001B[0;36mFused_ZS6D.__init__\u001B[0;34m(self, templates_gt_path, norm_factors_path, model_type, stride, subset_templates, max_crop_size)\u001B[0m\n\u001B[1;32m     45\u001B[0m \u001B[38;5;28;01mtry\u001B[39;00m:\n\u001B[1;32m     46\u001B[0m     \u001B[38;5;28;01mwith\u001B[39;00m \u001B[38;5;28mopen\u001B[39m(os\u001B[38;5;241m.\u001B[39mpath\u001B[38;5;241m.\u001B[39mjoin(templates_gt_path), \u001B[38;5;124m'\u001B[39m\u001B[38;5;124mr\u001B[39m\u001B[38;5;124m'\u001B[39m) \u001B[38;5;28;01mas\u001B[39;00m f:\n\u001B[0;32m---> 47\u001B[0m         \u001B[38;5;28mself\u001B[39m\u001B[38;5;241m.\u001B[39mtemplates_gt \u001B[38;5;241m=\u001B[39m \u001B[43mjson\u001B[49m\u001B[38;5;241;43m.\u001B[39;49m\u001B[43mload\u001B[49m\u001B[43m(\u001B[49m\u001B[43mf\u001B[49m\u001B[43m)\u001B[49m\n\u001B[1;32m     49\u001B[0m     \u001B[38;5;28;01mwith\u001B[39;00m \u001B[38;5;28mopen\u001B[39m(os\u001B[38;5;241m.\u001B[39mpath\u001B[38;5;241m.\u001B[39mjoin(norm_factors_path), \u001B[38;5;124m'\u001B[39m\u001B[38;5;124mr\u001B[39m\u001B[38;5;124m'\u001B[39m) \u001B[38;5;28;01mas\u001B[39;00m f:\n\u001B[1;32m     50\u001B[0m         \u001B[38;5;28mself\u001B[39m\u001B[38;5;241m.\u001B[39mnorm_factors \u001B[38;5;241m=\u001B[39m json\u001B[38;5;241m.\u001B[39mload(f)\n",
      "File \u001B[0;32m~/miniforge3/envs/zs6d-sd-dino/lib/python3.9/json/__init__.py:293\u001B[0m, in \u001B[0;36mload\u001B[0;34m(fp, cls, object_hook, parse_float, parse_int, parse_constant, object_pairs_hook, **kw)\u001B[0m\n\u001B[1;32m    274\u001B[0m \u001B[38;5;28;01mdef\u001B[39;00m \u001B[38;5;21mload\u001B[39m(fp, \u001B[38;5;241m*\u001B[39m, \u001B[38;5;28mcls\u001B[39m\u001B[38;5;241m=\u001B[39m\u001B[38;5;28;01mNone\u001B[39;00m, object_hook\u001B[38;5;241m=\u001B[39m\u001B[38;5;28;01mNone\u001B[39;00m, parse_float\u001B[38;5;241m=\u001B[39m\u001B[38;5;28;01mNone\u001B[39;00m,\n\u001B[1;32m    275\u001B[0m         parse_int\u001B[38;5;241m=\u001B[39m\u001B[38;5;28;01mNone\u001B[39;00m, parse_constant\u001B[38;5;241m=\u001B[39m\u001B[38;5;28;01mNone\u001B[39;00m, object_pairs_hook\u001B[38;5;241m=\u001B[39m\u001B[38;5;28;01mNone\u001B[39;00m, \u001B[38;5;241m*\u001B[39m\u001B[38;5;241m*\u001B[39mkw):\n\u001B[1;32m    276\u001B[0m \u001B[38;5;250m    \u001B[39m\u001B[38;5;124;03m\"\"\"Deserialize ``fp`` (a ``.read()``-supporting file-like object containing\u001B[39;00m\n\u001B[1;32m    277\u001B[0m \u001B[38;5;124;03m    a JSON document) to a Python object.\u001B[39;00m\n\u001B[1;32m    278\u001B[0m \n\u001B[0;32m   (...)\u001B[0m\n\u001B[1;32m    291\u001B[0m \u001B[38;5;124;03m    kwarg; otherwise ``JSONDecoder`` is used.\u001B[39;00m\n\u001B[1;32m    292\u001B[0m \u001B[38;5;124;03m    \"\"\"\u001B[39;00m\n\u001B[0;32m--> 293\u001B[0m     \u001B[38;5;28;01mreturn\u001B[39;00m \u001B[43mloads\u001B[49m\u001B[43m(\u001B[49m\u001B[43mfp\u001B[49m\u001B[38;5;241;43m.\u001B[39;49m\u001B[43mread\u001B[49m\u001B[43m(\u001B[49m\u001B[43m)\u001B[49m\u001B[43m,\u001B[49m\n\u001B[1;32m    294\u001B[0m \u001B[43m        \u001B[49m\u001B[38;5;28;43mcls\u001B[39;49m\u001B[38;5;241;43m=\u001B[39;49m\u001B[38;5;28;43mcls\u001B[39;49m\u001B[43m,\u001B[49m\u001B[43m \u001B[49m\u001B[43mobject_hook\u001B[49m\u001B[38;5;241;43m=\u001B[39;49m\u001B[43mobject_hook\u001B[49m\u001B[43m,\u001B[49m\n\u001B[1;32m    295\u001B[0m \u001B[43m        \u001B[49m\u001B[43mparse_float\u001B[49m\u001B[38;5;241;43m=\u001B[39;49m\u001B[43mparse_float\u001B[49m\u001B[43m,\u001B[49m\u001B[43m \u001B[49m\u001B[43mparse_int\u001B[49m\u001B[38;5;241;43m=\u001B[39;49m\u001B[43mparse_int\u001B[49m\u001B[43m,\u001B[49m\n\u001B[1;32m    296\u001B[0m \u001B[43m        \u001B[49m\u001B[43mparse_constant\u001B[49m\u001B[38;5;241;43m=\u001B[39;49m\u001B[43mparse_constant\u001B[49m\u001B[43m,\u001B[49m\u001B[43m \u001B[49m\u001B[43mobject_pairs_hook\u001B[49m\u001B[38;5;241;43m=\u001B[39;49m\u001B[43mobject_pairs_hook\u001B[49m\u001B[43m,\u001B[49m\u001B[43m \u001B[49m\u001B[38;5;241;43m*\u001B[39;49m\u001B[38;5;241;43m*\u001B[39;49m\u001B[43mkw\u001B[49m\u001B[43m)\u001B[49m\n",
      "File \u001B[0;32m~/miniforge3/envs/zs6d-sd-dino/lib/python3.9/json/__init__.py:346\u001B[0m, in \u001B[0;36mloads\u001B[0;34m(s, cls, object_hook, parse_float, parse_int, parse_constant, object_pairs_hook, **kw)\u001B[0m\n\u001B[1;32m    341\u001B[0m     s \u001B[38;5;241m=\u001B[39m s\u001B[38;5;241m.\u001B[39mdecode(detect_encoding(s), \u001B[38;5;124m'\u001B[39m\u001B[38;5;124msurrogatepass\u001B[39m\u001B[38;5;124m'\u001B[39m)\n\u001B[1;32m    343\u001B[0m \u001B[38;5;28;01mif\u001B[39;00m (\u001B[38;5;28mcls\u001B[39m \u001B[38;5;129;01mis\u001B[39;00m \u001B[38;5;28;01mNone\u001B[39;00m \u001B[38;5;129;01mand\u001B[39;00m object_hook \u001B[38;5;129;01mis\u001B[39;00m \u001B[38;5;28;01mNone\u001B[39;00m \u001B[38;5;129;01mand\u001B[39;00m\n\u001B[1;32m    344\u001B[0m         parse_int \u001B[38;5;129;01mis\u001B[39;00m \u001B[38;5;28;01mNone\u001B[39;00m \u001B[38;5;129;01mand\u001B[39;00m parse_float \u001B[38;5;129;01mis\u001B[39;00m \u001B[38;5;28;01mNone\u001B[39;00m \u001B[38;5;129;01mand\u001B[39;00m\n\u001B[1;32m    345\u001B[0m         parse_constant \u001B[38;5;129;01mis\u001B[39;00m \u001B[38;5;28;01mNone\u001B[39;00m \u001B[38;5;129;01mand\u001B[39;00m object_pairs_hook \u001B[38;5;129;01mis\u001B[39;00m \u001B[38;5;28;01mNone\u001B[39;00m \u001B[38;5;129;01mand\u001B[39;00m \u001B[38;5;129;01mnot\u001B[39;00m kw):\n\u001B[0;32m--> 346\u001B[0m     \u001B[38;5;28;01mreturn\u001B[39;00m \u001B[43m_default_decoder\u001B[49m\u001B[38;5;241;43m.\u001B[39;49m\u001B[43mdecode\u001B[49m\u001B[43m(\u001B[49m\u001B[43ms\u001B[49m\u001B[43m)\u001B[49m\n\u001B[1;32m    347\u001B[0m \u001B[38;5;28;01mif\u001B[39;00m \u001B[38;5;28mcls\u001B[39m \u001B[38;5;129;01mis\u001B[39;00m \u001B[38;5;28;01mNone\u001B[39;00m:\n\u001B[1;32m    348\u001B[0m     \u001B[38;5;28mcls\u001B[39m \u001B[38;5;241m=\u001B[39m JSONDecoder\n",
      "File \u001B[0;32m~/miniforge3/envs/zs6d-sd-dino/lib/python3.9/json/decoder.py:337\u001B[0m, in \u001B[0;36mJSONDecoder.decode\u001B[0;34m(self, s, _w)\u001B[0m\n\u001B[1;32m    332\u001B[0m \u001B[38;5;28;01mdef\u001B[39;00m \u001B[38;5;21mdecode\u001B[39m(\u001B[38;5;28mself\u001B[39m, s, _w\u001B[38;5;241m=\u001B[39mWHITESPACE\u001B[38;5;241m.\u001B[39mmatch):\n\u001B[1;32m    333\u001B[0m \u001B[38;5;250m    \u001B[39m\u001B[38;5;124;03m\"\"\"Return the Python representation of ``s`` (a ``str`` instance\u001B[39;00m\n\u001B[1;32m    334\u001B[0m \u001B[38;5;124;03m    containing a JSON document).\u001B[39;00m\n\u001B[1;32m    335\u001B[0m \n\u001B[1;32m    336\u001B[0m \u001B[38;5;124;03m    \"\"\"\u001B[39;00m\n\u001B[0;32m--> 337\u001B[0m     obj, end \u001B[38;5;241m=\u001B[39m \u001B[38;5;28;43mself\u001B[39;49m\u001B[38;5;241;43m.\u001B[39;49m\u001B[43mraw_decode\u001B[49m\u001B[43m(\u001B[49m\u001B[43ms\u001B[49m\u001B[43m,\u001B[49m\u001B[43m \u001B[49m\u001B[43midx\u001B[49m\u001B[38;5;241;43m=\u001B[39;49m\u001B[43m_w\u001B[49m\u001B[43m(\u001B[49m\u001B[43ms\u001B[49m\u001B[43m,\u001B[49m\u001B[43m \u001B[49m\u001B[38;5;241;43m0\u001B[39;49m\u001B[43m)\u001B[49m\u001B[38;5;241;43m.\u001B[39;49m\u001B[43mend\u001B[49m\u001B[43m(\u001B[49m\u001B[43m)\u001B[49m\u001B[43m)\u001B[49m\n\u001B[1;32m    338\u001B[0m     end \u001B[38;5;241m=\u001B[39m _w(s, end)\u001B[38;5;241m.\u001B[39mend()\n\u001B[1;32m    339\u001B[0m     \u001B[38;5;28;01mif\u001B[39;00m end \u001B[38;5;241m!=\u001B[39m \u001B[38;5;28mlen\u001B[39m(s):\n",
      "File \u001B[0;32m~/miniforge3/envs/zs6d-sd-dino/lib/python3.9/json/decoder.py:355\u001B[0m, in \u001B[0;36mJSONDecoder.raw_decode\u001B[0;34m(self, s, idx)\u001B[0m\n\u001B[1;32m    353\u001B[0m     obj, end \u001B[38;5;241m=\u001B[39m \u001B[38;5;28mself\u001B[39m\u001B[38;5;241m.\u001B[39mscan_once(s, idx)\n\u001B[1;32m    354\u001B[0m \u001B[38;5;28;01mexcept\u001B[39;00m \u001B[38;5;167;01mStopIteration\u001B[39;00m \u001B[38;5;28;01mas\u001B[39;00m err:\n\u001B[0;32m--> 355\u001B[0m     \u001B[38;5;28;01mraise\u001B[39;00m JSONDecodeError(\u001B[38;5;124m\"\u001B[39m\u001B[38;5;124mExpecting value\u001B[39m\u001B[38;5;124m\"\u001B[39m, s, err\u001B[38;5;241m.\u001B[39mvalue) \u001B[38;5;28;01mfrom\u001B[39;00m \u001B[38;5;28;01mNone\u001B[39;00m\n\u001B[1;32m    356\u001B[0m \u001B[38;5;28;01mreturn\u001B[39;00m obj, end\n",
      "\u001B[0;31mJSONDecodeError\u001B[0m: Expecting value: line 1 column 1 (char 0)"
     ]
    }
   ],
   "execution_count": 1
  },
  {
   "metadata": {
    "ExecuteTime": {
     "end_time": "2024-07-03T18:43:31.685558Z",
     "start_time": "2024-07-03T18:43:23.613595Z"
    }
   },
   "cell_type": "code",
   "source": [
    "import os\n",
    "import json\n",
    "import numpy as np\n",
    "import torch\n",
    "from zs6d_sd_dino.sd_dino.extractor_sd import load_model\n",
    "\n",
    "\"\"\"SETUP for SD-DINO\"\"\"\n",
    "SEED = 42\n",
    "VER = \"v1-5\"\n",
    "TIMESTEP = 100\n",
    "img_size_sd = 960\n",
    "model_type = 'dinov2_vitb14'\n",
    "layer = 11 # or 9\n",
    "facet = 'token' # or key token\n",
    "stride = 14 # or 4\n",
    "\n",
    "\"\"\"Reproducibility\"\"\"\n",
    "np.random.seed(SEED)\n",
    "torch.manual_seed(SEED)\n",
    "torch.cuda.manual_seed(SEED)\n",
    "torch.backends.cudnn.benchmark = True\n",
    "\n",
    "\n",
    "model, aug = load_model(diffusion_ver=VER, image_size=img_size_sd, num_timesteps=TIMESTEP)"
   ],
   "id": "bd54283a704f0b0e",
   "outputs": [
    {
     "name": "stdout",
     "output_type": "stream",
     "text": [
      "/run/media/kilian/Extern_SSD/Robot_Vision/ZS6D/zs6d-sd-dino/sd-dino/third_party/ODISE/odise/model_zoo/configs/Panoptic/odise_label_coco_50e.py\n",
      "test\n",
      "No module 'xformers'. Proceeding without it.\n",
      "LatentDiffusion: Running in eps-prediction mode\n",
      "DiffusionWrapper has 859.52 M params.\n",
      "making attention of type 'vanilla' with 512 in_channels\n",
      "Working with z of shape (1, 4, 32, 32) = 4096 dimensions.\n",
      "making attention of type 'vanilla' with 512 in_channels\n"
     ]
    },
    {
     "ename": "KeyboardInterrupt",
     "evalue": "",
     "output_type": "error",
     "traceback": [
      "\u001B[0;31m---------------------------------------------------------------------------\u001B[0m",
      "\u001B[0;31mKeyboardInterrupt\u001B[0m                         Traceback (most recent call last)",
      "Cell \u001B[0;32mIn[2], line 24\u001B[0m\n\u001B[1;32m     20\u001B[0m torch\u001B[38;5;241m.\u001B[39mcuda\u001B[38;5;241m.\u001B[39mmanual_seed(SEED)\n\u001B[1;32m     21\u001B[0m torch\u001B[38;5;241m.\u001B[39mbackends\u001B[38;5;241m.\u001B[39mcudnn\u001B[38;5;241m.\u001B[39mbenchmark \u001B[38;5;241m=\u001B[39m \u001B[38;5;28;01mTrue\u001B[39;00m\n\u001B[0;32m---> 24\u001B[0m model, aug \u001B[38;5;241m=\u001B[39m \u001B[43mload_model\u001B[49m\u001B[43m(\u001B[49m\u001B[43mdiffusion_ver\u001B[49m\u001B[38;5;241;43m=\u001B[39;49m\u001B[43mVER\u001B[49m\u001B[43m,\u001B[49m\u001B[43m \u001B[49m\u001B[43mimage_size\u001B[49m\u001B[38;5;241;43m=\u001B[39;49m\u001B[43mimg_size_sd\u001B[49m\u001B[43m,\u001B[49m\u001B[43m \u001B[49m\u001B[43mnum_timesteps\u001B[49m\u001B[38;5;241;43m=\u001B[39;49m\u001B[43mTIMESTEP\u001B[49m\u001B[43m)\u001B[49m\n",
      "File \u001B[0;32m/run/media/kilian/Extern_SSD/Robot_Vision/ZS6D/zs6d-sd-dino/sd-dino/extractor_sd.py:188\u001B[0m, in \u001B[0;36mload_model\u001B[0;34m(config_path, seed, diffusion_ver, image_size, num_timesteps, block_indices, decoder_only, encoder_only, resblock_only)\u001B[0m\n\u001B[1;32m    184\u001B[0m dataset_cfg \u001B[38;5;241m=\u001B[39m cfg\u001B[38;5;241m.\u001B[39mdataloader\u001B[38;5;241m.\u001B[39mtest\n\u001B[1;32m    186\u001B[0m aug \u001B[38;5;241m=\u001B[39m instantiate(dataset_cfg\u001B[38;5;241m.\u001B[39mmapper)\u001B[38;5;241m.\u001B[39maugmentations\n\u001B[0;32m--> 188\u001B[0m model \u001B[38;5;241m=\u001B[39m \u001B[43minstantiate_odise\u001B[49m\u001B[43m(\u001B[49m\u001B[43mcfg\u001B[49m\u001B[38;5;241;43m.\u001B[39;49m\u001B[43mmodel\u001B[49m\u001B[43m)\u001B[49m\n\u001B[1;32m    189\u001B[0m cfg\u001B[38;5;241m.\u001B[39mtrain\u001B[38;5;241m.\u001B[39mdevice \u001B[38;5;241m=\u001B[39m \u001B[38;5;124m'\u001B[39m\u001B[38;5;124mcpu\u001B[39m\u001B[38;5;124m'\u001B[39m\n\u001B[1;32m    190\u001B[0m model\u001B[38;5;241m.\u001B[39mto(cfg\u001B[38;5;241m.\u001B[39mtrain\u001B[38;5;241m.\u001B[39mdevice)\n",
      "File \u001B[0;32m/run/media/kilian/Extern_SSD/Robot_Vision/ZS6D/zs6d-sd-dino/sd-dino/third_party/ODISE/odise/config/instantiate.py:15\u001B[0m, in \u001B[0;36minstantiate_odise\u001B[0;34m(cfg)\u001B[0m\n\u001B[1;32m     14\u001B[0m \u001B[38;5;28;01mdef\u001B[39;00m \u001B[38;5;21minstantiate_odise\u001B[39m(cfg):\n\u001B[0;32m---> 15\u001B[0m     backbone \u001B[38;5;241m=\u001B[39m \u001B[43minstantiate\u001B[49m\u001B[43m(\u001B[49m\u001B[43mcfg\u001B[49m\u001B[38;5;241;43m.\u001B[39;49m\u001B[43mbackbone\u001B[49m\u001B[43m)\u001B[49m\n\u001B[1;32m     16\u001B[0m     cfg\u001B[38;5;241m.\u001B[39msem_seg_head\u001B[38;5;241m.\u001B[39minput_shape \u001B[38;5;241m=\u001B[39m backbone\u001B[38;5;241m.\u001B[39moutput_shape()\n\u001B[1;32m     17\u001B[0m     cfg\u001B[38;5;241m.\u001B[39msem_seg_head\u001B[38;5;241m.\u001B[39mpixel_decoder\u001B[38;5;241m.\u001B[39minput_shape \u001B[38;5;241m=\u001B[39m backbone\u001B[38;5;241m.\u001B[39moutput_shape()\n",
      "File \u001B[0;32m~/miniforge3/envs/zs6d-sd-dino/lib/python3.9/site-packages/detectron2/config/instantiate.py:61\u001B[0m, in \u001B[0;36minstantiate\u001B[0;34m(cfg)\u001B[0m\n\u001B[1;32m     56\u001B[0m     \u001B[38;5;28;01mreturn\u001B[39;00m [instantiate(x) \u001B[38;5;28;01mfor\u001B[39;00m x \u001B[38;5;129;01min\u001B[39;00m cfg]\n\u001B[1;32m     58\u001B[0m \u001B[38;5;28;01mif\u001B[39;00m \u001B[38;5;28misinstance\u001B[39m(cfg, abc\u001B[38;5;241m.\u001B[39mMapping) \u001B[38;5;129;01mand\u001B[39;00m \u001B[38;5;124m\"\u001B[39m\u001B[38;5;124m_target_\u001B[39m\u001B[38;5;124m\"\u001B[39m \u001B[38;5;129;01min\u001B[39;00m cfg:\n\u001B[1;32m     59\u001B[0m     \u001B[38;5;66;03m# conceptually equivalent to hydra.utils.instantiate(cfg) with _convert_=all,\u001B[39;00m\n\u001B[1;32m     60\u001B[0m     \u001B[38;5;66;03m# but faster: https://github.com/facebookresearch/hydra/issues/1200\u001B[39;00m\n\u001B[0;32m---> 61\u001B[0m     cfg \u001B[38;5;241m=\u001B[39m {k: instantiate(v) \u001B[38;5;28;01mfor\u001B[39;00m k, v \u001B[38;5;129;01min\u001B[39;00m cfg\u001B[38;5;241m.\u001B[39mitems()}\n\u001B[1;32m     62\u001B[0m     \u001B[38;5;28mcls\u001B[39m \u001B[38;5;241m=\u001B[39m cfg\u001B[38;5;241m.\u001B[39mpop(\u001B[38;5;124m\"\u001B[39m\u001B[38;5;124m_target_\u001B[39m\u001B[38;5;124m\"\u001B[39m)\n\u001B[1;32m     63\u001B[0m     \u001B[38;5;28mcls\u001B[39m \u001B[38;5;241m=\u001B[39m instantiate(\u001B[38;5;28mcls\u001B[39m)\n",
      "File \u001B[0;32m~/miniforge3/envs/zs6d-sd-dino/lib/python3.9/site-packages/detectron2/config/instantiate.py:61\u001B[0m, in \u001B[0;36m<dictcomp>\u001B[0;34m(.0)\u001B[0m\n\u001B[1;32m     56\u001B[0m     \u001B[38;5;28;01mreturn\u001B[39;00m [instantiate(x) \u001B[38;5;28;01mfor\u001B[39;00m x \u001B[38;5;129;01min\u001B[39;00m cfg]\n\u001B[1;32m     58\u001B[0m \u001B[38;5;28;01mif\u001B[39;00m \u001B[38;5;28misinstance\u001B[39m(cfg, abc\u001B[38;5;241m.\u001B[39mMapping) \u001B[38;5;129;01mand\u001B[39;00m \u001B[38;5;124m\"\u001B[39m\u001B[38;5;124m_target_\u001B[39m\u001B[38;5;124m\"\u001B[39m \u001B[38;5;129;01min\u001B[39;00m cfg:\n\u001B[1;32m     59\u001B[0m     \u001B[38;5;66;03m# conceptually equivalent to hydra.utils.instantiate(cfg) with _convert_=all,\u001B[39;00m\n\u001B[1;32m     60\u001B[0m     \u001B[38;5;66;03m# but faster: https://github.com/facebookresearch/hydra/issues/1200\u001B[39;00m\n\u001B[0;32m---> 61\u001B[0m     cfg \u001B[38;5;241m=\u001B[39m {k: \u001B[43minstantiate\u001B[49m\u001B[43m(\u001B[49m\u001B[43mv\u001B[49m\u001B[43m)\u001B[49m \u001B[38;5;28;01mfor\u001B[39;00m k, v \u001B[38;5;129;01min\u001B[39;00m cfg\u001B[38;5;241m.\u001B[39mitems()}\n\u001B[1;32m     62\u001B[0m     \u001B[38;5;28mcls\u001B[39m \u001B[38;5;241m=\u001B[39m cfg\u001B[38;5;241m.\u001B[39mpop(\u001B[38;5;124m\"\u001B[39m\u001B[38;5;124m_target_\u001B[39m\u001B[38;5;124m\"\u001B[39m)\n\u001B[1;32m     63\u001B[0m     \u001B[38;5;28mcls\u001B[39m \u001B[38;5;241m=\u001B[39m instantiate(\u001B[38;5;28mcls\u001B[39m)\n",
      "File \u001B[0;32m~/miniforge3/envs/zs6d-sd-dino/lib/python3.9/site-packages/detectron2/config/instantiate.py:77\u001B[0m, in \u001B[0;36minstantiate\u001B[0;34m(cfg)\u001B[0m\n\u001B[1;32m     75\u001B[0m \u001B[38;5;28;01massert\u001B[39;00m \u001B[38;5;28mcallable\u001B[39m(\u001B[38;5;28mcls\u001B[39m), \u001B[38;5;124mf\u001B[39m\u001B[38;5;124m\"\u001B[39m\u001B[38;5;124m_target_ \u001B[39m\u001B[38;5;132;01m{\u001B[39;00m\u001B[38;5;28mcls\u001B[39m\u001B[38;5;132;01m}\u001B[39;00m\u001B[38;5;124m does not define a callable object\u001B[39m\u001B[38;5;124m\"\u001B[39m\n\u001B[1;32m     76\u001B[0m \u001B[38;5;28;01mtry\u001B[39;00m:\n\u001B[0;32m---> 77\u001B[0m     \u001B[38;5;28;01mreturn\u001B[39;00m \u001B[38;5;28;43mcls\u001B[39;49m\u001B[43m(\u001B[49m\u001B[38;5;241;43m*\u001B[39;49m\u001B[38;5;241;43m*\u001B[39;49m\u001B[43mcfg\u001B[49m\u001B[43m)\u001B[49m\n\u001B[1;32m     78\u001B[0m \u001B[38;5;28;01mexcept\u001B[39;00m \u001B[38;5;167;01mTypeError\u001B[39;00m:\n\u001B[1;32m     79\u001B[0m     logger \u001B[38;5;241m=\u001B[39m logging\u001B[38;5;241m.\u001B[39mgetLogger(\u001B[38;5;18m__name__\u001B[39m)\n",
      "File \u001B[0;32m/run/media/kilian/Extern_SSD/Robot_Vision/ZS6D/zs6d-sd-dino/sd-dino/third_party/ODISE/odise/modeling/meta_arch/ldm.py:899\u001B[0m, in \u001B[0;36mLdmImplicitCaptionerExtractor.__init__\u001B[0;34m(self, learnable_time_embed, num_timesteps, clip_model_name, **kwargs)\u001B[0m\n\u001B[1;32m    891\u001B[0m \u001B[38;5;28;01mdef\u001B[39;00m \u001B[38;5;21m__init__\u001B[39m(\n\u001B[1;32m    892\u001B[0m     \u001B[38;5;28mself\u001B[39m,\n\u001B[1;32m    893\u001B[0m     learnable_time_embed\u001B[38;5;241m=\u001B[39m\u001B[38;5;28;01mTrue\u001B[39;00m,\n\u001B[0;32m   (...)\u001B[0m\n\u001B[1;32m    896\u001B[0m     \u001B[38;5;241m*\u001B[39m\u001B[38;5;241m*\u001B[39mkwargs,\n\u001B[1;32m    897\u001B[0m ):\n\u001B[1;32m    898\u001B[0m     \u001B[38;5;28msuper\u001B[39m()\u001B[38;5;241m.\u001B[39m\u001B[38;5;21m__init__\u001B[39m()\n\u001B[0;32m--> 899\u001B[0m     \u001B[38;5;28mself\u001B[39m\u001B[38;5;241m.\u001B[39mldm_extractor \u001B[38;5;241m=\u001B[39m \u001B[43mLdmExtractor\u001B[49m\u001B[43m(\u001B[49m\u001B[38;5;241;43m*\u001B[39;49m\u001B[38;5;241;43m*\u001B[39;49m\u001B[43mkwargs\u001B[49m\u001B[43m)\u001B[49m\n\u001B[1;32m    900\u001B[0m     num_timesteps\u001B[38;5;241m=\u001B[39m\u001B[38;5;241m1\u001B[39m\n\u001B[1;32m    901\u001B[0m     \u001B[38;5;28mself\u001B[39m\u001B[38;5;241m.\u001B[39mtext_embed_shape \u001B[38;5;241m=\u001B[39m \u001B[38;5;28mself\u001B[39m\u001B[38;5;241m.\u001B[39mldm_extractor\u001B[38;5;241m.\u001B[39mldm\u001B[38;5;241m.\u001B[39membed_text([\u001B[38;5;124m\"\u001B[39m\u001B[38;5;124m\"\u001B[39m])\u001B[38;5;241m.\u001B[39mshape[\u001B[38;5;241m1\u001B[39m:]\n",
      "File \u001B[0;32m/run/media/kilian/Extern_SSD/Robot_Vision/ZS6D/zs6d-sd-dino/sd-dino/third_party/ODISE/odise/modeling/meta_arch/ldm.py:418\u001B[0m, in \u001B[0;36mLdmExtractor.__init__\u001B[0;34m(self, ldm, encoder_block_indices, unet_block_indices, decoder_block_indices, steps, share_noise, enable_resize, init_checkpoint, decoder_only, encoder_only, resblock_only)\u001B[0m\n\u001B[1;32m    416\u001B[0m     \u001B[38;5;28mself\u001B[39m\u001B[38;5;241m.\u001B[39mldm \u001B[38;5;241m=\u001B[39m ldm\n\u001B[1;32m    417\u001B[0m \u001B[38;5;28;01melse\u001B[39;00m:\n\u001B[0;32m--> 418\u001B[0m     \u001B[38;5;28mself\u001B[39m\u001B[38;5;241m.\u001B[39mldm \u001B[38;5;241m=\u001B[39m \u001B[43mLatentDiffusion\u001B[49m\u001B[43m(\u001B[49m\u001B[43minit_checkpoint\u001B[49m\u001B[38;5;241;43m=\u001B[39;49m\u001B[43minit_checkpoint\u001B[49m\u001B[43m)\u001B[49m\n\u001B[1;32m    419\u001B[0m \u001B[38;5;28;01mif\u001B[39;00m enable_resize:\n\u001B[1;32m    420\u001B[0m     \u001B[38;5;28mself\u001B[39m\u001B[38;5;241m.\u001B[39mimage_preprocess \u001B[38;5;241m=\u001B[39m T\u001B[38;5;241m.\u001B[39mResize(\n\u001B[1;32m    421\u001B[0m         size\u001B[38;5;241m=\u001B[39m\u001B[38;5;28mself\u001B[39m\u001B[38;5;241m.\u001B[39mldm\u001B[38;5;241m.\u001B[39mimage_size, interpolation\u001B[38;5;241m=\u001B[39mT\u001B[38;5;241m.\u001B[39mInterpolationMode\u001B[38;5;241m.\u001B[39mBICUBIC\n\u001B[1;32m    422\u001B[0m     )\n",
      "File \u001B[0;32m/run/media/kilian/Extern_SSD/Robot_Vision/ZS6D/zs6d-sd-dino/sd-dino/third_party/ODISE/odise/modeling/meta_arch/ldm.py:251\u001B[0m, in \u001B[0;36mLatentDiffusion.__init__\u001B[0;34m(self, diffusion, guidance_scale, pixel_mean, pixel_std, init_checkpoint)\u001B[0m\n\u001B[1;32m    246\u001B[0m \u001B[38;5;28mself\u001B[39m\u001B[38;5;241m.\u001B[39mldm\u001B[38;5;241m.\u001B[39mcond_stage_model\u001B[38;5;241m.\u001B[39m\u001B[38;5;18m__class__\u001B[39m \u001B[38;5;241m=\u001B[39m add_device_property(\n\u001B[1;32m    247\u001B[0m     \u001B[38;5;28mself\u001B[39m\u001B[38;5;241m.\u001B[39mldm\u001B[38;5;241m.\u001B[39mcond_stage_model\u001B[38;5;241m.\u001B[39m\u001B[38;5;18m__class__\u001B[39m\n\u001B[1;32m    248\u001B[0m )\n\u001B[1;32m    250\u001B[0m \u001B[38;5;28mself\u001B[39m\u001B[38;5;241m.\u001B[39minit_checkpoint \u001B[38;5;241m=\u001B[39m init_checkpoint\n\u001B[0;32m--> 251\u001B[0m \u001B[38;5;28;43mself\u001B[39;49m\u001B[38;5;241;43m.\u001B[39;49m\u001B[43mload_pretrain\u001B[49m\u001B[43m(\u001B[49m\u001B[43m)\u001B[49m\n\u001B[1;32m    253\u001B[0m \u001B[38;5;28mself\u001B[39m\u001B[38;5;241m.\u001B[39mimage_size \u001B[38;5;241m=\u001B[39m image_size\n\u001B[1;32m    254\u001B[0m \u001B[38;5;28mself\u001B[39m\u001B[38;5;241m.\u001B[39mlatent_image_size \u001B[38;5;241m=\u001B[39m latent_image_size\n",
      "File \u001B[0;32m/run/media/kilian/Extern_SSD/Robot_Vision/ZS6D/zs6d-sd-dino/sd-dino/third_party/ODISE/odise/modeling/meta_arch/ldm.py:275\u001B[0m, in \u001B[0;36mLatentDiffusion.load_pretrain\u001B[0;34m(self)\u001B[0m\n\u001B[1;32m    274\u001B[0m \u001B[38;5;28;01mdef\u001B[39;00m \u001B[38;5;21mload_pretrain\u001B[39m(\u001B[38;5;28mself\u001B[39m):\n\u001B[0;32m--> 275\u001B[0m     \u001B[43mLdmCheckpointer\u001B[49m\u001B[43m(\u001B[49m\u001B[38;5;28;43mself\u001B[39;49m\u001B[38;5;241;43m.\u001B[39;49m\u001B[43mldm\u001B[49m\u001B[43m)\u001B[49m\u001B[38;5;241;43m.\u001B[39;49m\u001B[43mload\u001B[49m\u001B[43m(\u001B[49m\u001B[38;5;28;43mself\u001B[39;49m\u001B[38;5;241;43m.\u001B[39;49m\u001B[43minit_checkpoint\u001B[49m\u001B[43m)\u001B[49m\n",
      "File \u001B[0;32m~/miniforge3/envs/zs6d-sd-dino/lib/python3.9/site-packages/fvcore/common/checkpoint.py:155\u001B[0m, in \u001B[0;36mCheckpointer.load\u001B[0;34m(self, path, checkpointables)\u001B[0m\n\u001B[1;32m    152\u001B[0m     path \u001B[38;5;241m=\u001B[39m \u001B[38;5;28mself\u001B[39m\u001B[38;5;241m.\u001B[39mpath_manager\u001B[38;5;241m.\u001B[39mget_local_path(path)\n\u001B[1;32m    153\u001B[0m     \u001B[38;5;28;01massert\u001B[39;00m os\u001B[38;5;241m.\u001B[39mpath\u001B[38;5;241m.\u001B[39misfile(path), \u001B[38;5;124m\"\u001B[39m\u001B[38;5;124mCheckpoint \u001B[39m\u001B[38;5;132;01m{}\u001B[39;00m\u001B[38;5;124m not found!\u001B[39m\u001B[38;5;124m\"\u001B[39m\u001B[38;5;241m.\u001B[39mformat(path)\n\u001B[0;32m--> 155\u001B[0m checkpoint \u001B[38;5;241m=\u001B[39m \u001B[38;5;28;43mself\u001B[39;49m\u001B[38;5;241;43m.\u001B[39;49m\u001B[43m_load_file\u001B[49m\u001B[43m(\u001B[49m\u001B[43mpath\u001B[49m\u001B[43m)\u001B[49m\n\u001B[1;32m    156\u001B[0m incompatible \u001B[38;5;241m=\u001B[39m \u001B[38;5;28mself\u001B[39m\u001B[38;5;241m.\u001B[39m_load_model(checkpoint)\n\u001B[1;32m    157\u001B[0m \u001B[38;5;28;01mif\u001B[39;00m (\n\u001B[1;32m    158\u001B[0m     incompatible \u001B[38;5;129;01mis\u001B[39;00m \u001B[38;5;129;01mnot\u001B[39;00m \u001B[38;5;28;01mNone\u001B[39;00m\n\u001B[1;32m    159\u001B[0m ):  \u001B[38;5;66;03m# handle some existing subclasses that returns None\u001B[39;00m\n",
      "File \u001B[0;32m~/miniforge3/envs/zs6d-sd-dino/lib/python3.9/site-packages/fvcore/common/checkpoint.py:252\u001B[0m, in \u001B[0;36mCheckpointer._load_file\u001B[0;34m(self, f)\u001B[0m\n\u001B[1;32m    240\u001B[0m \u001B[38;5;28;01mdef\u001B[39;00m \u001B[38;5;21m_load_file\u001B[39m(\u001B[38;5;28mself\u001B[39m, f: \u001B[38;5;28mstr\u001B[39m) \u001B[38;5;241m-\u001B[39m\u001B[38;5;241m>\u001B[39m Dict[\u001B[38;5;28mstr\u001B[39m, Any]:\n\u001B[1;32m    241\u001B[0m \u001B[38;5;250m    \u001B[39m\u001B[38;5;124;03m\"\"\"\u001B[39;00m\n\u001B[1;32m    242\u001B[0m \u001B[38;5;124;03m    Load a checkpoint file. Can be overwritten by subclasses to support\u001B[39;00m\n\u001B[1;32m    243\u001B[0m \u001B[38;5;124;03m    different formats.\u001B[39;00m\n\u001B[0;32m   (...)\u001B[0m\n\u001B[1;32m    250\u001B[0m \u001B[38;5;124;03m            to torch.Tensor or numpy arrays.\u001B[39;00m\n\u001B[1;32m    251\u001B[0m \u001B[38;5;124;03m    \"\"\"\u001B[39;00m\n\u001B[0;32m--> 252\u001B[0m     \u001B[38;5;28;01mreturn\u001B[39;00m \u001B[43mtorch\u001B[49m\u001B[38;5;241;43m.\u001B[39;49m\u001B[43mload\u001B[49m\u001B[43m(\u001B[49m\u001B[43mf\u001B[49m\u001B[43m,\u001B[49m\u001B[43m \u001B[49m\u001B[43mmap_location\u001B[49m\u001B[38;5;241;43m=\u001B[39;49m\u001B[43mtorch\u001B[49m\u001B[38;5;241;43m.\u001B[39;49m\u001B[43mdevice\u001B[49m\u001B[43m(\u001B[49m\u001B[38;5;124;43m\"\u001B[39;49m\u001B[38;5;124;43mcpu\u001B[39;49m\u001B[38;5;124;43m\"\u001B[39;49m\u001B[43m)\u001B[49m\u001B[43m)\u001B[49m\n",
      "File \u001B[0;32m~/miniforge3/envs/zs6d-sd-dino/lib/python3.9/site-packages/torch/serialization.py:789\u001B[0m, in \u001B[0;36mload\u001B[0;34m(f, map_location, pickle_module, weights_only, **pickle_load_args)\u001B[0m\n\u001B[1;32m    787\u001B[0m             \u001B[38;5;28;01mexcept\u001B[39;00m \u001B[38;5;167;01mRuntimeError\u001B[39;00m \u001B[38;5;28;01mas\u001B[39;00m e:\n\u001B[1;32m    788\u001B[0m                 \u001B[38;5;28;01mraise\u001B[39;00m pickle\u001B[38;5;241m.\u001B[39mUnpicklingError(UNSAFE_MESSAGE \u001B[38;5;241m+\u001B[39m \u001B[38;5;28mstr\u001B[39m(e)) \u001B[38;5;28;01mfrom\u001B[39;00m \u001B[38;5;28;01mNone\u001B[39;00m\n\u001B[0;32m--> 789\u001B[0m         \u001B[38;5;28;01mreturn\u001B[39;00m \u001B[43m_load\u001B[49m\u001B[43m(\u001B[49m\u001B[43mopened_zipfile\u001B[49m\u001B[43m,\u001B[49m\u001B[43m \u001B[49m\u001B[43mmap_location\u001B[49m\u001B[43m,\u001B[49m\u001B[43m \u001B[49m\u001B[43mpickle_module\u001B[49m\u001B[43m,\u001B[49m\u001B[43m \u001B[49m\u001B[38;5;241;43m*\u001B[39;49m\u001B[38;5;241;43m*\u001B[39;49m\u001B[43mpickle_load_args\u001B[49m\u001B[43m)\u001B[49m\n\u001B[1;32m    790\u001B[0m \u001B[38;5;28;01mif\u001B[39;00m weights_only:\n\u001B[1;32m    791\u001B[0m     \u001B[38;5;28;01mtry\u001B[39;00m:\n",
      "File \u001B[0;32m~/miniforge3/envs/zs6d-sd-dino/lib/python3.9/site-packages/torch/serialization.py:1131\u001B[0m, in \u001B[0;36m_load\u001B[0;34m(zip_file, map_location, pickle_module, pickle_file, **pickle_load_args)\u001B[0m\n\u001B[1;32m   1129\u001B[0m unpickler \u001B[38;5;241m=\u001B[39m UnpicklerWrapper(data_file, \u001B[38;5;241m*\u001B[39m\u001B[38;5;241m*\u001B[39mpickle_load_args)\n\u001B[1;32m   1130\u001B[0m unpickler\u001B[38;5;241m.\u001B[39mpersistent_load \u001B[38;5;241m=\u001B[39m persistent_load\n\u001B[0;32m-> 1131\u001B[0m result \u001B[38;5;241m=\u001B[39m \u001B[43munpickler\u001B[49m\u001B[38;5;241;43m.\u001B[39;49m\u001B[43mload\u001B[49m\u001B[43m(\u001B[49m\u001B[43m)\u001B[49m\n\u001B[1;32m   1133\u001B[0m torch\u001B[38;5;241m.\u001B[39m_utils\u001B[38;5;241m.\u001B[39m_validate_loaded_sparse_tensors()\n\u001B[1;32m   1135\u001B[0m \u001B[38;5;28;01mreturn\u001B[39;00m result\n",
      "File \u001B[0;32m~/miniforge3/envs/zs6d-sd-dino/lib/python3.9/site-packages/torch/serialization.py:1101\u001B[0m, in \u001B[0;36m_load.<locals>.persistent_load\u001B[0;34m(saved_id)\u001B[0m\n\u001B[1;32m   1099\u001B[0m \u001B[38;5;28;01mif\u001B[39;00m key \u001B[38;5;129;01mnot\u001B[39;00m \u001B[38;5;129;01min\u001B[39;00m loaded_storages:\n\u001B[1;32m   1100\u001B[0m     nbytes \u001B[38;5;241m=\u001B[39m numel \u001B[38;5;241m*\u001B[39m torch\u001B[38;5;241m.\u001B[39m_utils\u001B[38;5;241m.\u001B[39m_element_size(dtype)\n\u001B[0;32m-> 1101\u001B[0m     \u001B[43mload_tensor\u001B[49m\u001B[43m(\u001B[49m\u001B[43mdtype\u001B[49m\u001B[43m,\u001B[49m\u001B[43m \u001B[49m\u001B[43mnbytes\u001B[49m\u001B[43m,\u001B[49m\u001B[43m \u001B[49m\u001B[43mkey\u001B[49m\u001B[43m,\u001B[49m\u001B[43m \u001B[49m\u001B[43m_maybe_decode_ascii\u001B[49m\u001B[43m(\u001B[49m\u001B[43mlocation\u001B[49m\u001B[43m)\u001B[49m\u001B[43m)\u001B[49m\n\u001B[1;32m   1103\u001B[0m \u001B[38;5;28;01mreturn\u001B[39;00m loaded_storages[key]\n",
      "File \u001B[0;32m~/miniforge3/envs/zs6d-sd-dino/lib/python3.9/site-packages/torch/serialization.py:1079\u001B[0m, in \u001B[0;36m_load.<locals>.load_tensor\u001B[0;34m(dtype, numel, key, location)\u001B[0m\n\u001B[1;32m   1076\u001B[0m \u001B[38;5;28;01mdef\u001B[39;00m \u001B[38;5;21mload_tensor\u001B[39m(dtype, numel, key, location):\n\u001B[1;32m   1077\u001B[0m     name \u001B[38;5;241m=\u001B[39m \u001B[38;5;124mf\u001B[39m\u001B[38;5;124m'\u001B[39m\u001B[38;5;124mdata/\u001B[39m\u001B[38;5;132;01m{\u001B[39;00mkey\u001B[38;5;132;01m}\u001B[39;00m\u001B[38;5;124m'\u001B[39m\n\u001B[0;32m-> 1079\u001B[0m     storage \u001B[38;5;241m=\u001B[39m \u001B[43mzip_file\u001B[49m\u001B[38;5;241;43m.\u001B[39;49m\u001B[43mget_storage_from_record\u001B[49m\u001B[43m(\u001B[49m\u001B[43mname\u001B[49m\u001B[43m,\u001B[49m\u001B[43m \u001B[49m\u001B[43mnumel\u001B[49m\u001B[43m,\u001B[49m\u001B[43m \u001B[49m\u001B[43mtorch\u001B[49m\u001B[38;5;241;43m.\u001B[39;49m\u001B[43mUntypedStorage\u001B[49m\u001B[43m)\u001B[49m\u001B[38;5;241m.\u001B[39mstorage()\u001B[38;5;241m.\u001B[39muntyped()\n\u001B[1;32m   1080\u001B[0m     \u001B[38;5;66;03m# TODO: Once we decide to break serialization FC, we can\u001B[39;00m\n\u001B[1;32m   1081\u001B[0m     \u001B[38;5;66;03m# stop wrapping with TypedStorage\u001B[39;00m\n\u001B[1;32m   1082\u001B[0m     loaded_storages[key] \u001B[38;5;241m=\u001B[39m torch\u001B[38;5;241m.\u001B[39mstorage\u001B[38;5;241m.\u001B[39mTypedStorage(\n\u001B[1;32m   1083\u001B[0m         wrap_storage\u001B[38;5;241m=\u001B[39mrestore_location(storage, location),\n\u001B[1;32m   1084\u001B[0m         dtype\u001B[38;5;241m=\u001B[39mdtype)\n",
      "\u001B[0;31mKeyboardInterrupt\u001B[0m: "
     ]
    }
   ],
   "execution_count": 2
  },
  {
   "metadata": {
    "ExecuteTime": {
     "end_time": "2024-07-03T18:31:01.768088Z",
     "start_time": "2024-07-03T18:27:09.255632Z"
    }
   },
   "cell_type": "code",
   "source": [
    "\n",
    "from PIL import Image\n",
    "import pose_utils.img_utils as img_utils\n",
    "import pose_utils.vis_utils as vis_utils\n",
    "import numpy as np\n",
    "import time\n",
    "import matplotlib.pyplot as plt\n",
    "\n",
    "# Loading a ground truth file to access segmentation masks to test zs6d:\n",
    "with open(os.path.join(config['gt_path']), 'r') as f:\n",
    "    data_gt = json.load(f)\n",
    "\n",
    "img_id = '000048_1'\n",
    "# img_id = '8'\n",
    "\n",
    "\n",
    "\n",
    "for i in range(len(data_gt[img_id])):\n",
    "    obj_number = i\n",
    "    obj_id = data_gt[img_id][obj_number]['obj_id']\n",
    "    cam_K = np.array(data_gt[img_id][obj_number]['cam_K']).reshape((3,3))\n",
    "    bbox = data_gt[img_id][obj_number]['bbox_visib']\n",
    "\n",
    "    img_path = \"./test/000001.png\"\n",
    "    img = Image.open(img_path)\n",
    "\n",
    "    mask = data_gt[img_id][obj_number]['mask_sam']\n",
    "    mask = img_utils.rle_to_mask(mask)\n",
    "    mask = mask.astype(np.uint8)\n",
    "\n",
    "    start_time = time.time()\n",
    "    \n",
    "    # To estimate the objects Rotation R and translation t the input image, the object_id, a segmentation mask and camera matrix are necessary\n",
    "    R_est, t_est = pose_estimator.get_pose(model, aug, img, str(obj_id), mask, cam_K, bbox=None)\n",
    "\n",
    "    end_time = time.time()\n",
    "    \n",
    "    out_img = vis_utils.draw_3D_bbox_on_image(np.array(img), R_est, t_est, cam_K, data_gt[img_id][obj_number]['model_info'], factor=1.0)\n",
    "\n",
    "    plt.imshow(out_img)\n",
    "    plt.show()\n",
    "    print(f\"Pose estimation time: {end_time-start_time}\")\n",
    "    print(f\"R_est: {R_est}\")\n",
    "    print(f\"t_est: {t_est}\")"
   ],
   "id": "c39aa4696d95bf3f",
   "outputs": [
    {
     "name": "stderr",
     "output_type": "stream",
     "text": [
      "Using cache found in /home/kilian/.cache/torch/hub/facebookresearch_dinov2_main\n"
     ]
    },
    {
     "name": "stdout",
     "output_type": "stream",
     "text": [
      "Shape of img1_desc (SD) features: torch.Size([1, 1, 3600, 384])\n",
      "Shape of img1_batch: torch.Size([1, 3, 840, 840])\n"
     ]
    },
    {
     "name": "stderr",
     "output_type": "stream",
     "text": [
      "2024-07-03 20:30:59,431 - ERROR - Error in get_pose: shapes (4147200,) and (1161984,) not aligned: 4147200 (dim 0) != 1161984 (dim 0)\n"
     ]
    },
    {
     "name": "stdout",
     "output_type": "stream",
     "text": [
      "Shape of img1_desc_dino: torch.Size([1, 1, 3600, 768])\n",
      "Shape of img1_desc (SD) normalized: torch.Size([1, 1, 3600, 384])\n",
      "Shape of img1_desc_dino normalized: torch.Size([1, 1, 3600, 768])\n",
      "Shape of img1_desc (Fused) after fusion: torch.Size([1, 1, 3600, 1152])\n",
      "Shape of fused desc_sd_dino before squeezing: torch.Size([1, 1, 3600, 1152])\n",
      "Shape of fused desc_sd_dino input before find_template_cpu: torch.Size([3600, 1152])\n",
      "Shape of templates_desc[1] before find_template_cpu: torch.Size([43, 3026, 384])\n",
      "Shape of desc_input: torch.Size([3600, 1152])\n",
      "Shape of desc_templates: torch.Size([43, 3026, 384])\n",
      "Shape of desc_input_flat: torch.Size([4147200])\n",
      "Shape of first template_flat: torch.Size([1161984])\n"
     ]
    },
    {
     "ename": "ValueError",
     "evalue": "shapes (4147200,) and (1161984,) not aligned: 4147200 (dim 0) != 1161984 (dim 0)",
     "output_type": "error",
     "traceback": [
      "\u001B[0;31m---------------------------------------------------------------------------\u001B[0m",
      "\u001B[0;31mValueError\u001B[0m                                Traceback (most recent call last)",
      "Cell \u001B[0;32mIn[3], line 33\u001B[0m\n\u001B[1;32m     30\u001B[0m start_time \u001B[38;5;241m=\u001B[39m time\u001B[38;5;241m.\u001B[39mtime()\n\u001B[1;32m     32\u001B[0m \u001B[38;5;66;03m# To estimate the objects Rotation R and translation t the input image, the object_id, a segmentation mask and camera matrix are necessary\u001B[39;00m\n\u001B[0;32m---> 33\u001B[0m R_est, t_est \u001B[38;5;241m=\u001B[39m \u001B[43mpose_estimator\u001B[49m\u001B[38;5;241;43m.\u001B[39;49m\u001B[43mget_pose\u001B[49m\u001B[43m(\u001B[49m\u001B[43mmodel\u001B[49m\u001B[43m,\u001B[49m\u001B[43m \u001B[49m\u001B[43maug\u001B[49m\u001B[43m,\u001B[49m\u001B[43m \u001B[49m\u001B[43mimg\u001B[49m\u001B[43m,\u001B[49m\u001B[43m \u001B[49m\u001B[38;5;28;43mstr\u001B[39;49m\u001B[43m(\u001B[49m\u001B[43mobj_id\u001B[49m\u001B[43m)\u001B[49m\u001B[43m,\u001B[49m\u001B[43m \u001B[49m\u001B[43mmask\u001B[49m\u001B[43m,\u001B[49m\u001B[43m \u001B[49m\u001B[43mcam_K\u001B[49m\u001B[43m,\u001B[49m\u001B[43m \u001B[49m\u001B[43mbbox\u001B[49m\u001B[38;5;241;43m=\u001B[39;49m\u001B[38;5;28;43;01mNone\u001B[39;49;00m\u001B[43m)\u001B[49m\n\u001B[1;32m     35\u001B[0m end_time \u001B[38;5;241m=\u001B[39m time\u001B[38;5;241m.\u001B[39mtime()\n\u001B[1;32m     37\u001B[0m out_img \u001B[38;5;241m=\u001B[39m vis_utils\u001B[38;5;241m.\u001B[39mdraw_3D_bbox_on_image(np\u001B[38;5;241m.\u001B[39marray(img), R_est, t_est, cam_K, data_gt[img_id][obj_number][\u001B[38;5;124m'\u001B[39m\u001B[38;5;124mmodel_info\u001B[39m\u001B[38;5;124m'\u001B[39m], factor\u001B[38;5;241m=\u001B[39m\u001B[38;5;241m1.0\u001B[39m)\n",
      "File \u001B[0;32m/run/media/kilian/Extern_SSD/Robot_Vision/ZS6D/zs6d-sd-dino/fused_zs6d.py:99\u001B[0m, in \u001B[0;36mFused_ZS6D.get_pose\u001B[0;34m(self, model, aug, img, obj_id, mask, cam_K, bbox)\u001B[0m\n\u001B[1;32m     95\u001B[0m \u001B[38;5;28mprint\u001B[39m(\u001B[38;5;124mf\u001B[39m\u001B[38;5;124m\"\u001B[39m\u001B[38;5;124mShape of fused desc_sd_dino input before find_template_cpu: \u001B[39m\u001B[38;5;132;01m{\u001B[39;00mdesc_sd_dino\u001B[38;5;241m.\u001B[39mshape\u001B[38;5;132;01m}\u001B[39;00m\u001B[38;5;124m\"\u001B[39m)\n\u001B[1;32m     96\u001B[0m \u001B[38;5;28mprint\u001B[39m(\u001B[38;5;124mf\u001B[39m\u001B[38;5;124m\"\u001B[39m\u001B[38;5;124mShape of templates_desc[\u001B[39m\u001B[38;5;132;01m{\u001B[39;00mobj_id\u001B[38;5;132;01m}\u001B[39;00m\u001B[38;5;124m] before find_template_cpu: \u001B[39m\u001B[38;5;132;01m{\u001B[39;00m\u001B[38;5;28mself\u001B[39m\u001B[38;5;241m.\u001B[39mtemplates_desc[obj_id]\u001B[38;5;241m.\u001B[39mshape\u001B[38;5;132;01m}\u001B[39;00m\u001B[38;5;124m\"\u001B[39m)\n\u001B[0;32m---> 99\u001B[0m matched_templates \u001B[38;5;241m=\u001B[39m \u001B[43mutils\u001B[49m\u001B[38;5;241;43m.\u001B[39;49m\u001B[43mfind_template_cpu\u001B[49m\u001B[43m(\u001B[49m\u001B[43mdesc_sd_dino\u001B[49m\u001B[43m,\u001B[49m\u001B[43m \u001B[49m\u001B[38;5;28;43mself\u001B[39;49m\u001B[38;5;241;43m.\u001B[39;49m\u001B[43mtemplates_desc\u001B[49m\u001B[43m[\u001B[49m\u001B[43mobj_id\u001B[49m\u001B[43m]\u001B[49m\u001B[43m,\u001B[49m\u001B[43m \u001B[49m\u001B[43mnum_results\u001B[49m\u001B[38;5;241;43m=\u001B[39;49m\u001B[38;5;241;43m1\u001B[39;49m\u001B[43m)\u001B[49m\n\u001B[1;32m    101\u001B[0m \u001B[38;5;28;01mif\u001B[39;00m \u001B[38;5;129;01mnot\u001B[39;00m matched_templates:\n\u001B[1;32m    102\u001B[0m     \u001B[38;5;28;01mraise\u001B[39;00m \u001B[38;5;167;01mValueError\u001B[39;00m(\u001B[38;5;124m\"\u001B[39m\u001B[38;5;124mNo matched templates found for the object.\u001B[39m\u001B[38;5;124m\"\u001B[39m)\n",
      "File \u001B[0;32m/run/media/kilian/Extern_SSD/Robot_Vision/ZS6D/pose_utils/utils.py:55\u001B[0m, in \u001B[0;36mfind_template_cpu\u001B[0;34m(desc_input, desc_templates, num_results)\u001B[0m\n\u001B[1;32m     52\u001B[0m templates_norm \u001B[38;5;241m=\u001B[39m [np\u001B[38;5;241m.\u001B[39mlinalg\u001B[38;5;241m.\u001B[39mnorm(template_flat) \u001B[38;5;28;01mfor\u001B[39;00m template_flat \u001B[38;5;129;01min\u001B[39;00m templates_flat]\n\u001B[1;32m     54\u001B[0m \u001B[38;5;66;03m# Compute cosine similarities in a vectorized manner\u001B[39;00m\n\u001B[0;32m---> 55\u001B[0m similarities \u001B[38;5;241m=\u001B[39m [(np\u001B[38;5;241m.\u001B[39mdot(desc_input_flat, template_flat) \u001B[38;5;241m/\u001B[39m (desc_input_norm \u001B[38;5;241m*\u001B[39m template_norm), i)\n\u001B[1;32m     56\u001B[0m                 \u001B[38;5;28;01mfor\u001B[39;00m i, (template_flat, template_norm) \u001B[38;5;129;01min\u001B[39;00m \u001B[38;5;28menumerate\u001B[39m(\u001B[38;5;28mzip\u001B[39m(templates_flat, templates_norm))]\n\u001B[1;32m     58\u001B[0m \u001B[38;5;66;03m# Sort the results\u001B[39;00m\n\u001B[1;32m     59\u001B[0m sorted_sims \u001B[38;5;241m=\u001B[39m \u001B[38;5;28msorted\u001B[39m(similarities, key\u001B[38;5;241m=\u001B[39m\u001B[38;5;28;01mlambda\u001B[39;00m x: x[\u001B[38;5;241m0\u001B[39m], reverse\u001B[38;5;241m=\u001B[39m\u001B[38;5;28;01mTrue\u001B[39;00m)\n",
      "File \u001B[0;32m/run/media/kilian/Extern_SSD/Robot_Vision/ZS6D/pose_utils/utils.py:55\u001B[0m, in \u001B[0;36m<listcomp>\u001B[0;34m(.0)\u001B[0m\n\u001B[1;32m     52\u001B[0m templates_norm \u001B[38;5;241m=\u001B[39m [np\u001B[38;5;241m.\u001B[39mlinalg\u001B[38;5;241m.\u001B[39mnorm(template_flat) \u001B[38;5;28;01mfor\u001B[39;00m template_flat \u001B[38;5;129;01min\u001B[39;00m templates_flat]\n\u001B[1;32m     54\u001B[0m \u001B[38;5;66;03m# Compute cosine similarities in a vectorized manner\u001B[39;00m\n\u001B[0;32m---> 55\u001B[0m similarities \u001B[38;5;241m=\u001B[39m [(\u001B[43mnp\u001B[49m\u001B[38;5;241;43m.\u001B[39;49m\u001B[43mdot\u001B[49m\u001B[43m(\u001B[49m\u001B[43mdesc_input_flat\u001B[49m\u001B[43m,\u001B[49m\u001B[43m \u001B[49m\u001B[43mtemplate_flat\u001B[49m\u001B[43m)\u001B[49m \u001B[38;5;241m/\u001B[39m (desc_input_norm \u001B[38;5;241m*\u001B[39m template_norm), i)\n\u001B[1;32m     56\u001B[0m                 \u001B[38;5;28;01mfor\u001B[39;00m i, (template_flat, template_norm) \u001B[38;5;129;01min\u001B[39;00m \u001B[38;5;28menumerate\u001B[39m(\u001B[38;5;28mzip\u001B[39m(templates_flat, templates_norm))]\n\u001B[1;32m     58\u001B[0m \u001B[38;5;66;03m# Sort the results\u001B[39;00m\n\u001B[1;32m     59\u001B[0m sorted_sims \u001B[38;5;241m=\u001B[39m \u001B[38;5;28msorted\u001B[39m(similarities, key\u001B[38;5;241m=\u001B[39m\u001B[38;5;28;01mlambda\u001B[39;00m x: x[\u001B[38;5;241m0\u001B[39m], reverse\u001B[38;5;241m=\u001B[39m\u001B[38;5;28;01mTrue\u001B[39;00m)\n",
      "\u001B[0;31mValueError\u001B[0m: shapes (4147200,) and (1161984,) not aligned: 4147200 (dim 0) != 1161984 (dim 0)"
     ]
    }
   ],
   "execution_count": 3
  },
  {
   "metadata": {},
   "cell_type": "code",
   "outputs": [],
   "execution_count": null,
   "source": "",
   "id": "293337d5c5cb019a"
  }
 ],
 "metadata": {
  "kernelspec": {
   "display_name": "Python 3",
   "language": "python",
   "name": "python3"
  },
  "language_info": {
   "codemirror_mode": {
    "name": "ipython",
    "version": 2
   },
   "file_extension": ".py",
   "mimetype": "text/x-python",
   "name": "python",
   "nbconvert_exporter": "python",
   "pygments_lexer": "ipython2",
   "version": "2.7.6"
  }
 },
 "nbformat": 4,
 "nbformat_minor": 5
}
