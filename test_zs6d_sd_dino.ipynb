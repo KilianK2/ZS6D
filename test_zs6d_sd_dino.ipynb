{
 "cells": [
  {
   "cell_type": "code",
   "id": "initial_id",
   "metadata": {
    "collapsed": true,
    "ExecuteTime": {
     "end_time": "2024-07-12T16:54:46.211627Z",
     "start_time": "2024-07-12T16:54:46.206952Z"
    }
   },
   "source": [
    "\"\"\"Setup for Fused_ZS6D\"\"\"\n",
    "stride = 14\n",
    "image_size_sd = 960\n",
    "image_size_dino = 840\n",
    "layer = 11\n",
    "facet = 'token'\n",
    "model_type = 'dinov2_vitb14'"
   ],
   "outputs": [],
   "execution_count": 1
  },
  {
   "metadata": {
    "ExecuteTime": {
     "end_time": "2024-07-12T16:55:50.980403Z",
     "start_time": "2024-07-12T16:54:46.212746Z"
    }
   },
   "cell_type": "code",
   "source": [
    "from zs6d_sd_dino.sd_dino.extractor_sd import load_model\n",
    "\n",
    "# Instantiating the stable diffusion model:\n",
    "model_sd, aug_sd = load_model(diffusion_ver=\"v1-5\", image_size=image_size_sd, num_timesteps=100)\n"
   ],
   "id": "afb285c8933ce976",
   "outputs": [
    {
     "name": "stderr",
     "output_type": "stream",
     "text": [
      "A matching Triton is not available, some optimizations will not be enabled.\n",
      "Error caught was: No module named 'triton'\n"
     ]
    },
    {
     "name": "stdout",
     "output_type": "stream",
     "text": [
      "LatentDiffusion: Running in eps-prediction mode\n",
      "Setting up MemoryEfficientCrossAttention. Query dim is 320, context_dim is None and using 8 heads.\n",
      "Setting up MemoryEfficientCrossAttention. Query dim is 320, context_dim is 768 and using 8 heads.\n",
      "Setting up MemoryEfficientCrossAttention. Query dim is 320, context_dim is None and using 8 heads.\n",
      "Setting up MemoryEfficientCrossAttention. Query dim is 320, context_dim is 768 and using 8 heads.\n",
      "Setting up MemoryEfficientCrossAttention. Query dim is 640, context_dim is None and using 8 heads.\n",
      "Setting up MemoryEfficientCrossAttention. Query dim is 640, context_dim is 768 and using 8 heads.\n",
      "Setting up MemoryEfficientCrossAttention. Query dim is 640, context_dim is None and using 8 heads.\n",
      "Setting up MemoryEfficientCrossAttention. Query dim is 640, context_dim is 768 and using 8 heads.\n",
      "Setting up MemoryEfficientCrossAttention. Query dim is 1280, context_dim is None and using 8 heads.\n",
      "Setting up MemoryEfficientCrossAttention. Query dim is 1280, context_dim is 768 and using 8 heads.\n",
      "Setting up MemoryEfficientCrossAttention. Query dim is 1280, context_dim is None and using 8 heads.\n",
      "Setting up MemoryEfficientCrossAttention. Query dim is 1280, context_dim is 768 and using 8 heads.\n",
      "Setting up MemoryEfficientCrossAttention. Query dim is 1280, context_dim is None and using 8 heads.\n",
      "Setting up MemoryEfficientCrossAttention. Query dim is 1280, context_dim is 768 and using 8 heads.\n",
      "Setting up MemoryEfficientCrossAttention. Query dim is 1280, context_dim is None and using 8 heads.\n",
      "Setting up MemoryEfficientCrossAttention. Query dim is 1280, context_dim is 768 and using 8 heads.\n",
      "Setting up MemoryEfficientCrossAttention. Query dim is 1280, context_dim is None and using 8 heads.\n",
      "Setting up MemoryEfficientCrossAttention. Query dim is 1280, context_dim is 768 and using 8 heads.\n",
      "Setting up MemoryEfficientCrossAttention. Query dim is 1280, context_dim is None and using 8 heads.\n",
      "Setting up MemoryEfficientCrossAttention. Query dim is 1280, context_dim is 768 and using 8 heads.\n",
      "Setting up MemoryEfficientCrossAttention. Query dim is 640, context_dim is None and using 8 heads.\n",
      "Setting up MemoryEfficientCrossAttention. Query dim is 640, context_dim is 768 and using 8 heads.\n",
      "Setting up MemoryEfficientCrossAttention. Query dim is 640, context_dim is None and using 8 heads.\n",
      "Setting up MemoryEfficientCrossAttention. Query dim is 640, context_dim is 768 and using 8 heads.\n",
      "Setting up MemoryEfficientCrossAttention. Query dim is 640, context_dim is None and using 8 heads.\n",
      "Setting up MemoryEfficientCrossAttention. Query dim is 640, context_dim is 768 and using 8 heads.\n",
      "Setting up MemoryEfficientCrossAttention. Query dim is 320, context_dim is None and using 8 heads.\n",
      "Setting up MemoryEfficientCrossAttention. Query dim is 320, context_dim is 768 and using 8 heads.\n",
      "Setting up MemoryEfficientCrossAttention. Query dim is 320, context_dim is None and using 8 heads.\n",
      "Setting up MemoryEfficientCrossAttention. Query dim is 320, context_dim is 768 and using 8 heads.\n",
      "Setting up MemoryEfficientCrossAttention. Query dim is 320, context_dim is None and using 8 heads.\n",
      "Setting up MemoryEfficientCrossAttention. Query dim is 320, context_dim is 768 and using 8 heads.\n",
      "DiffusionWrapper has 859.52 M params.\n",
      "making attention of type 'vanilla-xformers' with 512 in_channels\n",
      "building MemoryEfficientAttnBlock with 512 in_channels...\n",
      "Working with z of shape (1, 4, 32, 32) = 4096 dimensions.\n",
      "making attention of type 'vanilla-xformers' with 512 in_channels\n",
      "building MemoryEfficientAttnBlock with 512 in_channels...\n"
     ]
    },
    {
     "name": "stderr",
     "output_type": "stream",
     "text": [
      "/home/berni/anaconda3/envs/zs6d_sd_dino/lib/python3.9/site-packages/huggingface_hub/file_download.py:1132: FutureWarning: `resume_download` is deprecated and will be removed in version 1.0.0. Downloads always resume when possible. If you want to force a new download, use `force_download=True`.\n",
      "  warnings.warn(\n",
      "The checkpoint state_dict contains keys that are not used by the model:\n",
      "  \u001B[35mmodel_ema.{decay, num_updates}\u001B[0m\n",
      "WARNING:fvcore.common.checkpoint:Keys with prefix are removed from state_dict:\n",
      "backbone.feature_extractor.,category_head.clip.clip.,clip_head.clip.clip.\n",
      "WARNING:fvcore.common.checkpoint:Removed 2483 ignored_state_dict keys from missing_keys\n",
      "WARNING:fvcore.common.checkpoint:Skip loading parameter 'backbone.feature_projections.2.0.shortcut.weight' to the model due to incompatible shapes: (512, 2560, 1, 1) in the checkpoint but (512, 1280, 1, 1) in the model! You might want to double check if this is expected.\n",
      "WARNING:fvcore.common.checkpoint:Skip loading parameter 'backbone.feature_projections.2.0.conv1.weight' to the model due to incompatible shapes: (128, 2560, 1, 1) in the checkpoint but (128, 1280, 1, 1) in the model! You might want to double check if this is expected.\n",
      "WARNING:fvcore.common.checkpoint:Skip loading parameter 'backbone.feature_projections.3.0.shortcut.weight' to the model due to incompatible shapes: (512, 1920, 1, 1) in the checkpoint but (512, 1280, 1, 1) in the model! You might want to double check if this is expected.\n",
      "WARNING:fvcore.common.checkpoint:Skip loading parameter 'backbone.feature_projections.3.0.conv1.weight' to the model due to incompatible shapes: (128, 1920, 1, 1) in the checkpoint but (128, 1280, 1, 1) in the model! You might want to double check if this is expected.\n",
      "WARNING:fvcore.common.checkpoint:Skip loading parameter 'backbone.feature_projections.4.0.shortcut.weight' to the model due to incompatible shapes: (512, 960, 1, 1) in the checkpoint but (512, 640, 1, 1) in the model! You might want to double check if this is expected.\n",
      "WARNING:fvcore.common.checkpoint:Skip loading parameter 'backbone.feature_projections.4.0.conv1.weight' to the model due to incompatible shapes: (128, 960, 1, 1) in the checkpoint but (128, 640, 1, 1) in the model! You might want to double check if this is expected.\n",
      "WARNING:fvcore.common.checkpoint:Skip loading parameter 'backbone.feature_projections.5.0.shortcut.weight' to the model due to incompatible shapes: (512, 640, 1, 1) in the checkpoint but (512, 320, 1, 1) in the model! You might want to double check if this is expected.\n",
      "WARNING:fvcore.common.checkpoint:Skip loading parameter 'backbone.feature_projections.5.0.conv1.weight' to the model due to incompatible shapes: (128, 640, 1, 1) in the checkpoint but (128, 320, 1, 1) in the model! You might want to double check if this is expected.\n",
      "WARNING:fvcore.common.checkpoint:Some model parameters or buffers are not found in the checkpoint:\n",
      "\u001B[34mbackbone.feature_projections.2.0.conv1.weight\u001B[0m\n",
      "\u001B[34mbackbone.feature_projections.2.0.shortcut.weight\u001B[0m\n",
      "\u001B[34mbackbone.feature_projections.3.0.conv1.weight\u001B[0m\n",
      "\u001B[34mbackbone.feature_projections.3.0.shortcut.weight\u001B[0m\n",
      "\u001B[34mbackbone.feature_projections.4.0.conv1.weight\u001B[0m\n",
      "\u001B[34mbackbone.feature_projections.4.0.shortcut.weight\u001B[0m\n",
      "\u001B[34mbackbone.feature_projections.5.0.conv1.weight\u001B[0m\n",
      "\u001B[34mbackbone.feature_projections.5.0.shortcut.weight\u001B[0m\n"
     ]
    }
   ],
   "execution_count": 2
  },
  {
   "metadata": {
    "ExecuteTime": {
     "end_time": "2024-07-12T16:55:52.937295Z",
     "start_time": "2024-07-12T16:55:50.981072Z"
    }
   },
   "cell_type": "code",
   "source": [
    "from zs6dsddino import ZS6DSdDino\n",
    "import os\n",
    "import json\n",
    "\n",
    "\n",
    "\n",
    "# Loading the config file:\n",
    "with open(os.path.join(\"./zs6d_configs/bop_eval_configs/cfg_single_sd_dino.json\"), \"r\") as f:\n",
    "    config = json.load(f)\n",
    "    \n",
    "# Instantiating the pose estimator:\n",
    "# This involves handing over the path to the templates_gt file and the corresponding object norm_factors.\n",
    "pose_estimator_sd_dino = ZS6DSdDino(model_sd, aug_sd, image_size_dino, image_size_sd, layer, facet, config['templates_gt_path'], config['norm_factor_path'], model_type=model_type, stride=stride)\n"
   ],
   "id": "9c6c846abdad5ac5",
   "outputs": [
    {
     "name": "stderr",
     "output_type": "stream",
     "text": [
      "Using cache found in /home/berni/.cache/torch/hub/facebookresearch_dinov2_main\n",
      "/home/berni/.cache/torch/hub/facebookresearch_dinov2_main/dinov2/layers/swiglu_ffn.py:43: UserWarning: xFormers is available (SwiGLU)\n",
      "  warnings.warn(\"xFormers is available (SwiGLU)\")\n",
      "/home/berni/.cache/torch/hub/facebookresearch_dinov2_main/dinov2/layers/attention.py:27: UserWarning: xFormers is available (Attention)\n",
      "  warnings.warn(\"xFormers is available (Attention)\")\n",
      "/home/berni/.cache/torch/hub/facebookresearch_dinov2_main/dinov2/layers/block.py:40: UserWarning: xFormers is not available (Block)\n",
      "  warnings.warn(\"xFormers is not available (Block)\")\n",
      "100%|██████████| 1/1 [00:00<00:00,  3.57it/s]\n"
     ]
    }
   ],
   "execution_count": 3
  },
  {
   "metadata": {
    "ExecuteTime": {
     "end_time": "2024-07-12T16:55:56.512854Z",
     "start_time": "2024-07-12T16:55:52.938241Z"
    }
   },
   "cell_type": "code",
   "source": [
    "import cv2\n",
    "from PIL import Image\n",
    "import pose_utils.img_utils as img_utils\n",
    "import pose_utils.vis_utils as vis_utils\n",
    "import numpy as np\n",
    "import time\n",
    "import matplotlib.pyplot as plt\n",
    "import torch\n",
    "\n",
    "\n",
    "# Loading a ground truth file to access segmentation masks to test zs6d:\n",
    "with open(os.path.join(config['gt_path']), 'r') as f:\n",
    "    data_gt = json.load(f)\n",
    "\n",
    "img_id = '000048_1'\n",
    "# img_id = '8'\n",
    "\n",
    "device = 'cuda' if torch.cuda.is_available() else 'cpu'\n",
    "\n",
    "patch_size = 14 #extractor.model.patch_embed.patch_size[0]\n",
    "num_patches = int(patch_size / stride * (image_size_dino // patch_size))\n",
    "\n",
    "\n",
    "for i in range(len(data_gt[img_id])):\n",
    "    obj_number = i\n",
    "    obj_id = data_gt[img_id][obj_number]['obj_id']\n",
    "    cam_K = np.array(data_gt[img_id][obj_number]['cam_K']).reshape((3,3))\n",
    "    bbox = data_gt[img_id][obj_number]['bbox_visib']\n",
    "\n",
    "    img_path = \"test/000001.png\"\n",
    "    img = Image.open(img_path)\n",
    "\n",
    "    mask = data_gt[img_id][obj_number]['mask_sam']\n",
    "    mask = img_utils.rle_to_mask(mask)\n",
    "    mask = mask.astype(np.uint8)\n",
    "\n",
    "    start_time = time.time()\n",
    "    \n",
    "    # To estimate the objects Rotation R and translation t the input image, the object_id, a segmentation mask and camera matrix are necessary\n",
    "    R_est, t_est = pose_estimator_sd_dino.get_pose(num_patches, img, str(obj_id), mask, cam_K, bbox=None)\n",
    "\n",
    "    end_time = time.time()\n",
    "    \n",
    "    out_img = vis_utils.draw_3D_bbox_on_image(np.array(img), R_est, t_est, cam_K, data_gt[img_id][obj_number]['model_info'], factor=1.0)\n",
    "\n",
    "    plt.imshow(out_img)\n",
    "    plt.show()\n",
    "    print(f\"Pose estimation time: {end_time-start_time}\")\n",
    "    print(f\"R_est: {R_est}\")\n",
    "    print(f\"t_est: {t_est}\")"
   ],
   "id": "4351dbb961df6dab",
   "outputs": [
    {
     "name": "stdout",
     "output_type": "stream",
     "text": [
      "Shape of SD features: torch.Size([1, 1, 3600, 384])\n",
      "Shape of DINO features: torch.Size([1, 1, 3600, 768])\n",
      "Shape of SD-DINO features: torch.Size([1, 1, 3600, 1152])\n"
     ]
    },
    {
     "name": "stderr",
     "output_type": "stream",
     "text": [
      "ERROR:ZS6DSdDino:Error in get_pose: name 'similarities' is not defined\n"
     ]
    },
    {
     "ename": "NameError",
     "evalue": "name 'similarities' is not defined",
     "output_type": "error",
     "traceback": [
      "\u001B[0;31m---------------------------------------------------------------------------\u001B[0m",
      "\u001B[0;31mNameError\u001B[0m                                 Traceback (most recent call last)",
      "Cell \u001B[0;32mIn[4], line 40\u001B[0m\n\u001B[1;32m     37\u001B[0m start_time \u001B[38;5;241m=\u001B[39m time\u001B[38;5;241m.\u001B[39mtime()\n\u001B[1;32m     39\u001B[0m \u001B[38;5;66;03m# To estimate the objects Rotation R and translation t the input image, the object_id, a segmentation mask and camera matrix are necessary\u001B[39;00m\n\u001B[0;32m---> 40\u001B[0m R_est, t_est \u001B[38;5;241m=\u001B[39m \u001B[43mpose_estimator_sd_dino\u001B[49m\u001B[38;5;241;43m.\u001B[39;49m\u001B[43mget_pose\u001B[49m\u001B[43m(\u001B[49m\u001B[43mnum_patches\u001B[49m\u001B[43m,\u001B[49m\u001B[43m \u001B[49m\u001B[43mimg\u001B[49m\u001B[43m,\u001B[49m\u001B[43m \u001B[49m\u001B[38;5;28;43mstr\u001B[39;49m\u001B[43m(\u001B[49m\u001B[43mobj_id\u001B[49m\u001B[43m)\u001B[49m\u001B[43m,\u001B[49m\u001B[43m \u001B[49m\u001B[43mmask\u001B[49m\u001B[43m,\u001B[49m\u001B[43m \u001B[49m\u001B[43mcam_K\u001B[49m\u001B[43m,\u001B[49m\u001B[43m \u001B[49m\u001B[43mbbox\u001B[49m\u001B[38;5;241;43m=\u001B[39;49m\u001B[38;5;28;43;01mNone\u001B[39;49;00m\u001B[43m)\u001B[49m\n\u001B[1;32m     42\u001B[0m end_time \u001B[38;5;241m=\u001B[39m time\u001B[38;5;241m.\u001B[39mtime()\n\u001B[1;32m     44\u001B[0m out_img \u001B[38;5;241m=\u001B[39m vis_utils\u001B[38;5;241m.\u001B[39mdraw_3D_bbox_on_image(np\u001B[38;5;241m.\u001B[39marray(img), R_est, t_est, cam_K, data_gt[img_id][obj_number][\u001B[38;5;124m'\u001B[39m\u001B[38;5;124mmodel_info\u001B[39m\u001B[38;5;124m'\u001B[39m], factor\u001B[38;5;241m=\u001B[39m\u001B[38;5;241m1.0\u001B[39m)\n",
      "File \u001B[0;32m/mnt/Fatboy/Kilian/RobotVisionProject/ZS6D/zs6dsddino.py:142\u001B[0m, in \u001B[0;36mZS6DSdDino.get_pose\u001B[0;34m(self, num_patches, img, obj_id, mask, cam_K, bbox)\u001B[0m\n\u001B[1;32m    139\u001B[0m template_pil, _, _ \u001B[38;5;241m=\u001B[39m \u001B[38;5;28mself\u001B[39m\u001B[38;5;241m.\u001B[39mextractor\u001B[38;5;241m.\u001B[39mpreprocess(template_image, load_size\u001B[38;5;241m=\u001B[39m\u001B[38;5;28mself\u001B[39m\u001B[38;5;241m.\u001B[39mimage_size_dino)\n\u001B[1;32m    141\u001B[0m \u001B[38;5;66;03m# v7 and v6 are valid but wrong results\u001B[39;00m\n\u001B[0;32m--> 142\u001B[0m points1, points2, input_pil, template_pil \u001B[38;5;241m=\u001B[39m \u001B[38;5;28;43mself\u001B[39;49m\u001B[38;5;241;43m.\u001B[39;49m\u001B[43mextractor\u001B[49m\u001B[38;5;241;43m.\u001B[39;49m\u001B[43mfind_correspondences_nearest_neighbor_sd_dino\u001B[49m\u001B[43m(\u001B[49m\u001B[38;5;28;43mself\u001B[39;49m\u001B[38;5;241;43m.\u001B[39;49m\u001B[43mimage_size_sd\u001B[49m\u001B[43m,\u001B[49m\u001B[43m \u001B[49m\u001B[38;5;28;43mself\u001B[39;49m\u001B[38;5;241;43m.\u001B[39;49m\u001B[43mmodel_sd\u001B[49m\u001B[43m,\u001B[49m\u001B[43m \u001B[49m\u001B[38;5;28;43mself\u001B[39;49m\u001B[38;5;241;43m.\u001B[39;49m\u001B[43maug_sd\u001B[49m\u001B[43m,\u001B[49m\u001B[43m \u001B[49m\u001B[43mnum_patches\u001B[49m\u001B[43m,\u001B[49m\u001B[43m \u001B[49m\u001B[43minput_image\u001B[49m\u001B[43m,\u001B[49m\u001B[43m \u001B[49m\u001B[43minput_pil\u001B[49m\u001B[43m,\u001B[49m\n\u001B[1;32m    143\u001B[0m \u001B[43m                                                                                          \u001B[49m\u001B[43mtemplate_image\u001B[49m\u001B[43m,\u001B[49m\u001B[43mtemplate_pil\u001B[49m\u001B[43m,\u001B[49m\n\u001B[1;32m    144\u001B[0m \u001B[43m                                                                                          \u001B[49m\u001B[43mnum_pairs\u001B[49m\u001B[38;5;241;43m=\u001B[39;49m\u001B[38;5;241;43m20\u001B[39;49m\u001B[43m,\u001B[49m\n\u001B[1;32m    145\u001B[0m \u001B[43m                                                                                          \u001B[49m\u001B[43mload_size\u001B[49m\u001B[38;5;241;43m=\u001B[39;49m\u001B[43mcrop_size\u001B[49m\u001B[43m)\u001B[49m\n\u001B[1;32m    148\u001B[0m \u001B[38;5;66;03m#points1, points2, crop_pil, template_pil = self.extractor.find_correspondences_fastkmeans(img_crop,\u001B[39;00m\n\u001B[1;32m    149\u001B[0m \u001B[38;5;66;03m#                                                                                          template,\u001B[39;00m\n\u001B[1;32m    150\u001B[0m \u001B[38;5;66;03m#                                                                                          num_pairs=20,\u001B[39;00m\n\u001B[1;32m    151\u001B[0m \u001B[38;5;66;03m#                                                                                          load_size=crop_size)\u001B[39;00m\n\u001B[1;32m    152\u001B[0m \u001B[38;5;66;03m#points1 = points1 / self.image_size_dino\u001B[39;00m\n\u001B[1;32m    153\u001B[0m \u001B[38;5;66;03m#points2 = points2 / self.image_size_dino\u001B[39;00m\n\u001B[1;32m    154\u001B[0m \u001B[38;5;28;01mif\u001B[39;00m \u001B[38;5;129;01mnot\u001B[39;00m points1 \u001B[38;5;129;01mor\u001B[39;00m \u001B[38;5;129;01mnot\u001B[39;00m points2:\n",
      "File \u001B[0;32m/mnt/Fatboy/Kilian/RobotVisionProject/ZS6D/src/pose_extractor.py:1371\u001B[0m, in \u001B[0;36mPoseViTExtractor.find_correspondences_nearest_neighbor_sd_dino\u001B[0;34m(self, image_size_sd, model_sd, aug_sd, num_patches, input_image, input_pil, template_image, template_pil, num_pairs, load_size, layer, facet, bin, thresh)\u001B[0m\n\u001B[1;32m   1369\u001B[0m start_time_nn \u001B[38;5;241m=\u001B[39m time\u001B[38;5;241m.\u001B[39mtime()\n\u001B[1;32m   1370\u001B[0m \u001B[38;5;66;03m# find nearest neighbors\u001B[39;00m\n\u001B[0;32m-> 1371\u001B[0m distances, indices \u001B[38;5;241m=\u001B[39m torch\u001B[38;5;241m.\u001B[39mtopk(\u001B[43msimilarities\u001B[49m[\u001B[38;5;241m0\u001B[39m, \u001B[38;5;241m0\u001B[39m], k\u001B[38;5;241m=\u001B[39mnum_pairs, largest\u001B[38;5;241m=\u001B[39m\u001B[38;5;28;01mTrue\u001B[39;00m)\n\u001B[1;32m   1372\u001B[0m end_time_nn \u001B[38;5;241m=\u001B[39m time\u001B[38;5;241m.\u001B[39mtime()\n\u001B[1;32m   1373\u001B[0m elapsed_nn \u001B[38;5;241m=\u001B[39m end_time_nn \u001B[38;5;241m-\u001B[39m start_time_nn\n",
      "\u001B[0;31mNameError\u001B[0m: name 'similarities' is not defined"
     ]
    }
   ],
   "execution_count": 4
  },
  {
   "metadata": {},
   "cell_type": "code",
   "source": "",
   "id": "d1655698fe936803",
   "outputs": [],
   "execution_count": null
  }
 ],
 "metadata": {
  "kernelspec": {
   "display_name": "Python 3",
   "language": "python",
   "name": "python3"
  },
  "language_info": {
   "codemirror_mode": {
    "name": "ipython",
    "version": 2
   },
   "file_extension": ".py",
   "mimetype": "text/x-python",
   "name": "python",
   "nbconvert_exporter": "python",
   "pygments_lexer": "ipython2",
   "version": "2.7.6"
  }
 },
 "nbformat": 4,
 "nbformat_minor": 5
}
