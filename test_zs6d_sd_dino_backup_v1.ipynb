{
 "cells": [
  {
   "metadata": {
    "ExecuteTime": {
     "end_time": "2024-07-02T13:56:08.716323Z",
     "start_time": "2024-07-02T13:56:08.700788Z"
    }
   },
   "cell_type": "code",
   "source": [
    "# Loading the config file:\n",
    "import os\n",
    "\n",
    "files = os.listdir('./templates/ycbv_desc/models_xyz/')\n",
    "print(files)"
   ],
   "id": "3a374f8887df45d4",
   "outputs": [
    {
     "name": "stdout",
     "output_type": "stream",
     "text": [
      "['norm_factor.json', 'obj_000016.ply', 'obj_000002.ply', 'obj_000003.ply', 'obj_000017.ply', 'obj_000001.ply', 'obj_000015.ply', 'obj_000014.ply', 'obj_000004.ply', 'obj_000010.ply', 'obj_000011.ply', 'obj_000005.ply', 'obj_000013.ply', 'obj_000007.ply', 'obj_000006.ply', 'obj_000012.ply', 'obj_000008.ply', 'obj_000020.ply', 'obj_000021.ply', 'obj_000009.ply', 'obj_000019.ply', 'obj_000018.ply', 'models_factor.json']\n"
     ]
    }
   ],
   "execution_count": 1
  },
  {
   "metadata": {
    "ExecuteTime": {
     "end_time": "2024-07-02T13:56:28.819647Z",
     "start_time": "2024-07-02T13:56:11.885660Z"
    }
   },
   "cell_type": "code",
   "source": [
    "from fused_zs6d import Fused_ZS6D\n",
    "import os\n",
    "import json\n",
    "import numpy as np\n",
    "import torch\n",
    "\n",
    "with open(os.path.join(\"./zs6d_configs/bop_eval_configs/cfg_ycbv_inference_bop.json\"), \"r\") as f:\n",
    "    config = json.load(f)\n",
    "\n",
    "# Instantiating the pose estimator:\n",
    "# This involves handing over the path to the templates_gt file and the corresponding object norm_factors.\n",
    "\"\"\"SETUP for SD-DINO\"\"\"\n",
    "SEED = 42\n",
    "VER = \"v1-5\"\n",
    "TIMESTEP = 100\n",
    "img_size_sd = 448\n",
    "img_size_dino = 448 # or 244\n",
    "model_type = 'dinov2_vitb14'\n",
    "layer = 11 # or 9\n",
    "facet = 'token' # or key token\n",
    "stride = 14 # or 4\n",
    "\n",
    "\"\"\"Reproducibility\"\"\"\n",
    "np.random.seed(SEED)\n",
    "torch.manual_seed(SEED)\n",
    "torch.cuda.manual_seed(SEED)\n",
    "torch.backends.cudnn.benchmark = True\n",
    "\n",
    "pose_estimator = Fused_ZS6D(config['templates_gt_path'], config['norm_factor_path'], model_type, stride)"
   ],
   "id": "6f5c2ec315b26625",
   "outputs": [
    {
     "name": "stderr",
     "output_type": "stream",
     "text": [
      "Using cache found in /home/kilian/.cache/torch/hub/facebookresearch_dinov2_main\n",
      "/home/kilian/.cache/torch/hub/facebookresearch_dinov2_main/dinov2/layers/swiglu_ffn.py:51: UserWarning: xFormers is not available (SwiGLU)\n",
      "  warnings.warn(\"xFormers is not available (SwiGLU)\")\n",
      "/home/kilian/.cache/torch/hub/facebookresearch_dinov2_main/dinov2/layers/attention.py:33: UserWarning: xFormers is not available (Attention)\n",
      "  warnings.warn(\"xFormers is not available (Attention)\")\n",
      "/home/kilian/.cache/torch/hub/facebookresearch_dinov2_main/dinov2/layers/block.py:40: UserWarning: xFormers is not available (Block)\n",
      "  warnings.warn(\"xFormers is not available (Block)\")\n",
      "100%|██████████| 21/21 [00:10<00:00,  2.03it/s]\n"
     ]
    }
   ],
   "execution_count": 2
  },
  {
   "metadata": {
    "ExecuteTime": {
     "end_time": "2024-07-02T13:59:02.571989Z",
     "start_time": "2024-07-02T13:56:35.542436Z"
    }
   },
   "cell_type": "code",
   "source": [
    "import cv2\n",
    "from PIL import Image\n",
    "import pose_utils.img_utils as img_utils\n",
    "import pose_utils.vis_utils as vis_utils\n",
    "import numpy as np\n",
    "import time\n",
    "import matplotlib.pyplot as plt\n",
    "import os\n",
    "\n",
    "os.environ['CUDA_VISIBLE_DEVICES'] = '0'\n",
    "\n",
    "import os\n",
    "import pandas as pd\n",
    "import numpy as np\n",
    "from PIL import Image\n",
    "from tqdm import tqdm\n",
    "import torch.nn.functional as F\n",
    "from extractor_sd import load_model, process_features_and_mask, get_mask\n",
    "from utils.utils_correspondence import co_pca, resize, find_nearest_patchs, find_nearest_patchs_replace\n",
    "import matplotlib.pyplot as plt\n",
    "import sys\n",
    "from extractor_dino import ViTExtractor\n",
    "from sklearn.decomposition import PCA as sklearnPCA\n",
    "import math\n",
    "from sklearn.cluster import KMeans\n",
    "from scipy.optimize import linear_sum_assignment\n",
    "\n",
    "\n",
    "# Load model\n",
    "model, aug = load_model(diffusion_ver=VER, image_size=img_size_sd, num_timesteps=TIMESTEP)\n",
    "\n",
    "\"\"\"SETUP for ZS6D\"\"\"\n",
    "img_id = '000048_1'\n",
    "# img_id = '8'\n",
    "\n",
    "# Loading a ground truth file to access segmentation masks to test zs6d:\n",
    "with open(os.path.join(config['gt_path']), 'r') as f:\n",
    "    data_gt = json.load(f)\n",
    "\n",
    "for i in range(len(data_gt[img_id])):\n",
    "    obj_number = i\n",
    "    obj_id = data_gt[img_id][obj_number]['obj_id']\n",
    "    cam_K = np.array(data_gt[img_id][obj_number]['cam_K']).reshape((3, 3))\n",
    "    bbox = data_gt[img_id][obj_number]['bbox_visib']\n",
    "\n",
    "    img_path = os.path.join(config['dataset_path'], data_gt[img_id][obj_number]['img_name'].split(\"./\")[-1])\n",
    "    # own test\n",
    "    img_path = os.path.join('test/', '000001.png')\n",
    "    img = Image.open(img_path).convert('RGB')\n",
    "\n",
    "    mask = data_gt[img_id][obj_number]['mask_sam']\n",
    "    mask = img_utils.rle_to_mask(mask)\n",
    "    mask = mask.astype(np.uint8)\n",
    "\n",
    "    start_time = time.time()\n",
    "\n",
    "    stride = 14\n",
    "    # To estimate the objects Rotation R and translation t the input image, the object_id, a segmentation mask and camera matrix are necessary\n",
    "    R_est, t_est = pose_estimator.get_pose(model, aug, stride, img, str(obj_id), mask, cam_K, bbox=None)\n",
    "\n",
    "    end_time = time.time()\n",
    "\n",
    "    out_img = vis_utils.draw_3D_bbox_on_image(np.array(img), R_est, t_est, cam_K,\n",
    "                                              data_gt[img_id][obj_number]['model_info'], factor=1.0)\n",
    "\n",
    "    plt.imshow(out_img)\n",
    "    plt.show()\n",
    "    print(f\"Pose estimation time: {end_time - start_time}\")\n",
    "    print(f\"R_est: {R_est}\")\n",
    "    print(f\"t_est: {t_est}\")\n",
    "\n",
    "\n"
   ],
   "id": "5b233f8413aa3f4c",
   "outputs": [
    {
     "name": "stdout",
     "output_type": "stream",
     "text": [
      "/run/media/kilian/Extern_SSD/Robot_Vision/ZS6D/zs6d-sd-dino/sd-dino/third_party/ODISE/odise/model_zoo/configs/Panoptic/odise_label_coco_50e.py\n",
      "test\n",
      "No module 'xformers'. Proceeding without it.\n",
      "LatentDiffusion: Running in eps-prediction mode\n",
      "DiffusionWrapper has 859.52 M params.\n",
      "making attention of type 'vanilla' with 512 in_channels\n",
      "Working with z of shape (1, 4, 32, 32) = 4096 dimensions.\n",
      "making attention of type 'vanilla' with 512 in_channels\n"
     ]
    },
    {
     "name": "stderr",
     "output_type": "stream",
     "text": [
      "2024-07-02 15:59:00,709 - ERROR - Error in get_pose: The size of tensor a (7) must match the size of tensor b (8) at non-singleton dimension 3\n"
     ]
    },
    {
     "ename": "RuntimeError",
     "evalue": "The size of tensor a (7) must match the size of tensor b (8) at non-singleton dimension 3",
     "output_type": "error",
     "traceback": [
      "\u001B[0;31m---------------------------------------------------------------------------\u001B[0m",
      "\u001B[0;31mRuntimeError\u001B[0m                              Traceback (most recent call last)",
      "Cell \u001B[0;32mIn[3], line 59\u001B[0m\n\u001B[1;32m     57\u001B[0m stride \u001B[38;5;241m=\u001B[39m \u001B[38;5;241m14\u001B[39m\n\u001B[1;32m     58\u001B[0m \u001B[38;5;66;03m# To estimate the objects Rotation R and translation t the input image, the object_id, a segmentation mask and camera matrix are necessary\u001B[39;00m\n\u001B[0;32m---> 59\u001B[0m R_est, t_est \u001B[38;5;241m=\u001B[39m \u001B[43mpose_estimator\u001B[49m\u001B[38;5;241;43m.\u001B[39;49m\u001B[43mget_pose\u001B[49m\u001B[43m(\u001B[49m\u001B[43mmodel\u001B[49m\u001B[43m,\u001B[49m\u001B[43m \u001B[49m\u001B[43maug\u001B[49m\u001B[43m,\u001B[49m\u001B[43m \u001B[49m\u001B[43mstride\u001B[49m\u001B[43m,\u001B[49m\u001B[43m \u001B[49m\u001B[43mimg\u001B[49m\u001B[43m,\u001B[49m\u001B[43m \u001B[49m\u001B[38;5;28;43mstr\u001B[39;49m\u001B[43m(\u001B[49m\u001B[43mobj_id\u001B[49m\u001B[43m)\u001B[49m\u001B[43m,\u001B[49m\u001B[43m \u001B[49m\u001B[43mmask\u001B[49m\u001B[43m,\u001B[49m\u001B[43m \u001B[49m\u001B[43mcam_K\u001B[49m\u001B[43m,\u001B[49m\u001B[43m \u001B[49m\u001B[43mbbox\u001B[49m\u001B[38;5;241;43m=\u001B[39;49m\u001B[38;5;28;43;01mNone\u001B[39;49;00m\u001B[43m)\u001B[49m\n\u001B[1;32m     61\u001B[0m end_time \u001B[38;5;241m=\u001B[39m time\u001B[38;5;241m.\u001B[39mtime()\n\u001B[1;32m     63\u001B[0m out_img \u001B[38;5;241m=\u001B[39m vis_utils\u001B[38;5;241m.\u001B[39mdraw_3D_bbox_on_image(np\u001B[38;5;241m.\u001B[39marray(img), R_est, t_est, cam_K,\n\u001B[1;32m     64\u001B[0m                                           data_gt[img_id][obj_number][\u001B[38;5;124m'\u001B[39m\u001B[38;5;124mmodel_info\u001B[39m\u001B[38;5;124m'\u001B[39m], factor\u001B[38;5;241m=\u001B[39m\u001B[38;5;241m1.0\u001B[39m)\n",
      "File \u001B[0;32m/run/media/kilian/Extern_SSD/Robot_Vision/ZS6D/zs6d-sd-dino/fused_zs6d.py:83\u001B[0m, in \u001B[0;36mFused_ZS6D.get_pose\u001B[0;34m(self, model, aug, stride, img, obj_id, mask, cam_K, bbox)\u001B[0m\n\u001B[1;32m     80\u001B[0m \u001B[38;5;28;01mwith\u001B[39;00m torch\u001B[38;5;241m.\u001B[39mno_grad():\n\u001B[1;32m     82\u001B[0m \u001B[38;5;250m    \u001B[39m\u001B[38;5;124;03m\"\"\"SD Descriptors\"\"\"\u001B[39;00m\n\u001B[0;32m---> 83\u001B[0m     desc_sd \u001B[38;5;241m=\u001B[39m \u001B[43mprocess_features_and_mask\u001B[49m\u001B[43m(\u001B[49m\u001B[43mmodel\u001B[49m\u001B[43m,\u001B[49m\u001B[43m \u001B[49m\u001B[43maug\u001B[49m\u001B[43m,\u001B[49m\u001B[43m \u001B[49m\u001B[43mimg_sd\u001B[49m\u001B[43m,\u001B[49m\u001B[43m \u001B[49m\u001B[43minput_text\u001B[49m\u001B[38;5;241;43m=\u001B[39;49m\u001B[38;5;28;43;01mNone\u001B[39;49;00m\u001B[43m,\u001B[49m\u001B[43m \u001B[49m\u001B[43mmask\u001B[49m\u001B[38;5;241;43m=\u001B[39;49m\u001B[38;5;28;43;01mFalse\u001B[39;49;00m\u001B[43m,\u001B[49m\n\u001B[1;32m     84\u001B[0m \u001B[43m                                            \u001B[49m\u001B[43mpca\u001B[49m\u001B[38;5;241;43m=\u001B[39;49m\u001B[38;5;28;43;01mTrue\u001B[39;49;00m\u001B[43m)\u001B[49m\u001B[38;5;241m.\u001B[39mreshape(\u001B[38;5;241m1\u001B[39m,\u001B[38;5;241m1\u001B[39m,\u001B[38;5;241m-\u001B[39m\u001B[38;5;241m1\u001B[39m, num_patches\u001B[38;5;241m*\u001B[39m\u001B[38;5;241m*\u001B[39m\u001B[38;5;241m2\u001B[39m)\u001B[38;5;241m.\u001B[39mpermute(\u001B[38;5;241m0\u001B[39m,\u001B[38;5;241m1\u001B[39m,\u001B[38;5;241m3\u001B[39m,\u001B[38;5;241m2\u001B[39m)\n\u001B[1;32m     85\u001B[0m \u001B[38;5;250m    \u001B[39m\u001B[38;5;124;03m\"\"\"DINO Descriptors\"\"\"\u001B[39;00m\n\u001B[1;32m     86\u001B[0m     desc_dino \u001B[38;5;241m=\u001B[39m \u001B[38;5;28mself\u001B[39m\u001B[38;5;241m.\u001B[39mextractor\u001B[38;5;241m.\u001B[39mextract_descriptors(img_prep\u001B[38;5;241m.\u001B[39mto(\u001B[38;5;28mself\u001B[39m\u001B[38;5;241m.\u001B[39mdevice), layer\u001B[38;5;241m=\u001B[39m\u001B[38;5;241m11\u001B[39m, facet\u001B[38;5;241m=\u001B[39m\u001B[38;5;124m'\u001B[39m\u001B[38;5;124mkey\u001B[39m\u001B[38;5;124m'\u001B[39m, \u001B[38;5;28mbin\u001B[39m\u001B[38;5;241m=\u001B[39m\u001B[38;5;28;01mFalse\u001B[39;00m,\n\u001B[1;32m     87\u001B[0m                                               include_cls\u001B[38;5;241m=\u001B[39m\u001B[38;5;28;01mTrue\u001B[39;00m)\n",
      "File \u001B[0;32m/run/media/kilian/Extern_SSD/Robot_Vision/ZS6D/zs6d-sd-dino/sd-dino/extractor_sd.py:310\u001B[0m, in \u001B[0;36mprocess_features_and_mask\u001B[0;34m(model, aug, image, category, input_text, mask, pca, raw)\u001B[0m\n\u001B[1;32m    308\u001B[0m \u001B[38;5;28;01melif\u001B[39;00m \u001B[38;5;28mtype\u001B[39m(category) \u001B[38;5;129;01mis\u001B[39;00m \u001B[38;5;28mlist\u001B[39m:\n\u001B[1;32m    309\u001B[0m     category\u001B[38;5;241m=\u001B[39m[category_convert_dict[cat] \u001B[38;5;28;01mif\u001B[39;00m cat \u001B[38;5;129;01min\u001B[39;00m category_convert_dict \u001B[38;5;28;01melse\u001B[39;00m cat \u001B[38;5;28;01mfor\u001B[39;00m cat \u001B[38;5;129;01min\u001B[39;00m category]\n\u001B[0;32m--> 310\u001B[0m features \u001B[38;5;241m=\u001B[39m \u001B[43mget_features\u001B[49m\u001B[43m(\u001B[49m\u001B[43mmodel\u001B[49m\u001B[43m,\u001B[49m\u001B[43m \u001B[49m\u001B[43maug\u001B[49m\u001B[43m,\u001B[49m\u001B[43m \u001B[49m\u001B[43minput_image\u001B[49m\u001B[43m,\u001B[49m\u001B[43m \u001B[49m\u001B[43mvocab\u001B[49m\u001B[43m,\u001B[49m\u001B[43m \u001B[49m\u001B[43mlabel_list\u001B[49m\u001B[43m,\u001B[49m\u001B[43m \u001B[49m\u001B[43mcaption\u001B[49m\u001B[43m,\u001B[49m\u001B[43m \u001B[49m\u001B[43mpca\u001B[49m\u001B[38;5;241;43m=\u001B[39;49m\u001B[43m(\u001B[49m\u001B[43mpca\u001B[49m\u001B[43m \u001B[49m\u001B[38;5;129;43;01mor\u001B[39;49;00m\u001B[43m \u001B[49m\u001B[43mraw\u001B[49m\u001B[43m)\u001B[49m\u001B[43m)\u001B[49m\n\u001B[1;32m    311\u001B[0m \u001B[38;5;28;01mif\u001B[39;00m pca:\n\u001B[1;32m    312\u001B[0m     features \u001B[38;5;241m=\u001B[39m pca_process(features)\n",
      "File \u001B[0;32m/run/media/kilian/Extern_SSD/Robot_Vision/ZS6D/zs6d-sd-dino/sd-dino/extractor_sd.py:233\u001B[0m, in \u001B[0;36mget_features\u001B[0;34m(model, aug, image, vocab, label_list, caption, pca)\u001B[0m\n\u001B[1;32m    231\u001B[0m     features \u001B[38;5;241m=\u001B[39m demo\u001B[38;5;241m.\u001B[39mget_features(np\u001B[38;5;241m.\u001B[39marray(image), caption, pca\u001B[38;5;241m=\u001B[39mpca)\n\u001B[1;32m    232\u001B[0m \u001B[38;5;28;01melse\u001B[39;00m:\n\u001B[0;32m--> 233\u001B[0m     features \u001B[38;5;241m=\u001B[39m \u001B[43mdemo\u001B[49m\u001B[38;5;241;43m.\u001B[39;49m\u001B[43mget_features\u001B[49m\u001B[43m(\u001B[49m\u001B[43mnp\u001B[49m\u001B[38;5;241;43m.\u001B[39;49m\u001B[43marray\u001B[49m\u001B[43m(\u001B[49m\u001B[43mimage\u001B[49m\u001B[43m)\u001B[49m\u001B[43m,\u001B[49m\u001B[43m \u001B[49m\u001B[43mpca\u001B[49m\u001B[38;5;241;43m=\u001B[39;49m\u001B[43mpca\u001B[49m\u001B[43m)\u001B[49m\n\u001B[1;32m    234\u001B[0m \u001B[38;5;28;01mreturn\u001B[39;00m features\n",
      "File \u001B[0;32m/run/media/kilian/Extern_SSD/Robot_Vision/ZS6D/zs6d-sd-dino/sd-dino/extractor_sd.py:96\u001B[0m, in \u001B[0;36mStableDiffusionSeg.get_features\u001B[0;34m(self, original_image, caption, pca)\u001B[0m\n\u001B[1;32m     94\u001B[0m     features \u001B[38;5;241m=\u001B[39m \u001B[38;5;28mself\u001B[39m\u001B[38;5;241m.\u001B[39mmodel\u001B[38;5;241m.\u001B[39mget_features([inputs],caption,pca\u001B[38;5;241m=\u001B[39mpca)\n\u001B[1;32m     95\u001B[0m \u001B[38;5;28;01melse\u001B[39;00m:\n\u001B[0;32m---> 96\u001B[0m     features \u001B[38;5;241m=\u001B[39m \u001B[38;5;28;43mself\u001B[39;49m\u001B[38;5;241;43m.\u001B[39;49m\u001B[43mmodel\u001B[49m\u001B[38;5;241;43m.\u001B[39;49m\u001B[43mget_features\u001B[49m\u001B[43m(\u001B[49m\u001B[43m[\u001B[49m\u001B[43minputs\u001B[49m\u001B[43m]\u001B[49m\u001B[43m,\u001B[49m\u001B[43mpca\u001B[49m\u001B[38;5;241;43m=\u001B[39;49m\u001B[43mpca\u001B[49m\u001B[43m)\u001B[49m\n\u001B[1;32m     97\u001B[0m \u001B[38;5;28;01mreturn\u001B[39;00m features\n",
      "File \u001B[0;32m/run/media/kilian/Extern_SSD/Robot_Vision/ZS6D/zs6d-sd-dino/sd-dino/third_party/ODISE/odise/modeling/wrapper/pano_wrapper.py:63\u001B[0m, in \u001B[0;36mOpenPanopticInference.get_features\u001B[0;34m(self, batched_inputs, caption, pca)\u001B[0m\n\u001B[1;32m     61\u001B[0m _open_state_dict \u001B[38;5;241m=\u001B[39m \u001B[38;5;28mself\u001B[39m\u001B[38;5;241m.\u001B[39mmodel\u001B[38;5;241m.\u001B[39mopen_state_dict()\n\u001B[1;32m     62\u001B[0m \u001B[38;5;28mself\u001B[39m\u001B[38;5;241m.\u001B[39mmodel\u001B[38;5;241m.\u001B[39mload_open_state_dict(\u001B[38;5;28mself\u001B[39m\u001B[38;5;241m.\u001B[39mopen_state_dict)\n\u001B[0;32m---> 63\u001B[0m results \u001B[38;5;241m=\u001B[39m \u001B[38;5;28mself\u001B[39m\u001B[38;5;241m.\u001B[39mmodel\u001B[38;5;241m.\u001B[39mget_features(batched_inputs, caption, pca\u001B[38;5;241m=\u001B[39mpca) \u001B[38;5;28;01mif\u001B[39;00m caption \u001B[38;5;129;01mis\u001B[39;00m \u001B[38;5;129;01mnot\u001B[39;00m \u001B[38;5;28;01mNone\u001B[39;00m \u001B[38;5;28;01melse\u001B[39;00m \u001B[38;5;28;43mself\u001B[39;49m\u001B[38;5;241;43m.\u001B[39;49m\u001B[43mmodel\u001B[49m\u001B[38;5;241;43m.\u001B[39;49m\u001B[43mget_features\u001B[49m\u001B[43m(\u001B[49m\u001B[43mbatched_inputs\u001B[49m\u001B[43m,\u001B[49m\u001B[43m \u001B[49m\u001B[43mpca\u001B[49m\u001B[38;5;241;43m=\u001B[39;49m\u001B[43mpca\u001B[49m\u001B[43m)\u001B[49m\n\u001B[1;32m     64\u001B[0m \u001B[38;5;28;01mreturn\u001B[39;00m results\n",
      "File \u001B[0;32m/run/media/kilian/Extern_SSD/Robot_Vision/ZS6D/zs6d-sd-dino/sd-dino/third_party/ODISE/odise/modeling/meta_arch/odise.py:217\u001B[0m, in \u001B[0;36mCategoryODISE.get_features\u001B[0;34m(self, batched_inputs, caption, pca)\u001B[0m\n\u001B[1;32m    215\u001B[0m     features \u001B[38;5;241m=\u001B[39m \u001B[38;5;28mself\u001B[39m\u001B[38;5;241m.\u001B[39mbackbone(images\u001B[38;5;241m.\u001B[39mtensor, caption, raw\u001B[38;5;241m=\u001B[39mpca)\n\u001B[1;32m    216\u001B[0m \u001B[38;5;28;01melse\u001B[39;00m:\n\u001B[0;32m--> 217\u001B[0m     features \u001B[38;5;241m=\u001B[39m \u001B[38;5;28;43mself\u001B[39;49m\u001B[38;5;241;43m.\u001B[39;49m\u001B[43mbackbone\u001B[49m\u001B[43m(\u001B[49m\u001B[43mimages\u001B[49m\u001B[38;5;241;43m.\u001B[39;49m\u001B[43mtensor\u001B[49m\u001B[43m,\u001B[49m\u001B[43m \u001B[49m\u001B[43mraw\u001B[49m\u001B[38;5;241;43m=\u001B[39;49m\u001B[43mpca\u001B[49m\u001B[43m)\u001B[49m\n\u001B[1;32m    218\u001B[0m \u001B[38;5;28;01mreturn\u001B[39;00m features\n",
      "File \u001B[0;32m~/miniforge3/envs/zs6d-sd-dino/lib/python3.9/site-packages/torch/nn/modules/module.py:1194\u001B[0m, in \u001B[0;36mModule._call_impl\u001B[0;34m(self, *input, **kwargs)\u001B[0m\n\u001B[1;32m   1190\u001B[0m \u001B[38;5;66;03m# If we don't have any hooks, we want to skip the rest of the logic in\u001B[39;00m\n\u001B[1;32m   1191\u001B[0m \u001B[38;5;66;03m# this function, and just call forward.\u001B[39;00m\n\u001B[1;32m   1192\u001B[0m \u001B[38;5;28;01mif\u001B[39;00m \u001B[38;5;129;01mnot\u001B[39;00m (\u001B[38;5;28mself\u001B[39m\u001B[38;5;241m.\u001B[39m_backward_hooks \u001B[38;5;129;01mor\u001B[39;00m \u001B[38;5;28mself\u001B[39m\u001B[38;5;241m.\u001B[39m_forward_hooks \u001B[38;5;129;01mor\u001B[39;00m \u001B[38;5;28mself\u001B[39m\u001B[38;5;241m.\u001B[39m_forward_pre_hooks \u001B[38;5;129;01mor\u001B[39;00m _global_backward_hooks\n\u001B[1;32m   1193\u001B[0m         \u001B[38;5;129;01mor\u001B[39;00m _global_forward_hooks \u001B[38;5;129;01mor\u001B[39;00m _global_forward_pre_hooks):\n\u001B[0;32m-> 1194\u001B[0m     \u001B[38;5;28;01mreturn\u001B[39;00m \u001B[43mforward_call\u001B[49m\u001B[43m(\u001B[49m\u001B[38;5;241;43m*\u001B[39;49m\u001B[38;5;28;43minput\u001B[39;49m\u001B[43m,\u001B[49m\u001B[43m \u001B[49m\u001B[38;5;241;43m*\u001B[39;49m\u001B[38;5;241;43m*\u001B[39;49m\u001B[43mkwargs\u001B[49m\u001B[43m)\u001B[49m\n\u001B[1;32m   1195\u001B[0m \u001B[38;5;66;03m# Do not call functions when jit is used\u001B[39;00m\n\u001B[1;32m   1196\u001B[0m full_backward_hooks, non_full_backward_hooks \u001B[38;5;241m=\u001B[39m [], []\n",
      "File \u001B[0;32m/run/media/kilian/Extern_SSD/Robot_Vision/ZS6D/zs6d-sd-dino/sd-dino/third_party/ODISE/odise/modeling/backbone/feature_extractor.py:265\u001B[0m, in \u001B[0;36mFeatureExtractorBackbone.forward\u001B[0;34m(self, img, caption, raw)\u001B[0m\n\u001B[1;32m    263\u001B[0m     \u001B[38;5;28;01mreturn\u001B[39;00m \u001B[38;5;28mself\u001B[39m\u001B[38;5;241m.\u001B[39msingle_forward(img,caption,raw)\n\u001B[1;32m    264\u001B[0m \u001B[38;5;28;01melse\u001B[39;00m:\n\u001B[0;32m--> 265\u001B[0m     \u001B[38;5;28;01mreturn\u001B[39;00m \u001B[38;5;28;43mself\u001B[39;49m\u001B[38;5;241;43m.\u001B[39;49m\u001B[43mslide_forward\u001B[49m\u001B[43m(\u001B[49m\u001B[43mimg\u001B[49m\u001B[43m,\u001B[49m\u001B[43mcaption\u001B[49m\u001B[43m,\u001B[49m\u001B[43mraw\u001B[49m\u001B[43m)\u001B[49m\n",
      "File \u001B[0;32m/run/media/kilian/Extern_SSD/Robot_Vision/ZS6D/zs6d-sd-dino/sd-dino/third_party/ODISE/odise/modeling/backbone/feature_extractor.py:252\u001B[0m, in \u001B[0;36mFeatureExtractorBackbone.slide_forward\u001B[0;34m(self, img, caption, raw)\u001B[0m\n\u001B[1;32m    241\u001B[0m             k_y2 \u001B[38;5;241m=\u001B[39m y2 \u001B[38;5;241m/\u001B[39m\u001B[38;5;241m/\u001B[39m (\u001B[38;5;28mself\u001B[39m\u001B[38;5;241m.\u001B[39m_out_feature_strides[k] \u001B[38;5;241m*\u001B[39m scale)\n\u001B[1;32m    242\u001B[0m             \u001B[38;5;66;03m# output_features[k] += F.pad(\u001B[39;00m\n\u001B[1;32m    243\u001B[0m             \u001B[38;5;66;03m#     crop_features[k],\u001B[39;00m\n\u001B[1;32m    244\u001B[0m             \u001B[38;5;66;03m#     (\u001B[39;00m\n\u001B[0;32m   (...)\u001B[0m\n\u001B[1;32m    250\u001B[0m             \u001B[38;5;66;03m# )\u001B[39;00m\n\u001B[1;32m    251\u001B[0m             \u001B[38;5;66;03m# this version should save some memory\u001B[39;00m\n\u001B[0;32m--> 252\u001B[0m             output_features[k][:, :, k_y1:k_y2, k_x1:k_x2] \u001B[38;5;241m+\u001B[39m\u001B[38;5;241m=\u001B[39m crop_features[k]\n\u001B[1;32m    253\u001B[0m             count_mats[k][\u001B[38;5;241m.\u001B[39m\u001B[38;5;241m.\u001B[39m\u001B[38;5;241m.\u001B[39m, k_y1:k_y2, k_x1:k_x2] \u001B[38;5;241m+\u001B[39m\u001B[38;5;241m=\u001B[39m \u001B[38;5;241m1\u001B[39m\n\u001B[1;32m    254\u001B[0m \u001B[38;5;28;01massert\u001B[39;00m \u001B[38;5;28mall\u001B[39m((count_mats[k] \u001B[38;5;241m==\u001B[39m \u001B[38;5;241m0\u001B[39m)\u001B[38;5;241m.\u001B[39msum() \u001B[38;5;241m==\u001B[39m \u001B[38;5;241m0\u001B[39m \u001B[38;5;28;01mfor\u001B[39;00m k \u001B[38;5;129;01min\u001B[39;00m count_mats)\n",
      "\u001B[0;31mRuntimeError\u001B[0m: The size of tensor a (7) must match the size of tensor b (8) at non-singleton dimension 3"
     ]
    }
   ],
   "execution_count": 3
  },
  {
   "metadata": {},
   "cell_type": "code",
   "outputs": [],
   "execution_count": null,
   "source": "",
   "id": "7b578ede0e4bfa00"
  }
 ],
 "metadata": {
  "kernelspec": {
   "display_name": "Python 3",
   "language": "python",
   "name": "python3"
  },
  "language_info": {
   "codemirror_mode": {
    "name": "ipython",
    "version": 2
   },
   "file_extension": ".py",
   "mimetype": "text/x-python",
   "name": "python",
   "nbconvert_exporter": "python",
   "pygments_lexer": "ipython2",
   "version": "2.7.6"
  }
 },
 "nbformat": 4,
 "nbformat_minor": 5
}
